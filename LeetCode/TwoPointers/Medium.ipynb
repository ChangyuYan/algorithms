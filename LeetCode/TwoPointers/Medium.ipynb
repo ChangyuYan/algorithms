{
 "cells": [
  {
   "cell_type": "markdown",
   "metadata": {},
   "source": [
    "# 763. Partition Labels\n",
    "\n",
    "A string S of lowercase letters is given. We want to partition this string into as many parts as possible so that each letter appears in at most one part, and return a list of integers representing the size of these parts.\n",
    "\n",
    "Example 1:\n",
    "```\n",
    "Input: S = \"ababcbacadefegdehijhklij\"\n",
    "Output: [9,7,8]\n",
    "Explanation:\n",
    "The partition is \"ababcbaca\", \"defegde\", \"hijhklij\".\n",
    "This is a partition so that each letter appears in at most one part.\n",
    "A partition like \"ababcbacadefegde\", \"hijhklij\" is incorrect, because it splits S into less parts.\n",
    "```"
   ]
  },
  {
   "cell_type": "code",
   "execution_count": 2,
   "metadata": {},
   "outputs": [],
   "source": [
    "class Solution:\n",
    "    def partitionLabels(self, S: str):\n",
    "        \n",
    "        size = len(S)\n",
    "        \n",
    "        last_pos= {}\n",
    "        \n",
    "        for i in range(size - 1, -1, -1):\n",
    "            if S[i] not in last_pos:\n",
    "                last_pos[S[i]] = i\n",
    "                \n",
    "        res = []\n",
    "        last = 0\n",
    "        \n",
    "        for i in range(size):\n",
    "            k = last_pos[S[i]]\n",
    "            if k > last:\n",
    "                last = k\n",
    "            if i == last:\n",
    "                res.append(i)\n",
    "        \n",
    "        for i in range(len(res) - 1, 0, -1):\n",
    "            res[i] = res[i] - res[i - 1]\n",
    "        \n",
    "        res[0] = res[0] + 1\n",
    "        \n",
    "        return res"
   ]
  },
  {
   "cell_type": "markdown",
   "metadata": {},
   "source": [
    "# 287. Find the Duplicate Number\n",
    "\n",
    "Given an array nums containing n + 1 integers where each integer is between 1 and n (inclusive), prove that at least one duplicate number must exist. Assume that there is only one duplicate number, find the duplicate one.\n",
    "\n",
    "Example 1:\n",
    "```\n",
    "Input: [1,3,4,2,2]\n",
    "Output: 2\n",
    "```\n",
    "Example 2:\n",
    "```\n",
    "Input: [3,1,3,4,2]\n",
    "Output: 3\n",
    "```\n",
    "Note:\n",
    "\n",
    "- You must not modify the array (assume the array is read only).\n",
    "- You must use only constant, O(1) extra space.\n",
    "- Your runtime complexity should be less than O(n2).\n",
    "- There is only one duplicate number in the array, but it could be repeated more than once."
   ]
  },
  {
   "cell_type": "code",
   "execution_count": 1,
   "metadata": {},
   "outputs": [],
   "source": [
    "class Solution:\n",
    "    def findDuplicate(self, nums):\n",
    "        slow = fast = finder = 0\n",
    "        while True:\n",
    "            slow = nums[slow]\n",
    "            fast = nums[nums[fast]]\n",
    "            if slow == fast:\n",
    "                while finder != slow:\n",
    "                    finder = nums[finder]\n",
    "                    slow = nums[slow]\n",
    "                return finder    "
   ]
  },
  {
   "cell_type": "code",
   "execution_count": null,
   "metadata": {},
   "outputs": [],
   "source": []
  }
 ],
 "metadata": {
  "kernelspec": {
   "display_name": "Python 3",
   "language": "python",
   "name": "python3"
  },
  "language_info": {
   "codemirror_mode": {
    "name": "ipython",
    "version": 3
   },
   "file_extension": ".py",
   "mimetype": "text/x-python",
   "name": "python",
   "nbconvert_exporter": "python",
   "pygments_lexer": "ipython3",
   "version": "3.6.8"
  }
 },
 "nbformat": 4,
 "nbformat_minor": 2
}
