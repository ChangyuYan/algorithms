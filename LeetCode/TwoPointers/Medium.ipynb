{
 "cells": [
  {
   "cell_type": "markdown",
   "metadata": {},
   "source": [
    "# 763. Partition Labels\n",
    "\n",
    "A string S of lowercase letters is given. We want to partition this string into as many parts as possible so that each letter appears in at most one part, and return a list of integers representing the size of these parts.\n",
    "\n",
    "Example 1:\n",
    "```\n",
    "Input: S = \"ababcbacadefegdehijhklij\"\n",
    "Output: [9,7,8]\n",
    "Explanation:\n",
    "The partition is \"ababcbaca\", \"defegde\", \"hijhklij\".\n",
    "This is a partition so that each letter appears in at most one part.\n",
    "A partition like \"ababcbacadefegde\", \"hijhklij\" is incorrect, because it splits S into less parts.\n",
    "```"
   ]
  },
  {
   "cell_type": "code",
   "execution_count": 2,
   "metadata": {},
   "outputs": [],
   "source": [
    "class Solution:\n",
    "    def partitionLabels(self, S: str):\n",
    "        \n",
    "        size = len(S)\n",
    "        \n",
    "        last_pos= {}\n",
    "        \n",
    "        for i in range(size - 1, -1, -1):\n",
    "            if S[i] not in last_pos:\n",
    "                last_pos[S[i]] = i\n",
    "                \n",
    "        res = []\n",
    "        last = 0\n",
    "        \n",
    "        for i in range(size):\n",
    "            k = last_pos[S[i]]\n",
    "            if k > last:\n",
    "                last = k\n",
    "            if i == last:\n",
    "                res.append(i)\n",
    "        \n",
    "        for i in range(len(res) - 1, 0, -1):\n",
    "            res[i] = res[i] - res[i - 1]\n",
    "        \n",
    "        res[0] = res[0] + 1\n",
    "        \n",
    "        return res"
   ]
  },
  {
   "cell_type": "markdown",
   "metadata": {},
   "source": [
    "# 723. Candy Crush\n",
    "\n",
    "This question is about implementing a basic elimination algorithm for Candy Crush.\n",
    "\n",
    "Given a 2D integer array board representing the grid of candy, different positive integers board[i][j] represent different types of candies. A value of board[i][j] = 0 represents that the cell at position (i, j) is empty. The given board represents the state of the game following the player's move. Now, you need to restore the board to a stable state by crushing candies according to the following rules:\n",
    "\n",
    "If three or more candies of the same type are adjacent vertically or horizontally, \"crush\" them all at the same time - these positions become empty.\n",
    "After crushing all candies simultaneously, if an empty space on the board has candies on top of itself, then these candies will drop until they hit a candy or bottom at the same time. (No new candies will drop outside the top boundary.)\n",
    "After the above steps, there may exist more candies that can be crushed. If so, you need to repeat the above steps.\n",
    "If there does not exist more candies that can be crushed (ie. the board is stable), then return the current board.\n",
    "You need to perform the above rules until the board becomes stable, then return the current board. \n",
    "\n",
    "<img src=\"723.png\">"
   ]
  },
  {
   "cell_type": "code",
   "execution_count": null,
   "metadata": {},
   "outputs": [],
   "source": []
  }
 ],
 "metadata": {
  "kernelspec": {
   "display_name": "Python 3",
   "language": "python",
   "name": "python3"
  },
  "language_info": {
   "codemirror_mode": {
    "name": "ipython",
    "version": 3
   },
   "file_extension": ".py",
   "mimetype": "text/x-python",
   "name": "python",
   "nbconvert_exporter": "python",
   "pygments_lexer": "ipython3",
   "version": "3.6.8"
  }
 },
 "nbformat": 4,
 "nbformat_minor": 2
}
