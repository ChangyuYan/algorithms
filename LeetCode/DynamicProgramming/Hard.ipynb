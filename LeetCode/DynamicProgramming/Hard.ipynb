{
 "cells": [
  {
   "cell_type": "markdown",
   "metadata": {},
   "source": [
    "# 174. Dungeon Game\n",
    "\n",
    "The demons had captured the princess (P) and imprisoned her in the bottom-right corner of a dungeon. The dungeon consists of M x N rooms laid out in a 2D grid. Our valiant knight (K) was initially positioned in the top-left room and must fight his way through the dungeon to rescue the princess.\n",
    "\n",
    "The knight has an initial health point represented by a positive integer. If at any point his health point drops to 0 or below, he dies immediately.\n",
    "\n",
    "Some of the rooms are guarded by demons, so the knight loses health (negative integers) upon entering these rooms; other rooms are either empty (0's) or contain magic orbs that increase the knight's health (positive integers).\n",
    "\n",
    "In order to reach the princess as quickly as possible, the knight decides to move only rightward or downward in each step.\n",
    "\n",
    " \n",
    "\n",
    "**Write a function to determine the knight's minimum initial health so that he is able to rescue the princess.**\n",
    "\n",
    "For example, given the dungeon below, the initial health of the knight must be at least 7 if he follows the optimal path `RIGHT-> RIGHT -> DOWN -> DOWN`.\n",
    "\n",
    "Note:\n",
    "\n",
    "- The knight's health has no upper bound.\n",
    "- Any room can contain threats or power-ups, even the first room the knight enters and the bottom-right room where the princess is imprisoned."
   ]
  },
  {
   "cell_type": "code",
   "execution_count": 1,
   "metadata": {},
   "outputs": [],
   "source": [
    "import sys\n",
    "INTMAX = sys.maxsize\n",
    "\n",
    "class Solution:\n",
    "    def calculateMinimumHP(self, d: \"List[List[int]]\") -> int:\n",
    "        rows = len(d)\n",
    "        cols = len(d[0])\n",
    "        \n",
    "        # res[y][x]: min hp required to reach bottom right (P)\n",
    "        res = [[INTMAX for x in range(cols + 1)] for y in range(rows + 1)]\n",
    "        res[rows][cols-1] = res[rows-1][cols] = 1\n",
    "        \n",
    "        \n",
    "        for r in range(rows-1, -1, -1):\n",
    "            for c in range(cols - 1, -1, -1):\n",
    "                res[r][c] = max(1, min(res[r+1][c], res[r][c+1]) - d[r][c])\n",
    "        \n",
    "        return res[0][0]"
   ]
  },
  {
   "cell_type": "markdown",
   "metadata": {},
   "source": [
    "# 312. Burst Balloons\n",
    "Given n balloons, indexed from 0 to n-1. Each balloon is painted with a number on it represented by array nums. You are asked to burst all the balloons. If the you burst balloon i you will get nums[left] * nums[i] * nums[right] coins. Here left and right are adjacent indices of i. After the burst, the left and right then becomes adjacent.\n",
    "\n",
    "Find the maximum coins you can collect by bursting the balloons wisely.\n",
    "\n",
    "Note:\n",
    "\n",
    "- You may imagine nums[-1] = nums[n] = 1. They are not real therefore you can not burst them.\n",
    "- 0 ≤ n ≤ 500, 0 ≤ nums[i] ≤ 100\n",
    "\n",
    "Example:\n",
    "```\n",
    "Input: [3,1,5,8]\n",
    "Output: 167 \n",
    "Explanation: nums = [3,1,5,8] --> [3,5,8] -->   [3,8]   -->  [8]  --> []\n",
    "             coins =  3*1*5      +  3*5*8    +  1*3*8      + 1*8*1   = 167\n",
    "```"
   ]
  },
  {
   "cell_type": "code",
   "execution_count": 2,
   "metadata": {},
   "outputs": [],
   "source": [
    "class Solution:\n",
    "    def maxCoins(self, nums: \"List[int]\") -> int:\n",
    "        size = len(nums)\n",
    "        nums.insert(0, 1)\n",
    "        nums.append(1)\n",
    "        \n",
    "        # c[i][j] = maxCoins(nums[i: j + 1])\n",
    "        c = [[0 for x in range(size + 2)] for y in range(size + 2)]\n",
    "        \n",
    "        for l in range(1, size + 1): # 1 <= l <= size\n",
    "            for i in range(1, size - l + 2): # 1 <= i <= n - l + 1\n",
    "                j = i + l - 1\n",
    "                for k in range(i, j + 1): # i <= k <= j + 1\n",
    "                    c[i][j] = max(c[i][j], \n",
    "                                  c[i][k - 1] + nums[i - 1] * nums[k] * nums[j + 1] + c[k + 1][j])\n",
    "        \n",
    "        return c[1][size]"
   ]
  },
  {
   "cell_type": "code",
   "execution_count": null,
   "metadata": {},
   "outputs": [],
   "source": []
  }
 ],
 "metadata": {
  "kernelspec": {
   "display_name": "Python 3",
   "language": "python",
   "name": "python3"
  },
  "language_info": {
   "codemirror_mode": {
    "name": "ipython",
    "version": 3
   },
   "file_extension": ".py",
   "mimetype": "text/x-python",
   "name": "python",
   "nbconvert_exporter": "python",
   "pygments_lexer": "ipython3",
   "version": "3.6.8"
  }
 },
 "nbformat": 4,
 "nbformat_minor": 2
}
