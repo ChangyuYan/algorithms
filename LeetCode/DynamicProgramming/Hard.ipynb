{
 "cells": [
  {
   "cell_type": "markdown",
   "metadata": {},
   "source": [
    "# 174. Dungeon Game\n",
    "\n",
    "The demons had captured the princess (P) and imprisoned her in the bottom-right corner of a dungeon. The dungeon consists of M x N rooms laid out in a 2D grid. Our valiant knight (K) was initially positioned in the top-left room and must fight his way through the dungeon to rescue the princess.\n",
    "\n",
    "The knight has an initial health point represented by a positive integer. If at any point his health point drops to 0 or below, he dies immediately.\n",
    "\n",
    "Some of the rooms are guarded by demons, so the knight loses health (negative integers) upon entering these rooms; other rooms are either empty (0's) or contain magic orbs that increase the knight's health (positive integers).\n",
    "\n",
    "In order to reach the princess as quickly as possible, the knight decides to move only rightward or downward in each step.\n",
    "\n",
    " \n",
    "\n",
    "**Write a function to determine the knight's minimum initial health so that he is able to rescue the princess.**\n",
    "\n",
    "For example, given the dungeon below, the initial health of the knight must be at least 7 if he follows the optimal path `RIGHT-> RIGHT -> DOWN -> DOWN`.\n",
    "\n",
    "Note:\n",
    "\n",
    "- The knight's health has no upper bound.\n",
    "- Any room can contain threats or power-ups, even the first room the knight enters and the bottom-right room where the princess is imprisoned."
   ]
  },
  {
   "cell_type": "code",
   "execution_count": 1,
   "metadata": {},
   "outputs": [],
   "source": [
    "import sys\n",
    "INTMAX = sys.maxsize\n",
    "\n",
    "class Solution:\n",
    "    def calculateMinimumHP(self, d: \"List[List[int]]\") -> int:\n",
    "        rows = len(d)\n",
    "        cols = len(d[0])\n",
    "        \n",
    "        # res[y][x]: min hp required to reach bottom right (P)\n",
    "        res = [[INTMAX for x in range(cols + 1)] for y in range(rows + 1)]\n",
    "        res[rows][cols-1] = res[rows-1][cols] = 1\n",
    "        \n",
    "        \n",
    "        for r in range(rows-1, -1, -1):\n",
    "            for c in range(cols - 1, -1, -1):\n",
    "                res[r][c] = max(1, min(res[r+1][c], res[r][c+1]) - d[r][c])\n",
    "        \n",
    "        return res[0][0]"
   ]
  },
  {
   "cell_type": "code",
   "execution_count": null,
   "metadata": {},
   "outputs": [],
   "source": []
  }
 ],
 "metadata": {
  "kernelspec": {
   "display_name": "Python 3",
   "language": "python",
   "name": "python3"
  },
  "language_info": {
   "codemirror_mode": {
    "name": "ipython",
    "version": 3
   },
   "file_extension": ".py",
   "mimetype": "text/x-python",
   "name": "python",
   "nbconvert_exporter": "python",
   "pygments_lexer": "ipython3",
   "version": "3.6.8"
  }
 },
 "nbformat": 4,
 "nbformat_minor": 2
}
