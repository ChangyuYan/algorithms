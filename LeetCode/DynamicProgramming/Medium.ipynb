{
 "cells": [
  {
   "cell_type": "markdown",
   "metadata": {},
   "source": [
    "# 338. Counting Bits\n",
    "Given a non negative integer number num. For every numbers i in the range 0 ≤ i ≤ num calculate the number of 1's in their binary representation and return them as an array.\n",
    "\n",
    "Example 1:\n",
    "```\n",
    "Input: 2\n",
    "Output: [0,1,1]\n",
    "```\n",
    "Example 2:\n",
    "```\n",
    "Input: 5\n",
    "Output: [0,1,1,2,1,2]\n",
    "```"
   ]
  },
  {
   "cell_type": "code",
   "execution_count": 1,
   "metadata": {},
   "outputs": [],
   "source": [
    "class Solution:\n",
    "    def countBits(self, num):\n",
    "        \"\"\"\n",
    "        :type num: int\n",
    "        :rtype: List[int]\n",
    "        \"\"\"\n",
    "        res = [0]\n",
    "        \n",
    "        while len(res) < num + 1:\n",
    "            res += [x + 1 for x in res]\n",
    "        \n",
    "        return res[0 : num+1]"
   ]
  },
  {
   "cell_type": "markdown",
   "metadata": {},
   "source": [
    "# 967. Numbers With Same Consecutive Differences\n",
    "\n",
    "Return all non-negative integers of length N such that the absolute difference between every two consecutive digits is K.\n",
    "\n",
    "Note that every number in the answer must not have leading zeros except for the number 0 itself. For example, 01 has one leading zero and is invalid, but 0 is valid.\n",
    "\n",
    "You may return the answer in any order.\n",
    "\n",
    " \n",
    "\n",
    "Example 1:\n",
    "```\n",
    "Input: N = 3, K = 7\n",
    "Output: [181,292,707,818,929]\n",
    "Explanation: Note that 070 is not a valid number, because it has leading zeroes.\n",
    "```\n",
    "Example 2:\n",
    "```\n",
    "Input: N = 2, K = 1\n",
    "Output: [10,12,21,23,32,34,43,45,54,56,65,67,76,78,87,89,98]\n",
    "```\n",
    "\n",
    "Note:\n",
    "`1 <= N <= 9`\n",
    "`0 <= K <= 9`"
   ]
  },
  {
   "cell_type": "code",
   "execution_count": 1,
   "metadata": {},
   "outputs": [],
   "source": [
    "class Solution:\n",
    "    def numsSameConsecDiff(self, N, K):\n",
    "        \"\"\"\n",
    "        :type N: int\n",
    "        :type K: int\n",
    "        :rtype: List[int]\n",
    "        \"\"\"\n",
    "        res = []\n",
    "        \n",
    "        if N == 1: \n",
    "            res.append(0)\n",
    "        for i in range(1, 10):\n",
    "            self.dfs(N - 1, K, i, res)\n",
    "        \n",
    "        return res\n",
    "    \n",
    "    def dfs(self, N, K, curr, res):\n",
    "        if N == 0:\n",
    "            res.append(curr)\n",
    "            return\n",
    "        l = curr % 10\n",
    "        if l + K <= 9:\n",
    "            self.dfs(N - 1, K, curr * 10 + l + K, res)\n",
    "        if l - K >= 0 and K != 0:\n",
    "            self.dfs(N - 1, K, curr * 10 + l - K, res)"
   ]
  },
  {
   "cell_type": "code",
   "execution_count": null,
   "metadata": {},
   "outputs": [],
   "source": []
  }
 ],
 "metadata": {
  "kernelspec": {
   "display_name": "Python 3",
   "language": "python",
   "name": "python3"
  },
  "language_info": {
   "codemirror_mode": {
    "name": "ipython",
    "version": 3
   },
   "file_extension": ".py",
   "mimetype": "text/x-python",
   "name": "python",
   "nbconvert_exporter": "python",
   "pygments_lexer": "ipython3",
   "version": "3.6.8"
  }
 },
 "nbformat": 4,
 "nbformat_minor": 2
}
