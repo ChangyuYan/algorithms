{
 "cells": [
  {
   "cell_type": "markdown",
   "metadata": {},
   "source": [
    "# 338. Counting Bits\n",
    "Given a non negative integer number num. For every numbers i in the range 0 ≤ i ≤ num calculate the number of 1's in their binary representation and return them as an array.\n",
    "\n",
    "Example 1:\n",
    "```\n",
    "Input: 2\n",
    "Output: [0,1,1]\n",
    "```\n",
    "Example 2:\n",
    "```\n",
    "Input: 5\n",
    "Output: [0,1,1,2,1,2]\n",
    "```"
   ]
  },
  {
   "cell_type": "code",
   "execution_count": 1,
   "metadata": {},
   "outputs": [],
   "source": [
    "class Solution:\n",
    "    def countBits(self, num):\n",
    "        \"\"\"\n",
    "        :type num: int\n",
    "        :rtype: List[int]\n",
    "        \"\"\"\n",
    "        res = [0]\n",
    "        \n",
    "        while len(res) < num + 1:\n",
    "            res += [x+1 for x in res]\n",
    "        \n",
    "        return res[0:num+1]"
   ]
  },
  {
   "cell_type": "markdown",
   "metadata": {},
   "source": [
    "---\n",
    "# 750. Number Of Corner Rectangles\n",
    "Given a grid where each entry is only 0 or 1, find the number of corner rectangles.\n",
    "\n",
    "A corner rectangle is 4 distinct 1s on the grid that form an axis-aligned rectangle. Note that only the corners need to have the value 1. Also, all four 1s used must be distinct.\n",
    "\n",
    " \n",
    "\n",
    "Example 1:\n",
    "```\n",
    "Input: grid = \n",
    "[[1, 0, 0, 1, 0],\n",
    " [0, 0, 1, 0, 1],\n",
    " [0, 0, 0, 1, 0],\n",
    " [1, 0, 1, 0, 1]]\n",
    "Output: 1\n",
    "Explanation: There is only one corner rectangle, with corners grid[1][2], grid[1][4], grid[3][2], grid[3][4].\n",
    "```\n",
    "\n",
    "Example 2:\n",
    "```\n",
    "Input: grid = \n",
    "[[1, 1, 1],\n",
    " [1, 1, 1],\n",
    " [1, 1, 1]]\n",
    "Output: 9\n",
    "Explanation: There are four 2x2 rectangles, four 2x3 and 3x2 rectangles, and one 3x3 rectangle.\n",
    "```\n",
    "\n",
    "Example 3:\n",
    "```\n",
    "Input: grid = \n",
    "[[1, 1, 1, 1]]\n",
    "Output: 0\n",
    "Explanation: Rectangles must have four distinct corners.\n",
    "```"
   ]
  },
  {
   "cell_type": "code",
   "execution_count": null,
   "metadata": {},
   "outputs": [],
   "source": []
  }
 ],
 "metadata": {
  "kernelspec": {
   "display_name": "Python 3",
   "language": "python",
   "name": "python3"
  },
  "language_info": {
   "codemirror_mode": {
    "name": "ipython",
    "version": 3
   },
   "file_extension": ".py",
   "mimetype": "text/x-python",
   "name": "python",
   "nbconvert_exporter": "python",
   "pygments_lexer": "ipython3",
   "version": "3.6.8"
  }
 },
 "nbformat": 4,
 "nbformat_minor": 2
}
