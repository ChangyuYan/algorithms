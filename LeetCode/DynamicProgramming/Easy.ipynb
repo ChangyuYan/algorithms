{
 "cells": [
  {
   "cell_type": "markdown",
   "metadata": {},
   "source": [
    "# 256. Paint House"
   ]
  },
  {
   "cell_type": "markdown",
   "metadata": {},
   "source": [
    "There are a row of n houses, each house can be painted with one of the three colors: red, blue or green. The cost of painting each house with a certain color is different. You have to paint all the houses such that no two adjacent houses have the same color.\n",
    "\n",
    "The cost of painting each house with a certain color is represented by a n x 3 cost matrix. For example, `costs[0][0]` is the cost of painting house 0 with color red; `costs[1][2]` is the cost of painting house 1 with color green, and so on... Find the minimum cost to paint all houses.\n",
    "\n",
    "Note:\n",
    "All costs are positive integers.\n",
    "\n",
    "Example:\n",
    "```\n",
    "Input: [[17,2,17],[16,16,5],[14,3,19]]\n",
    "Output: 10\n",
    "Explanation: Paint house 0 into blue, paint house 1 into green, paint house 2 into blue. \n",
    "             Minimum cost: 2 + 5 + 3 = 10.\n",
    "             ```"
   ]
  },
  {
   "cell_type": "code",
   "execution_count": 1,
   "metadata": {},
   "outputs": [],
   "source": [
    "class Solution:\n",
    "    def minCost(self, costs: \"List[List[int]]\") -> int:\n",
    "        prev = [0] * 3\n",
    "        for now in costs:\n",
    "            prev = [now[i] + min(prev[:i] + prev[i+1:]) for i in range(3)]\n",
    "        return min(prev)"
   ]
  },
  {
   "cell_type": "markdown",
   "metadata": {},
   "source": [
    "---\n",
    "# 121. Best Time to Buy and Sell Stock\n",
    "Say you have an array for which the ith element is the price of a given stock on day i.\n",
    "\n",
    "If you were only permitted to complete at most one transaction (i.e., buy one and sell one share of the stock), design an algorithm to find the maximum profit.\n",
    "\n",
    "Note that you cannot sell a stock before you buy one.\n",
    "\n",
    "Example 1:\n",
    "```\n",
    "Input: [7,1,5,3,6,4]\n",
    "Output: 5\n",
    "Explanation: Buy on day 2 (price = 1) and sell on day 5 (price = 6), profit = 6-1 = 5.\n",
    "             Not 7-1 = 6, as selling price needs to be larger than buying price.\n",
    "```\n",
    "Example 2:\n",
    "```\n",
    "Input: [7,6,4,3,1]\n",
    "Output: 0\n",
    "Explanation: In this case, no transaction is done, i.e. max profit = 0.\n",
    "```"
   ]
  },
  {
   "cell_type": "code",
   "execution_count": 2,
   "metadata": {},
   "outputs": [],
   "source": [
    "class Solution:\n",
    "    def maxProfit(self, prices):\n",
    "        length = len(prices)\n",
    "        \n",
    "        if length==0:\n",
    "            return 0\n",
    "        \n",
    "        temp = prices[length-1]\n",
    "        \n",
    "        res = 0\n",
    "        \n",
    "        for i in range(length-1,-1,-1):\n",
    "            temp = max(temp,prices[i])\n",
    "            if temp - prices[i] > res:\n",
    "                res = temp - prices[i]\n",
    "        return res"
   ]
  },
  {
   "cell_type": "markdown",
   "metadata": {},
   "source": [
    "---\n",
    "# 746. Min Cost Climbing Stairs\n",
    "On a staircase, the i-th step has some non-negative cost `cost[i]` assigned (0 indexed).\n",
    "\n",
    "Once you pay the cost, you can either climb one or two steps. You need to find minimum cost to reach the top of the floor, and you can either start from the step with index 0, or the step with index 1.\n",
    "\n",
    "Example 1:\n",
    "```\n",
    "Input: cost = [10, 15, 20]\n",
    "Output: 15\n",
    "Explanation: Cheapest is start on cost[1], pay that cost and go to the top.\n",
    "```\n",
    "Example 2:\n",
    "```\n",
    "Input: cost = [1, 100, 1, 1, 1, 100, 1, 1, 100, 1]\n",
    "Output: 6\n",
    "Explanation: Cheapest is start on cost[0], and only step on 1s, skipping cost[3].\n",
    "```\n",
    "Note:\n",
    "1. `cost` will have a length in the range `[2, 1000]`.\n",
    "2. Every `cost[i]` will be an integer in the range `[0, 999]`."
   ]
  },
  {
   "cell_type": "code",
   "execution_count": 4,
   "metadata": {},
   "outputs": [],
   "source": [
    "class Solution:\n",
    "    def minCostClimbingStairs(self, cost: \"List[int]\") -> int:\n",
    "        for i in range(2, len(cost)): \n",
    "            cost[i] += min(cost[i - 1],cost[i - 2])\n",
    "        \n",
    "        return min(cost[-1], cost[-2])\n",
    "        "
   ]
  },
  {
   "cell_type": "markdown",
   "metadata": {},
   "source": [
    "---\n",
    "# 70. Climbing Stairs\n",
    "You are climbing a stair case. It takes n steps to reach to the top.\n",
    "\n",
    "Each time you can either climb 1 or 2 steps. In how many distinct ways can you climb to the top?\n",
    "\n",
    "Note: Given n will be a positive integer.\n",
    "\n",
    "Example 1:\n",
    "```\n",
    "Input: 2\n",
    "Output: 2\n",
    "Explanation: There are two ways to climb to the top.\n",
    "1. 1 step + 1 step\n",
    "2. 2 steps\n",
    "```\n",
    "Example 2:\n",
    "```\n",
    "Input: 3\n",
    "Output: 3\n",
    "Explanation: There are three ways to climb to the top.\n",
    "1. 1 step + 1 step + 1 step\n",
    "2. 1 step + 2 steps\n",
    "3. 2 steps + 1 step\n",
    "```"
   ]
  },
  {
   "cell_type": "code",
   "execution_count": 5,
   "metadata": {},
   "outputs": [],
   "source": [
    "memo = {0: 1, 1:1}\n",
    "\n",
    "class Solution:\n",
    "    def climbStairs(self, n: int) -> int:\n",
    "        \n",
    "        if n in memo:\n",
    "            return memo[n]\n",
    "        \n",
    "        else:\n",
    "            ans = self.climbStairs(n - 1) + self.climbStairs(n - 2)\n",
    "            memo[n] = ans\n",
    "        \n",
    "        return ans"
   ]
  },
  {
   "cell_type": "code",
   "execution_count": 7,
   "metadata": {},
   "outputs": [],
   "source": [
    "class Solution:\n",
    "    def climbStairs(self, n: int) -> int:\n",
    "        \n",
    "        memo = {0:1, 1:1}\n",
    "        \n",
    "        for k in range(2, n + 1):\n",
    "            memo[k] = memo[k - 1] + memo[k - 2]\n",
    "        \n",
    "        return memo[n]"
   ]
  },
  {
   "cell_type": "code",
   "execution_count": 6,
   "metadata": {},
   "outputs": [],
   "source": [
    "class Solution:\n",
    "    def climbStairs(self, n: int) -> int:\n",
    "        \n",
    "        memo = [1, 1]\n",
    "        \n",
    "        for k in range(2, n + 1):\n",
    "            memo[0], memo[1]= memo[1], memo[0] + memo[1]\n",
    "        \n",
    "        return memo[-1]"
   ]
  },
  {
   "cell_type": "markdown",
   "metadata": {},
   "source": [
    "---\n",
    "# 53. Maximum Subarray\n",
    "Given an integer array nums, find the contiguous subarray (containing at least one number) which has the largest sum and return its sum.\n",
    "\n",
    "Example:\n",
    "```\n",
    "Input: [-2,1,-3,4,-1,2,1,-5,4],\n",
    "Output: 6\n",
    "Explanation: [4,-1,2,1] has the largest sum = 6.\n",
    "```"
   ]
  },
  {
   "cell_type": "code",
   "execution_count": 8,
   "metadata": {},
   "outputs": [],
   "source": [
    "class Solution:\n",
    "    def maxSubArray(self, A):\n",
    "        if not A:\n",
    "            return 0\n",
    "\n",
    "        curSum = maxSum = A[0]\n",
    "        \n",
    "        for num in A[1:]:\n",
    "            curSum = max(num, curSum + num)\n",
    "            maxSum = max(maxSum, curSum)\n",
    "\n",
    "        return maxSum"
   ]
  },
  {
   "cell_type": "markdown",
   "metadata": {},
   "source": [
    "---\n",
    "# 198. House Robber\n",
    "You are a professional robber planning to rob houses along a street. Each house has a certain amount of money stashed, the only constraint stopping you from robbing each of them is that adjacent houses have security system connected and it will automatically contact the police if two adjacent houses were broken into on the same night.\n",
    "\n",
    "Given a list of non-negative integers representing the amount of money of each house, determine the maximum amount of money you can rob tonight **without alerting the police**.\n",
    "\n",
    "Example 1:\n",
    "```\n",
    "Input: [1,2,3,1]\n",
    "Output: 4\n",
    "Explanation: Rob house 1 (money = 1) and then rob house 3 (money = 3).\n",
    "             Total amount you can rob = 1 + 3 = 4.\n",
    "```\n",
    "\n",
    "Example 2:\n",
    "```\n",
    "Input: [2,7,9,3,1]\n",
    "Output: 12\n",
    "Explanation: Rob house 1 (money = 2), rob house 3 (money = 9) and rob house 5 (money = 1).\n",
    "             Total amount you can rob = 2 + 9 + 1 = 12.\n",
    "```           "
   ]
  },
  {
   "cell_type": "code",
   "execution_count": 12,
   "metadata": {},
   "outputs": [],
   "source": [
    "class Solution(object):\n",
    "   \n",
    "    def rob(self, nums):\n",
    "        \"\"\"\n",
    "        :type nums: List[int]\n",
    "        :rtype: int\n",
    "        \"\"\"\n",
    "        return self.aux(0, nums, {})\n",
    "    \n",
    "    def aux(self, i, nums, memo):\n",
    "        N = len(nums)\n",
    "        if i >= N:\n",
    "            return 0\n",
    "        if i in memo:\n",
    "            return memo[i]\n",
    "        memo[i] = max(nums[i]+self.aux(i+2, nums, memo), \n",
    "                      self.aux(i+1, nums, memo))\n",
    "        return memo[i]"
   ]
  },
  {
   "cell_type": "code",
   "execution_count": 10,
   "metadata": {},
   "outputs": [],
   "source": [
    "class Solution:\n",
    "    def rob(self, nums):\n",
    "        l = r = 0\n",
    "        for n in nums:\n",
    "            l, r = r, max(n + l, r)\n",
    "        return r"
   ]
  },
  {
   "cell_type": "markdown",
   "metadata": {},
   "source": [
    "---\n",
    "# 276. Paint Fence\n",
    "There is a fence with n posts, each post can be painted with one of the k colors.\n",
    "\n",
    "You have to paint all the posts such that no more than two adjacent fence posts have the same color.\n",
    "\n",
    "Return the total number of ways you can paint the fence.\n",
    "\n",
    "Note:\n",
    "n and k are non-negative integers.\n",
    "\n",
    "Example:\n",
    "```\n",
    "Input: n = 3, k = 2\n",
    "Output: 6\n",
    "Explanation: Take c1 as color 1, c2 as color 2. All possible ways are:\n",
    "\n",
    "            post1  post2  post3      \n",
    " -----      -----  -----  -----       \n",
    "   1         c1     c1     c2 \n",
    "   2         c1     c2     c1 \n",
    "   3         c1     c2     c2 \n",
    "   4         c2     c1     c1  \n",
    "   5         c2     c1     c2\n",
    "   6         c2     c2     c1\n",
    "```\n",
    "\n",
    "### Analysis by [orbuluh](https://leetcode.com/problems/paint-fence/discuss/71150/Python-solution-with-explanation)\n",
    "If n == 1, there would be k-ways to paint.\n",
    "\n",
    "if n == 2, there would be two situations:\n",
    "\n",
    "2.1 You paint same color with the previous post: k\\*1 ways to paint, named it as `same`\n",
    "2.2 You paint differently with the previous post: k\\*(k-1) ways to paint this way, named it as `dif`\n",
    "So, you can think, if n >= 3, you can always maintain these two situations,\n",
    "You either paint the same color with the previous one, or differently.\n",
    "\n",
    "Since there is a rule: \"no more than two adjacent fence posts have the same color.\"\n",
    "\n",
    "We can further analyze:\n",
    "\n",
    "- from 2.1, since previous two are in the same color, next one you could only paint differently, and it would form one part of \"paint differently\" case in the n == 3 level, and the number of ways to paint this way would equal to `same*(k-1)`.\n",
    "- from 2.2, since previous two are not the same, you can either paint the same color this time `(dif*1)` ways to do so, or stick to paint differently `(dif*(k-1))` times.\n",
    "Here you can conclude, when seeing back from the next level, ways to paint the same, or variable same would equal to `dif*1 = dif`, and ways to paint differently, variable dif, would equal to `same*(k-1)+dif*(k-1) = (same + dif)*(k-1)`\n",
    "\n",
    "So we could write the following codes:"
   ]
  },
  {
   "cell_type": "code",
   "execution_count": 13,
   "metadata": {},
   "outputs": [],
   "source": [
    "class Solution:\n",
    "    def numWays(self, n: int, k: int) -> int:\n",
    "        if n == 0:\n",
    "            return 0\n",
    "        if n == 1:\n",
    "            return k\n",
    "        same, dif = k, k*(k-1)\n",
    "        for i in range(3, n+1):\n",
    "            same, dif = dif, (same+dif)*(k-1)\n",
    "        return same + dif"
   ]
  },
  {
   "cell_type": "code",
   "execution_count": null,
   "metadata": {},
   "outputs": [],
   "source": []
  }
 ],
 "metadata": {
  "kernelspec": {
   "display_name": "Python 3",
   "language": "python",
   "name": "python3"
  },
  "language_info": {
   "codemirror_mode": {
    "name": "ipython",
    "version": 3
   },
   "file_extension": ".py",
   "mimetype": "text/x-python",
   "name": "python",
   "nbconvert_exporter": "python",
   "pygments_lexer": "ipython3",
   "version": "3.6.8"
  }
 },
 "nbformat": 4,
 "nbformat_minor": 2
}
