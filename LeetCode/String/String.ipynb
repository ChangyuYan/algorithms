{
 "cells": [
  {
   "cell_type": "markdown",
   "metadata": {},
   "source": [
    "# 929. Unique Email Addresses\n",
    "\n",
    "Python Substring Operations:    \n",
    "- ```string[:string.find(char\")``` to return a substring before char\n",
    "- ```import re; re.sub('[@#!]', '', string)``` to remove @,#,! (whatever inside [ ]) from string\n",
    "\n",
    "We can also use the `replace` function"
   ]
  },
  {
   "cell_type": "code",
   "execution_count": 1,
   "metadata": {},
   "outputs": [
    {
     "data": {
      "text/plain": [
       "'asdfasdfasdfadsfaadf'"
      ]
     },
     "execution_count": 1,
     "metadata": {},
     "output_type": "execute_result"
    }
   ],
   "source": [
    "a = \" asdfasdf   asdfadsf   aadf  \"\n",
    "a.replace(\" \", \"\")"
   ]
  },
  {
   "cell_type": "code",
   "execution_count": 2,
   "metadata": {},
   "outputs": [
    {
     "data": {
      "text/plain": [
       "'234234232342'"
      ]
     },
     "execution_count": 2,
     "metadata": {},
     "output_type": "execute_result"
    }
   ],
   "source": [
    "b = \".234.23423.2342.\"\n",
    "b.replace(\".\", \"\")"
   ]
  },
  {
   "cell_type": "code",
   "execution_count": 3,
   "metadata": {},
   "outputs": [],
   "source": [
    "import re\n",
    "\n",
    "class Solution(object):\n",
    "    def numUniqueEmails(self, emails):\n",
    "        \"\"\"\n",
    "        :type emails: List[str]\n",
    "        :rtype: int\n",
    "        \"\"\"\n",
    "        email_set = set()\n",
    "        for email in emails: \n",
    "            email_set.add(self.cleanup_email(email))\n",
    "        \n",
    "        return len(email_set)\n",
    "            \n",
    "    \n",
    "    def cleanup_email(self, email):\n",
    "        at_loc = email.find(\"@\")\n",
    "        local_name = email[ : at_loc]\n",
    "        \n",
    "        if \"+\" in local_name:\n",
    "            local_name = local_name[ : local_name.find(\"+\")]\n",
    "        \n",
    "        local_name = re.sub(\"[.]\", \"\", local_name)\n",
    "        \n",
    "        return local_name + email[at_loc : ]"
   ]
  },
  {
   "cell_type": "markdown",
   "metadata": {},
   "source": [
    "----\n",
    "# 709. To Lower Case\n",
    "String to lowercase:\n",
    "```string = string.lower()```"
   ]
  },
  {
   "cell_type": "markdown",
   "metadata": {},
   "source": [
    "----\n",
    "# 804. Unique Morse Code Words\n",
    "\n",
    "To get a complete alphabet list, use:    \n",
    "```\n",
    "import string\n",
    "lower = string.ascii_lowercase\n",
    "upper = string.ascii_uppercase\n",
    "```"
   ]
  },
  {
   "cell_type": "code",
   "execution_count": 4,
   "metadata": {},
   "outputs": [
    {
     "data": {
      "text/plain": [
       "'abcdefghijklmnopqrstuvwxyz'"
      ]
     },
     "execution_count": 4,
     "metadata": {},
     "output_type": "execute_result"
    }
   ],
   "source": [
    "import string\n",
    "string.ascii_lowercase"
   ]
  },
  {
   "cell_type": "code",
   "execution_count": 5,
   "metadata": {},
   "outputs": [],
   "source": [
    "import string\n",
    "\n",
    "m = [\".-\",\"-...\",\"-.-.\",\"-..\",\".\",\"..-.\",\"--.\",\"....\",\"..\",\".---\",\"-.-\",\".-..\",\"--\",\"-.\",\"---\",\".--.\",\"--.-\",\".-.\",\"...\",\"-\",\"..-\",\"...-\",\".--\",\"-..-\",\"-.--\",\"--..\"]\n",
    "\n",
    "MORSE_DICT = dict(zip(string.ascii_lowercase, m))\n",
    "\n",
    "class Solution:\n",
    "    def uniqueMorseRepresentations(self, words):\n",
    "        \"\"\"\n",
    "        :type words: List[str]\n",
    "        :rtype: int\n",
    "        \"\"\"\n",
    "        word_set = set()\n",
    "        \n",
    "        for word in words: \n",
    "            mword = \"\"\n",
    "            \n",
    "            for char in word: \n",
    "                mword += MORSE_DICT[char]\n",
    "                \n",
    "            word_set.add(mword)\n",
    "        \n",
    "        return len(word_set)"
   ]
  },
  {
   "cell_type": "markdown",
   "metadata": {},
   "source": [
    "----\n",
    "# 557. Reverse Words in a String III\n",
    "To reverse a string, use:\n",
    "```string = string[::-1]```"
   ]
  },
  {
   "cell_type": "code",
   "execution_count": 6,
   "metadata": {},
   "outputs": [
    {
     "data": {
      "text/plain": [
       "'dcba'"
      ]
     },
     "execution_count": 6,
     "metadata": {},
     "output_type": "execute_result"
    }
   ],
   "source": [
    "s = \"abcd\"\n",
    "s[::-1]"
   ]
  },
  {
   "cell_type": "markdown",
   "metadata": {},
   "source": [
    "----\n",
    "# 13. Roman to Integer"
   ]
  },
  {
   "cell_type": "code",
   "execution_count": 7,
   "metadata": {},
   "outputs": [],
   "source": [
    "ROMAN_D = {'I': 1, 'V': 5, 'X':10, 'L': 50, 'C': 100, 'D': 500, 'M': 1000}\n",
    "class Solution:\n",
    "    def romanToInt(self, s):\n",
    "        \"\"\"\n",
    "        :type s: str\n",
    "        :rtype: int\n",
    "        \"\"\"\n",
    "        res = 0\n",
    "        num = []\n",
    "        \n",
    "        for char in s:\n",
    "            num.append(ROMAN_D[char])\n",
    "        \n",
    "        for i in range(len(num)):\n",
    "            if num[i] < max(num[i:]):\n",
    "                res -= num[i]\n",
    "            else:\n",
    "                res += num[i]\n",
    "        \n",
    "        return res"
   ]
  },
  {
   "cell_type": "markdown",
   "metadata": {},
   "source": [
    "---\n",
    "# 383. Ransom Note\n",
    "canConstruct(\"a\", \"b\") -> false    \n",
    "canConstruct(\"aa\", \"ab\") -> false    \n",
    "canConstruct(\"aa\", \"aab\") -> true    "
   ]
  },
  {
   "cell_type": "code",
   "execution_count": 8,
   "metadata": {},
   "outputs": [],
   "source": [
    "class Solution:\n",
    "    def canConstruct(self, ransomNote, magazine):\n",
    "        \"\"\"\n",
    "        :type ransomNote: str\n",
    "        :type magazine: str\n",
    "        :rtype: bool\n",
    "        \"\"\"\n",
    "        magazine = list(magazine)\n",
    "        \n",
    "        for char in ransomNote:\n",
    "            if char in magazine:\n",
    "                magazine.remove(char)\n",
    "            else:\n",
    "                return False\n",
    "        \n",
    "        return True"
   ]
  },
  {
   "cell_type": "markdown",
   "metadata": {},
   "source": [
    "---\n",
    "# 387. First Unique Character in a String\n",
    "\n",
    "Slow version:"
   ]
  },
  {
   "cell_type": "code",
   "execution_count": 9,
   "metadata": {},
   "outputs": [],
   "source": [
    "class Solution:\n",
    "    def firstUniqChar(self, s):\n",
    "        \"\"\"\n",
    "        :type s: str\n",
    "        :rtype: int\n",
    "        \"\"\"\n",
    "        for char in s:\n",
    "            if s.count(char) == 1:\n",
    "                return s.find(char)\n",
    "            \n",
    "        return -1"
   ]
  },
  {
   "cell_type": "markdown",
   "metadata": {},
   "source": [
    "Fast Version - Use ```collections```"
   ]
  },
  {
   "cell_type": "code",
   "execution_count": 10,
   "metadata": {},
   "outputs": [
    {
     "data": {
      "text/plain": [
       "Counter({'a': 2, 'b': 3, 'c': 4, 'd': 7})"
      ]
     },
     "execution_count": 10,
     "metadata": {},
     "output_type": "execute_result"
    }
   ],
   "source": [
    "import collections\n",
    "\n",
    "a = \"aabbbccccddddddd\"\n",
    "collections.Counter(a)"
   ]
  },
  {
   "cell_type": "code",
   "execution_count": 11,
   "metadata": {},
   "outputs": [],
   "source": [
    "class Solution:\n",
    "    def firstUniqChar(self, s):\n",
    "        \"\"\"\n",
    "        :type s: str\n",
    "        :rtype: int\n",
    "        \"\"\"\n",
    "        counts = collections.Counter(s)\n",
    "        for i in range(0,len(s)):\n",
    "            if counts[s[i]]==1:\n",
    "                return i\n",
    "        return -1"
   ]
  },
  {
   "cell_type": "markdown",
   "metadata": {},
   "source": [
    "---\n",
    "# 345. Reverse Vowels of a String\n",
    "List of char to string:"
   ]
  },
  {
   "cell_type": "code",
   "execution_count": 12,
   "metadata": {},
   "outputs": [
    {
     "data": {
      "text/plain": [
       "'abcd'"
      ]
     },
     "execution_count": 12,
     "metadata": {},
     "output_type": "execute_result"
    }
   ],
   "source": [
    "a = ['a', 'b', 'c', 'd']\n",
    "''.join(a)"
   ]
  },
  {
   "cell_type": "code",
   "execution_count": 13,
   "metadata": {},
   "outputs": [],
   "source": [
    "VOWEL = list('aeiouAEIOU')\n",
    "\n",
    "class Solution:\n",
    "    def reverseVowels(self, s):\n",
    "        \"\"\"\n",
    "        :type s: str\n",
    "        :rtype: str\n",
    "        \"\"\"\n",
    "        left = 0\n",
    "        right = len(s) - 1\n",
    "        \n",
    "        s = list(s)\n",
    "        \n",
    "        while(left < right):\n",
    "            if s[left] in VOWEL and s[right] in VOWEL:\n",
    "                s[left], s[right] = s[right], s[left]\n",
    "                left += 1\n",
    "                right -= 1\n",
    "            elif s[left] not in VOWEL:\n",
    "                left += 1\n",
    "            elif s[right] not in VOWEL:\n",
    "                right -= 1\n",
    "        \n",
    "        return \"\".join(s)\n",
    "                "
   ]
  },
  {
   "cell_type": "markdown",
   "metadata": {},
   "source": [
    "---\n",
    "# 67. Add Binary\n",
    "Input: a = \"11\", b = \"1\"\n",
    "Output: \"100\""
   ]
  },
  {
   "cell_type": "markdown",
   "metadata": {},
   "source": [
    "Convert binary to int: format(5, 'b')    \n",
    "Convert int to binary: int('101', 2)  "
   ]
  },
  {
   "cell_type": "code",
   "execution_count": 14,
   "metadata": {},
   "outputs": [
    {
     "data": {
      "text/plain": [
       "'101'"
      ]
     },
     "execution_count": 14,
     "metadata": {},
     "output_type": "execute_result"
    }
   ],
   "source": [
    "format(5, 'b')"
   ]
  },
  {
   "cell_type": "code",
   "execution_count": 15,
   "metadata": {},
   "outputs": [
    {
     "data": {
      "text/plain": [
       "5"
      ]
     },
     "execution_count": 15,
     "metadata": {},
     "output_type": "execute_result"
    }
   ],
   "source": [
    "int('101', 2)"
   ]
  },
  {
   "cell_type": "code",
   "execution_count": 16,
   "metadata": {},
   "outputs": [],
   "source": [
    "class Solution:\n",
    "    def addBinary(self, a, b):\n",
    "        \"\"\"\n",
    "        :type a: str\n",
    "        :type b: str\n",
    "        :rtype: str\n",
    "        \"\"\"\n",
    "        return format( int(a, 2) + int(b, 2), 'b')"
   ]
  },
  {
   "cell_type": "markdown",
   "metadata": {},
   "source": [
    "---\n",
    "<h1 style=\"color:purple\"> 20. Valid Parentheses  </h1>"
   ]
  },
  {
   "cell_type": "code",
   "execution_count": 17,
   "metadata": {},
   "outputs": [],
   "source": [
    "class Solution:\n",
    "    def isValid(self, s):\n",
    "        \"\"\"\n",
    "        :type s: str\n",
    "        :rtype: bool\n",
    "        \"\"\"\n",
    "        p = {')': '(', \n",
    "             ']': '[', \n",
    "             '}': '{'}\n",
    "        \n",
    "        stack = []\n",
    "        for char in s:\n",
    "            if char not in p:\n",
    "                stack.append(char)\n",
    "            else:\n",
    "                if not stack or stack[-1] != p[char]: \n",
    "                    return False\n",
    "                stack.pop()\n",
    "        \n",
    "        return not stack"
   ]
  },
  {
   "cell_type": "markdown",
   "metadata": {},
   "source": [
    "---\n",
    "# 14. Longest Common Prefix"
   ]
  },
  {
   "cell_type": "code",
   "execution_count": 18,
   "metadata": {},
   "outputs": [],
   "source": [
    "class Solution:\n",
    "    def longestCommonPrefix(self, strs):\n",
    "        \"\"\"\n",
    "        :type strs: List[str]\n",
    "        :rtype: str\n",
    "        \"\"\"\n",
    "        \n",
    "        if not strs: \n",
    "            return \"\"\n",
    "        \n",
    "        ans = \"\"\n",
    "        \n",
    "        for i in range(len(strs[0])):\n",
    "            for s in strs:\n",
    "                if len(s) <= i or s[i] != strs[0][i]: return ans\n",
    "            ans += strs[0][i]\n",
    "            \n",
    "        return ans"
   ]
  },
  {
   "cell_type": "markdown",
   "metadata": {},
   "source": [
    "---\n",
    "<h1 style=\"color:purple\"> 544. Output Contest Matches </h1>\n",
    "\n",
    "Note: In python3, int division will result in float, which cannot be used in loops. Therefore, we need to convert the result to int again"
   ]
  },
  {
   "cell_type": "code",
   "execution_count": 19,
   "metadata": {},
   "outputs": [
    {
     "data": {
      "text/plain": [
       "2.0"
      ]
     },
     "execution_count": 19,
     "metadata": {},
     "output_type": "execute_result"
    }
   ],
   "source": [
    "4 / 2"
   ]
  },
  {
   "cell_type": "code",
   "execution_count": 20,
   "metadata": {},
   "outputs": [],
   "source": [
    "class Solution:\n",
    "    def findContestMatch(self, n):\n",
    "        \"\"\"\n",
    "        :type n: int\n",
    "        :rtype: str\n",
    "        \"\"\"\n",
    "        a = list(range(1, n+1))\n",
    "        \n",
    "        while n > 1:\n",
    "            for i in range(n):\n",
    "                a[i] = \"(\" + str(a[i]) + \",\" + str(a[n - i - 1]) + \")\"\n",
    "            n = int(n/2)\n",
    "        \n",
    "        return a[0]"
   ]
  },
  {
   "cell_type": "markdown",
   "metadata": {},
   "source": [
    "---\n",
    "# 890. Find and Replace Pattern"
   ]
  },
  {
   "cell_type": "code",
   "execution_count": 21,
   "metadata": {},
   "outputs": [],
   "source": [
    "class Solution:\n",
    "    def findAndReplacePattern(self, words, pattern):\n",
    "        \"\"\"\n",
    "        :type words: List[str]\n",
    "        :type pattern: str\n",
    "        :rtype: List[str]\n",
    "        \"\"\"\n",
    "        res = []\n",
    "        \n",
    "        for word in words:\n",
    "            if self.match(word, pattern):\n",
    "                res.append(word)\n",
    "                \n",
    "        return res\n",
    "    \n",
    "    def match(self, word, pattern):\n",
    "        return self.convert(word) == self.convert(pattern)\n",
    "    \n",
    "    def convert(self, word):\n",
    "        # convert word pattern into numbers\n",
    "        ld = {}\n",
    "        res = []\n",
    "        i = 0\n",
    "        for letter in word: \n",
    "            if letter in ld:\n",
    "                res.append(ld[letter])\n",
    "            else:\n",
    "                ld[letter] = i\n",
    "                res.append(i)\n",
    "                i += 1\n",
    "        return res"
   ]
  },
  {
   "cell_type": "markdown",
   "metadata": {},
   "source": [
    "---\n",
    "# 537. Complex Number Multiplication"
   ]
  },
  {
   "cell_type": "code",
   "execution_count": 22,
   "metadata": {},
   "outputs": [],
   "source": [
    "class Solution:\n",
    "    def complexNumberMultiply(self, a, b):\n",
    "        \"\"\"\n",
    "        :type a: str\n",
    "        :type b: str\n",
    "        :rtype: str\n",
    "        \"\"\"\n",
    "        a_real = int(a[ : a.find('+')])\n",
    "        b_real = int(b[ : b.find('+')])\n",
    "        a_imag = int(a[a.find('+') + 1 : a.find('i')])\n",
    "        b_imag = int(b[b.find('+') + 1 : b.find('i')])\n",
    "        \n",
    "        real = a_real * b_real - a_imag * b_imag\n",
    "        imag = a_real * b_imag + a_imag * b_real\n",
    "        \n",
    "        return str(real) + \"+\" + str(imag) + \"i\"\n",
    "        "
   ]
  },
  {
   "cell_type": "markdown",
   "metadata": {},
   "source": [
    "---\n",
    "<h1 style=\"color:purple\"> 791. Custom Sort String </h1>"
   ]
  },
  {
   "cell_type": "code",
   "execution_count": 23,
   "metadata": {},
   "outputs": [],
   "source": [
    "class Solution:\n",
    "    def customSortString(self, S, T):\n",
    "        \"\"\"\n",
    "        :type S: str\n",
    "        :type T: str\n",
    "        :rtype: str\n",
    "        \"\"\"\n",
    "        d = {}\n",
    "        for i in range(len(S)):\n",
    "            d[S[i]] = i\n",
    "        \n",
    "        for char in T:\n",
    "            if char not in S:\n",
    "                d[char] = -1\n",
    "        \n",
    "        res = sorted(T, key = lambda x: d[x] )\n",
    "        \n",
    "        return \"\".join(res)"
   ]
  },
  {
   "cell_type": "markdown",
   "metadata": {},
   "source": [
    "# Lambda Exptression - `lambda arguments : expression`"
   ]
  },
  {
   "cell_type": "code",
   "execution_count": 24,
   "metadata": {},
   "outputs": [],
   "source": [
    "g = lambda x: x**2 + 1"
   ]
  },
  {
   "cell_type": "code",
   "execution_count": 25,
   "metadata": {},
   "outputs": [
    {
     "data": {
      "text/plain": [
       "5"
      ]
     },
     "execution_count": 25,
     "metadata": {},
     "output_type": "execute_result"
    }
   ],
   "source": [
    "g(2)"
   ]
  },
  {
   "cell_type": "markdown",
   "metadata": {},
   "source": [
    "# Python `sorted()` Custom `key`"
   ]
  },
  {
   "cell_type": "code",
   "execution_count": 26,
   "metadata": {},
   "outputs": [
    {
     "data": {
      "text/plain": [
       "['aaa', 'b', 'cccc', 'dd']"
      ]
     },
     "execution_count": 26,
     "metadata": {},
     "output_type": "execute_result"
    }
   ],
   "source": [
    "L = [\"cccc\", \"b\", \"dd\", \"aaa\"] \n",
    "sorted(L)"
   ]
  },
  {
   "cell_type": "code",
   "execution_count": 27,
   "metadata": {},
   "outputs": [
    {
     "data": {
      "text/plain": [
       "['b', 'dd', 'aaa', 'cccc']"
      ]
     },
     "execution_count": 27,
     "metadata": {},
     "output_type": "execute_result"
    }
   ],
   "source": [
    "sorted(L, key = len)"
   ]
  },
  {
   "cell_type": "markdown",
   "metadata": {},
   "source": [
    "---\n",
    "<h1 style=\"color:purple\"> 647. Palindromic Substrings </h1>\n",
    "    \n",
    "Algorithm\n",
    "\n",
    "For each possible palindrome center, let's expand our candidate palindrome on the interval `[left, right]` as long as we can. The condition for expanding is `left >= 0` and `right < N` and `S[left] == S[right]`. That means we want to count a new palindrome `S[left], S[left+1], ..., S[right]`."
   ]
  },
  {
   "cell_type": "code",
   "execution_count": 1,
   "metadata": {},
   "outputs": [],
   "source": [
    "class Solution:\n",
    "    def countSubstrings(self, s):\n",
    "        \"\"\"\n",
    "        :type s: str\n",
    "        :rtype: int\n",
    "        \"\"\"\n",
    "        N = len(s)\n",
    "        ans = 0\n",
    "        for center in range(2*N - 1):\n",
    "            left = int(center / 2)\n",
    "            right = int(left + center % 2)\n",
    "            while left >= 0 and right < N and s[left] == s[right]:\n",
    "                ans += 1\n",
    "                left -= 1\n",
    "                right += 1\n",
    "        return ans"
   ]
  },
  {
   "cell_type": "markdown",
   "metadata": {},
   "source": [
    "---\n",
    "<h1 style=\"color:purple\"> 22. Generate Parentheses </h1>"
   ]
  },
  {
   "cell_type": "code",
   "execution_count": 2,
   "metadata": {},
   "outputs": [],
   "source": [
    "class Solution:\n",
    "    def generateParenthesis(self, n):\n",
    "        \"\"\"\n",
    "        :type n: int\n",
    "        :rtype: List[str]\n",
    "        \"\"\"\n",
    "        ans = []\n",
    "        def backtrack(S = '', left = 0, right = 0):\n",
    "            if len(S) == 2 * n:\n",
    "                ans.append(S)\n",
    "                return\n",
    "            if left < n:\n",
    "                backtrack(S+'(', left+1, right)\n",
    "            if right < left:\n",
    "                backtrack(S+')', left, right+1)\n",
    "\n",
    "        backtrack()\n",
    "        return ans"
   ]
  },
  {
   "cell_type": "markdown",
   "metadata": {},
   "source": [
    "---\n",
    "<h1 style=\"color:purple\"> 12. Integer to Roman </h1>"
   ]
  },
  {
   "cell_type": "code",
   "execution_count": 3,
   "metadata": {},
   "outputs": [],
   "source": [
    "class Solution:\n",
    "    def intToRoman(self, num):\n",
    "        m = [[1000, \"M\"], [900, \"CM\"], [500, \"D\"], [400, \"CD\"],\n",
    "             [ 100, \"C\"], [ 90, \"XC\"], [ 50, \"L\"], [ 40, \"XL\"], \n",
    "             [  10, \"X\"], [  9, \"IX\"], [  5, \"V\"], [  4, \"IV\"], \n",
    "             [   1, \"I\"]]    \n",
    "        index = 0\n",
    "        ans = ''\n",
    "        while num > 0:\n",
    "            if num >= m[index][0]:\n",
    "                ans += m[index][1]\n",
    "                num -= m[index][0]\n",
    "            else:\n",
    "                index += 1\n",
    "        return ans"
   ]
  },
  {
   "cell_type": "markdown",
   "metadata": {},
   "source": [
    "---\n",
    "# 249. Group Shifted Strings\n",
    "Given a string, we can \"shift\" each of its letter to its successive letter, for example: \"abc\" -> \"bcd\". We can keep \"shifting\" which forms the sequence:    \n",
    "\n",
    "\"abc\" -> \"bcd\" -> ... -> \"xyz\"\n",
    "\n",
    "Given a list of strings which contains only lowercase alphabets, group all strings that belong to the same shifting sequence.\n",
    "\n",
    "Example:\n",
    "```\n",
    "Input: [\"abc\", \"bcd\", \"acef\", \"xyz\", \"az\", \"ba\", \"a\", \"z\"],\n",
    "Output: \n",
    "[\n",
    "  [\"abc\",\"bcd\",\"xyz\"],\n",
    "  [\"az\",\"ba\"],\n",
    "  [\"acef\"],\n",
    "  [\"a\",\"z\"]\n",
    "]\n",
    "```\n",
    "\n",
    "<p style=\"color:purple\"> Note: Dictionary cannot use mutable objects as keys </p>"
   ]
  },
  {
   "cell_type": "code",
   "execution_count": 5,
   "metadata": {},
   "outputs": [],
   "source": [
    "class Solution:\n",
    "    def groupStrings(self, strings):\n",
    "        \"\"\"\n",
    "        :type strings: List[str]\n",
    "        :rtype: List[List[str]]\n",
    "        \"\"\"\n",
    "        \n",
    "        ps = [] # patterns\n",
    "        res = []\n",
    "    \n",
    "        \n",
    "        for s in strings:\n",
    "            p = self.getpattern(s)\n",
    "            if p not in ps:\n",
    "                ps.append(p)\n",
    "                res.append([s])\n",
    "            else:\n",
    "                index = ps.index(p)\n",
    "                res[index].append(s)\n",
    "                \n",
    "        return res\n",
    "        \n",
    "    \n",
    "    def getpattern(self, s):\n",
    "        # \"abc\" = 012\n",
    "        \n",
    "        if len(s) == 1:\n",
    "            return [-1]\n",
    "        \n",
    "        pattern = []\n",
    "        min_val = ord(min(s))\n",
    "        \n",
    "        for i in range(len(s) - 1):\n",
    "            pattern.append( (ord(s[i+1]) - ord(s[i])) % 26)\n",
    "            \n",
    "        return pattern"
   ]
  },
  {
   "cell_type": "markdown",
   "metadata": {},
   "source": [
    "---\n",
    "# 539. Minimum Time Difference\n",
    "Given a list of 24-hour clock time points in \"Hour:Minutes\" format, find the minimum minutes difference between any two time points in the list.    \n",
    "```\n",
    "Example 1:\n",
    "Input: [\"23:59\",\"00:00\"]\n",
    "Output: 1\n",
    "```"
   ]
  },
  {
   "cell_type": "code",
   "execution_count": 1,
   "metadata": {},
   "outputs": [],
   "source": [
    "class Solution:\n",
    "    def findMinDifference(self, timePoints):\n",
    "        \"\"\"\n",
    "        :type timePoints: List[str]\n",
    "        :rtype: int\n",
    "        \"\"\"\n",
    "        \n",
    "        res = 1440\n",
    "        times = []\n",
    "        \n",
    "        for time in timePoints:\n",
    "            times.append(self.convert(time))\n",
    "            \n",
    "        times = sorted(times)\n",
    "    \n",
    "        for i in range(1, len(timePoints)):\n",
    "            diff = times[i] - times[i-1]\n",
    "            if diff < res:\n",
    "                res = diff\n",
    "                \n",
    "            diff = times[0] - times[-1] + 1440\n",
    "        \n",
    "        return min(res, diff)\n",
    "    \n",
    "    def convert(self, time):\n",
    "        h = int(time[:2])\n",
    "        m = int(time[3:])\n",
    "        return h * 60 + m"
   ]
  },
  {
   "cell_type": "markdown",
   "metadata": {},
   "source": [
    "---\n",
    "# 49. Group Anagrams\n",
    "\n",
    "Given an array of strings, group anagrams together.     \n",
    "\n",
    "Example:\n",
    "```\n",
    "Input: [\"eat\", \"tea\", \"tan\", \"ate\", \"nat\", \"bat\"],\n",
    "Output:\n",
    "[\n",
    "  [\"ate\",\"eat\",\"tea\"],\n",
    "  [\"nat\",\"tan\"],\n",
    "  [\"bat\"]\n",
    "]\n",
    "```\n",
    "\n",
    "Note:\n",
    "\n",
    "All inputs will be in lowercase   \n",
    "The order of your output does not matter.   "
   ]
  },
  {
   "cell_type": "code",
   "execution_count": 2,
   "metadata": {},
   "outputs": [],
   "source": [
    "class Solution:\n",
    "    def groupAnagrams(self, strs):\n",
    "        \"\"\"\n",
    "        :type strs: List[str]\n",
    "        :rtype: List[List[str]]\n",
    "        \"\"\"\n",
    "        ps = [] # patterns\n",
    "        res = []\n",
    "        \n",
    "        for word in strs:\n",
    "            sw = sorted(word)\n",
    "            if sw in ps:\n",
    "                res[ps.index(sw)].append(word)\n",
    "            else:\n",
    "                ps.append(sw)\n",
    "                res.append([word])\n",
    "        \n",
    "        return res"
   ]
  },
  {
   "cell_type": "markdown",
   "metadata": {},
   "source": [
    "A much faster version:"
   ]
  },
  {
   "cell_type": "code",
   "execution_count": 3,
   "metadata": {},
   "outputs": [],
   "source": [
    "class Solution:\n",
    "    def groupAnagrams(self, strs):\n",
    "        \"\"\"\n",
    "        :type strs: List[str]\n",
    "        :rtype: List[List[str]]\n",
    "        \"\"\"\n",
    "        d = {}\n",
    "        strs = sorted(strs)\n",
    "        for w in strs:\n",
    "            key = tuple(sorted(w))\n",
    "            if key in d:\n",
    "                d[key].append(w)\n",
    "            else:\n",
    "                d[key] = [w]\n",
    "                \n",
    "        return list(d.values())"
   ]
  },
  {
   "cell_type": "markdown",
   "metadata": {},
   "source": [
    "---\n",
    "# 583. Delete Operation for Two Strings\n",
    "\n",
    "Given two words word1 and word2, find the minimum number of steps required to make word1 and word2 the same, where in each step you can delete one character in either string.    \n",
    "\n",
    "```\n",
    "Example 1:\n",
    "Input: \"sea\", \"eat\"\n",
    "Output: 2\n",
    "```\n",
    "Explanation: You need one step to make \"sea\" to \"ea\" and another step to make \"eat\" to \"ea\".\n",
    "\n",
    "Note:  \n",
    "The length of given words won't exceed 500.  \n",
    "Characters in given words can only be lower-case letters.  \n",
    "\n",
    "### Analysis\n",
    "Because we can only do deletion operations, this problem is really about the longest substrings  "
   ]
  },
  {
   "cell_type": "code",
   "execution_count": 4,
   "metadata": {},
   "outputs": [],
   "source": [
    "class Solution:\n",
    "    def minDistance(self, w1, w2):\n",
    "        \"\"\"\n",
    "        :type word1: str\n",
    "        :type word2: str\n",
    "        :rtype: int\n",
    "        \"\"\"\n",
    "        if not w1: \n",
    "            return len(w2)\n",
    "        \n",
    "        if not w2: \n",
    "            return len(w1)\n",
    "        \n",
    "        m,n = len(w1), len(w2)\n",
    "        \n",
    "        dp = [[1]*n for _ in range(m)]\n",
    "        \n",
    "        for i in range(m):\n",
    "            if w1[i] != w2[0]: dp[i][0] = 0\n",
    "            else: break\n",
    "                \n",
    "        for j in range(n):\n",
    "            if w1[0] != w2[j]: dp[0][j] = 0\n",
    "            else: break\n",
    "\n",
    "        for i in range(1,m):\n",
    "            for j in range(1,n):\n",
    "                if w1[i] == w2[j]:\n",
    "                    dp[i][j] = dp[i-1][j-1] + 1\n",
    "                else:\n",
    "                    dp[i][j] = max(dp[i-1][j], dp[i][j-1])\n",
    "                    \n",
    "        l = dp[-1][-1]\n",
    "        return m - l + n - l"
   ]
  },
  {
   "cell_type": "markdown",
   "metadata": {},
   "source": [
    "---\n",
    "<h1 style=\"color:purple\"> 916. Word Subsets </h1>"
   ]
  },
  {
   "cell_type": "code",
   "execution_count": 2,
   "metadata": {},
   "outputs": [],
   "source": [
    "class Solution:\n",
    "    def wordSubsets(self, A, B):\n",
    "        \"\"\"\n",
    "        :type A: List[str]\n",
    "        :type B: List[str]\n",
    "        :rtype: List[str]\n",
    "        \"\"\"\n",
    "        s = set(A)\n",
    "        letters_required = {}\n",
    "        \n",
    "        for i in B:\n",
    "            for j in i:\n",
    "                count = i.count(j)\n",
    "                if j not in letters_required or count > letters_required[j]:\n",
    "                    letters_required[j] = count\n",
    "\n",
    "        for i in A:\n",
    "            for j in letters_required:\n",
    "                if i.count(j) < letters_required[j]:\n",
    "                    s.remove(i)\n",
    "                    break\n",
    "                    \n",
    "        return list(s)"
   ]
  },
  {
   "cell_type": "markdown",
   "metadata": {},
   "source": [
    "---\n",
    "<h1 style=\"color:purple\"> 536. Construct Binary Tree from String </h1>"
   ]
  },
  {
   "cell_type": "code",
   "execution_count": 5,
   "metadata": {},
   "outputs": [],
   "source": [
    "# Definition for a binary tree node.\n",
    "# class TreeNode:\n",
    "#     def __init__(self, x):\n",
    "#         self.val = x\n",
    "#         self.left = None\n",
    "#         self.right = None\n",
    "\n",
    "class Solution:\n",
    "    def str2tree(self, s):\n",
    "        \"\"\"\n",
    "        :type s: str\n",
    "        :rtype: TreeNode\n",
    "        \"\"\"\n",
    "        \n",
    "        if s == \"\":\n",
    "            return None\n",
    "        if \"(\" not in s:\n",
    "            return TreeNode(int(s))\n",
    "            \n",
    "\n",
    "        rootstr, leftstr, rightstr = self.breakDown(s)\n",
    "        \n",
    "        root = TreeNode(int(rootstr))\n",
    "        root.left = self.str2tree(leftstr)\n",
    "        root.right = self.str2tree(rightstr)\n",
    "        \n",
    "        \n",
    "        return root\n",
    "    \n",
    "    def breakDown(self, s):\n",
    "        first_l_pos = s.index(\"(\")\n",
    "        second_l_pos = first_l_pos + 1\n",
    "        \n",
    "        count = 1\n",
    "        \n",
    "        while count != 0:\n",
    "            if s[second_l_pos] == \"(\":\n",
    "                count += 1\n",
    "            elif s[second_l_pos] == \")\":\n",
    "                count -= 1\n",
    "            second_l_pos += 1\n",
    "            \n",
    "        \n",
    "        root_str  = s[:first_l_pos]\n",
    "        left_str  = s[first_l_pos + 1 : second_l_pos - 1]\n",
    "        right_str = s[second_l_pos + 1 : -1]\n",
    "        \n",
    "        \n",
    "        return root_str, left_str, right_str"
   ]
  },
  {
   "cell_type": "markdown",
   "metadata": {},
   "source": [
    "---\n",
    "<h1 style=\"color:purple\"> 681. Next Closest Time </h1>\n",
    "\n",
    "Gradually increase the time until all digits are in digits"
   ]
  },
  {
   "cell_type": "code",
   "execution_count": 6,
   "metadata": {},
   "outputs": [],
   "source": [
    "class Solution:\n",
    "    def nextClosestTime(self, time):\n",
    "        \"\"\"\n",
    "        :type time: str\n",
    "        :rtype: str\n",
    "        \"\"\"\n",
    "        digits = [int(y) for x in time.split(':') for y in x]\n",
    "        h, m = time.split(':')\n",
    "        while True:\n",
    "            h, m = (str(int(h)+1), '00') if int(m) == 59 else (h, str(int(m)+1))\n",
    "            h = '00' if int(h) > 23 else h\n",
    "            h = '0' + h if len(h) == 1 else h\n",
    "            m = '0' + m if len(m) == 1 else m\n",
    "            if all([int(x) in digits for x in h+m]):\n",
    "                return h + ':' + m"
   ]
  },
  {
   "cell_type": "markdown",
   "metadata": {},
   "source": [
    "Get used to this syntax:"
   ]
  },
  {
   "cell_type": "code",
   "execution_count": 12,
   "metadata": {},
   "outputs": [
    {
     "data": {
      "text/plain": [
       "(1, 2)"
      ]
     },
     "execution_count": 12,
     "metadata": {},
     "output_type": "execute_result"
    }
   ],
   "source": [
    "a, b = (1, 2) if 1 == 1 else (3, 4)\n",
    "a, b"
   ]
  },
  {
   "cell_type": "code",
   "execution_count": 13,
   "metadata": {},
   "outputs": [
    {
     "data": {
      "text/plain": [
       "(3, 4)"
      ]
     },
     "execution_count": 13,
     "metadata": {},
     "output_type": "execute_result"
    }
   ],
   "source": [
    "a, b = (1, 2) if 1 == 2 else (3, 4)\n",
    "a, b"
   ]
  },
  {
   "cell_type": "markdown",
   "metadata": {},
   "source": [
    "---\n",
    "# 767. Reorganize String"
   ]
  },
  {
   "cell_type": "code",
   "execution_count": null,
   "metadata": {},
   "outputs": [],
   "source": []
  }
 ],
 "metadata": {
  "kernelspec": {
   "display_name": "Python 3",
   "language": "python",
   "name": "python3"
  },
  "language_info": {
   "codemirror_mode": {
    "name": "ipython",
    "version": 3
   },
   "file_extension": ".py",
   "mimetype": "text/x-python",
   "name": "python",
   "nbconvert_exporter": "python",
   "pygments_lexer": "ipython3",
   "version": "3.6.5"
  }
 },
 "nbformat": 4,
 "nbformat_minor": 2
}
