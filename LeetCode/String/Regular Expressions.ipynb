{
 "cells": [
  {
   "cell_type": "markdown",
   "metadata": {},
   "source": [
    "---\n",
    "<h1 style=\"color:blue\"> Useful Tool: Python Regular Expression </h1>"
   ]
  },
  {
   "cell_type": "code",
   "execution_count": 1,
   "metadata": {},
   "outputs": [],
   "source": [
    "import re\n",
    "\n",
    "text_to_search = '''\n",
    "abcdefghijklmnopqurtuvwxyz\n",
    "ABCDEFGHIJKLMNOPQRSTUVWXYZ\n",
    "1234567890\n",
    "\n",
    "Ha HaHa\n",
    "\n",
    "MetaCharacters (Need to be escaped):\n",
    ". ^ $ * + ? { } [ ] \\ | ( )\n",
    "\n",
    "coreyms.com\n",
    "\n",
    "321-555-4321\n",
    "123.555.1234\n",
    "123*555*1234\n",
    "800-555-1234\n",
    "900-555-1234\n",
    "Mr. Schafer\n",
    "Mr Smith\n",
    "Ms Davis\n",
    "Mrs. Robinson\n",
    "Mr. T\n",
    "'''\n",
    "\n",
    "sentence = 'Start a sentence and then bring it to an end'"
   ]
  },
  {
   "cell_type": "markdown",
   "metadata": {},
   "source": [
    "# Search for Raw Strings"
   ]
  },
  {
   "cell_type": "code",
   "execution_count": 2,
   "metadata": {
    "scrolled": false
   },
   "outputs": [
    {
     "name": "stdout",
     "output_type": "stream",
     "text": [
      "\tTab\n"
     ]
    }
   ],
   "source": [
    "print('\\tTab')"
   ]
  },
  {
   "cell_type": "code",
   "execution_count": 3,
   "metadata": {},
   "outputs": [
    {
     "name": "stdout",
     "output_type": "stream",
     "text": [
      "\\tTab\n"
     ]
    }
   ],
   "source": [
    "# Raw String\n",
    "print(r'\\tTab')"
   ]
  },
  {
   "cell_type": "code",
   "execution_count": 4,
   "metadata": {},
   "outputs": [
    {
     "name": "stdout",
     "output_type": "stream",
     "text": [
      "<_sre.SRE_Match object; span=(1, 4), match='abc'>\n"
     ]
    }
   ],
   "source": [
    "pattern = re.compile(r'abc')\n",
    "\n",
    "matches = pattern.finditer(text_to_search)\n",
    "\n",
    "for match in matches:\n",
    "    print(match)"
   ]
  },
  {
   "cell_type": "code",
   "execution_count": 5,
   "metadata": {
    "scrolled": true
   },
   "outputs": [
    {
     "name": "stdout",
     "output_type": "stream",
     "text": [
      "abc\n"
     ]
    }
   ],
   "source": [
    "# Check\n",
    "print(text_to_search[1:4])"
   ]
  },
  {
   "cell_type": "markdown",
   "metadata": {},
   "source": [
    "For sepcial characters, we need to escape them"
   ]
  },
  {
   "cell_type": "code",
   "execution_count": 6,
   "metadata": {},
   "outputs": [
    {
     "name": "stdout",
     "output_type": "stream",
     "text": [
      "<_sre.SRE_Match object; span=(113, 114), match='.'>\n",
      "<_sre.SRE_Match object; span=(149, 150), match='.'>\n",
      "<_sre.SRE_Match object; span=(171, 172), match='.'>\n",
      "<_sre.SRE_Match object; span=(175, 176), match='.'>\n",
      "<_sre.SRE_Match object; span=(222, 223), match='.'>\n",
      "<_sre.SRE_Match object; span=(253, 254), match='.'>\n",
      "<_sre.SRE_Match object; span=(266, 267), match='.'>\n"
     ]
    }
   ],
   "source": [
    "pattern = re.compile(r'\\.') \n",
    "matches = pattern.finditer(text_to_search)\n",
    "\n",
    "for match in matches:\n",
    "    print(match)"
   ]
  },
  {
   "cell_type": "code",
   "execution_count": 7,
   "metadata": {
    "scrolled": true
   },
   "outputs": [
    {
     "name": "stdout",
     "output_type": "stream",
     "text": [
      "<_sre.SRE_Match object; span=(142, 153), match='coreyms.com'>\n"
     ]
    }
   ],
   "source": [
    "pattern = re.compile(r'coreyms\\.com') \n",
    "matches = pattern.finditer(text_to_search)\n",
    "\n",
    "for match in matches:\n",
    "    print(match)"
   ]
  },
  {
   "cell_type": "markdown",
   "metadata": {},
   "source": [
    "# Search for Patterns\n",
    "\n",
    ".       - Any Character Except New Line    \n",
    "\\d      - Digit (0-9)     \n",
    "\\D      - Not a Digit (0-9)     \n",
    "\\w      - Word Character (a-z, A-Z, 0-9, _)    \n",
    "\\W      - Not a Word Character    \n",
    "\\s      - Whitespace (space, tab, newline)    \n",
    "\\S      - Not Whitespace (space, tab, newline)    \n",
    "    \n",
    "\\b      - Word Boundary    \n",
    "\\B      - Not a Word Boundary    \n",
    "^       - Beginning of a String    \n",
    "$       - End of a String    \n",
    "\n",
    "[]      - Matches Characters in brackets    \n",
    "[^ ]    - Matches Characters NOT in brackets    \n",
    "|       - Either Or    \n",
    "( )     - Group    \n",
    "\n",
    "Quantifiers:    \n",
    "*       - 0 or More    \n",
    "+       - 1 or More    \n",
    "?       - 0 or One    \n",
    "{3}     - Exact Number    \n",
    "{3,4}   - Range of Numbers (Minimum, Maximum)    \n",
    "    \n",
    "\n",
    "#### Sample Regexs ####    \n",
    "\n",
    "[a-zA-Z0-9_.+-]+@[a-zA-Z0-9-]+\\.[a-zA-Z0-9-.]+    "
   ]
  },
  {
   "cell_type": "code",
   "execution_count": 8,
   "metadata": {},
   "outputs": [],
   "source": [
    "pattern = re.compile(r'\\d') # To find all digits\n",
    "matches = pattern.finditer(text_to_search)"
   ]
  },
  {
   "cell_type": "code",
   "execution_count": 9,
   "metadata": {
    "scrolled": false
   },
   "outputs": [
    {
     "name": "stdout",
     "output_type": "stream",
     "text": [
      "<_sre.SRE_Match object; span=(155, 167), match='321-555-4321'>\n",
      "<_sre.SRE_Match object; span=(168, 180), match='123.555.1234'>\n",
      "<_sre.SRE_Match object; span=(181, 193), match='123*555*1234'>\n",
      "<_sre.SRE_Match object; span=(194, 206), match='800-555-1234'>\n",
      "<_sre.SRE_Match object; span=(207, 219), match='900-555-1234'>\n"
     ]
    }
   ],
   "source": [
    "# Want to match phone numbers\n",
    "pattern = re.compile(r'\\d\\d\\d.\\d\\d\\d.\\d\\d\\d\\d')\n",
    "matches = pattern.finditer(text_to_search)\n",
    "\n",
    "for match in matches:\n",
    "    print(match)"
   ]
  },
  {
   "cell_type": "code",
   "execution_count": 10,
   "metadata": {},
   "outputs": [
    {
     "name": "stdout",
     "output_type": "stream",
     "text": [
      "<_sre.SRE_Match object; span=(12, 24), match='615-555-7164'>\n",
      "<_sre.SRE_Match object; span=(102, 114), match='800-555-5669'>\n",
      "<_sre.SRE_Match object; span=(191, 203), match='560-555-5153'>\n",
      "<_sre.SRE_Match object; span=(281, 293), match='900-555-9340'>\n",
      "<_sre.SRE_Match object; span=(378, 390), match='714-555-7405'>\n",
      "<_sre.SRE_Match object; span=(467, 479), match='800-555-6771'>\n",
      "<_sre.SRE_Match object; span=(557, 569), match='783-555-4799'>\n",
      "<_sre.SRE_Match object; span=(647, 659), match='516-555-4615'>\n",
      "<_sre.SRE_Match object; span=(740, 752), match='127-555-1867'>\n",
      "<_sre.SRE_Match object; span=(829, 841), match='608-555-4938'>\n",
      "<_sre.SRE_Match object; span=(915, 927), match='568-555-6051'>\n",
      "<_sre.SRE_Match object; span=(1003, 1015), match='292-555-1875'>\n",
      "<_sre.SRE_Match object; span=(1091, 1103), match='900-555-3205'>\n",
      "<_sre.SRE_Match object; span=(1180, 1192), match='614-555-1166'>\n",
      "<_sre.SRE_Match object; span=(1269, 1281), match='530-555-2676'>\n",
      "<_sre.SRE_Match object; span=(1355, 1367), match='470-555-2750'>\n",
      "<_sre.SRE_Match object; span=(1439, 1451), match='800-555-6089'>\n",
      "<_sre.SRE_Match object; span=(1526, 1538), match='880-555-8319'>\n",
      "<_sre.SRE_Match object; span=(1614, 1626), match='777-555-8378'>\n",
      "<_sre.SRE_Match object; span=(1697, 1709), match='998-555-7385'>\n",
      "<_sre.SRE_Match object; span=(1790, 1802), match='800-555-7100'>\n",
      "<_sre.SRE_Match object; span=(1874, 1886), match='903-555-8277'>\n",
      "<_sre.SRE_Match object; span=(1962, 1974), match='196-555-5674'>\n",
      "<_sre.SRE_Match object; span=(2051, 2063), match='900-555-5118'>\n",
      "<_sre.SRE_Match object; span=(2135, 2147), match='905-555-1630'>\n",
      "<_sre.SRE_Match object; span=(2216, 2228), match='203-555-3475'>\n",
      "<_sre.SRE_Match object; span=(2300, 2312), match='884-555-8444'>\n",
      "<_sre.SRE_Match object; span=(2387, 2399), match='904-555-8559'>\n",
      "<_sre.SRE_Match object; span=(2475, 2487), match='889-555-7393'>\n",
      "<_sre.SRE_Match object; span=(2562, 2574), match='195-555-2405'>\n",
      "<_sre.SRE_Match object; span=(2647, 2659), match='321-555-9053'>\n",
      "<_sre.SRE_Match object; span=(2734, 2746), match='133-555-1711'>\n",
      "<_sre.SRE_Match object; span=(2826, 2838), match='900-555-5428'>\n",
      "<_sre.SRE_Match object; span=(2915, 2927), match='760-555-7147'>\n",
      "<_sre.SRE_Match object; span=(3012, 3024), match='391-555-6621'>\n",
      "<_sre.SRE_Match object; span=(3103, 3115), match='932-555-7724'>\n",
      "<_sre.SRE_Match object; span=(3192, 3204), match='609-555-7908'>\n",
      "<_sre.SRE_Match object; span=(3284, 3296), match='800-555-8810'>\n",
      "<_sre.SRE_Match object; span=(3372, 3384), match='149-555-7657'>\n",
      "<_sre.SRE_Match object; span=(3452, 3464), match='130-555-9709'>\n",
      "<_sre.SRE_Match object; span=(3535, 3547), match='143-555-9295'>\n",
      "<_sre.SRE_Match object; span=(3624, 3636), match='903-555-9878'>\n",
      "<_sre.SRE_Match object; span=(3714, 3726), match='574-555-3194'>\n",
      "<_sre.SRE_Match object; span=(3802, 3814), match='496-555-7533'>\n",
      "<_sre.SRE_Match object; span=(3887, 3899), match='210-555-3757'>\n",
      "<_sre.SRE_Match object; span=(3971, 3983), match='900-555-9598'>\n",
      "<_sre.SRE_Match object; span=(4056, 4068), match='866-555-9844'>\n",
      "<_sre.SRE_Match object; span=(4140, 4152), match='669-555-7159'>\n",
      "<_sre.SRE_Match object; span=(4225, 4237), match='152-555-7417'>\n",
      "<_sre.SRE_Match object; span=(4317, 4329), match='893-555-9832'>\n",
      "<_sre.SRE_Match object; span=(4407, 4419), match='217-555-7123'>\n",
      "<_sre.SRE_Match object; span=(4498, 4510), match='786-555-6544'>\n",
      "<_sre.SRE_Match object; span=(4588, 4600), match='780-555-2574'>\n",
      "<_sre.SRE_Match object; span=(4676, 4688), match='926-555-8735'>\n",
      "<_sre.SRE_Match object; span=(4762, 4774), match='895-555-3539'>\n",
      "<_sre.SRE_Match object; span=(4859, 4871), match='874-555-3949'>\n",
      "<_sre.SRE_Match object; span=(4945, 4957), match='800-555-2420'>\n",
      "<_sre.SRE_Match object; span=(5034, 5046), match='936-555-6340'>\n",
      "<_sre.SRE_Match object; span=(5123, 5135), match='372-555-9809'>\n",
      "<_sre.SRE_Match object; span=(5210, 5222), match='890-555-5618'>\n",
      "<_sre.SRE_Match object; span=(5292, 5304), match='670-555-3005'>\n",
      "<_sre.SRE_Match object; span=(5382, 5394), match='509-555-5997'>\n",
      "<_sre.SRE_Match object; span=(5475, 5487), match='721-555-5632'>\n",
      "<_sre.SRE_Match object; span=(5566, 5578), match='900-555-3567'>\n",
      "<_sre.SRE_Match object; span=(5656, 5668), match='147-555-6830'>\n",
      "<_sre.SRE_Match object; span=(5745, 5757), match='582-555-3426'>\n",
      "<_sre.SRE_Match object; span=(5830, 5842), match='400-555-1706'>\n",
      "<_sre.SRE_Match object; span=(5921, 5933), match='525-555-1793'>\n",
      "<_sre.SRE_Match object; span=(6011, 6023), match='317-555-6700'>\n",
      "<_sre.SRE_Match object; span=(6099, 6111), match='974-555-8301'>\n",
      "<_sre.SRE_Match object; span=(6189, 6201), match='800-555-3216'>\n",
      "<_sre.SRE_Match object; span=(6273, 6285), match='746-555-4094'>\n",
      "<_sre.SRE_Match object; span=(6360, 6372), match='922-555-1773'>\n",
      "<_sre.SRE_Match object; span=(6445, 6457), match='711-555-4427'>\n",
      "<_sre.SRE_Match object; span=(6530, 6542), match='355-555-1872'>\n",
      "<_sre.SRE_Match object; span=(6619, 6631), match='852-555-6521'>\n",
      "<_sre.SRE_Match object; span=(6711, 6723), match='691-555-5773'>\n",
      "<_sre.SRE_Match object; span=(6803, 6815), match='332-555-5441'>\n",
      "<_sre.SRE_Match object; span=(6889, 6901), match='900-555-7755'>\n",
      "<_sre.SRE_Match object; span=(6971, 6983), match='379-555-3685'>\n",
      "<_sre.SRE_Match object; span=(7061, 7073), match='127-555-9682'>\n",
      "<_sre.SRE_Match object; span=(7152, 7164), match='789-555-7032'>\n",
      "<_sre.SRE_Match object; span=(7243, 7255), match='783-555-5135'>\n",
      "<_sre.SRE_Match object; span=(7336, 7348), match='315-555-6507'>\n",
      "<_sre.SRE_Match object; span=(7427, 7439), match='481-555-5835'>\n",
      "<_sre.SRE_Match object; span=(7515, 7527), match='365-555-8287'>\n",
      "<_sre.SRE_Match object; span=(7607, 7619), match='911-555-7535'>\n",
      "<_sre.SRE_Match object; span=(7693, 7705), match='681-555-2460'>\n",
      "<_sre.SRE_Match object; span=(7779, 7791), match='274-555-9800'>\n",
      "<_sre.SRE_Match object; span=(7864, 7876), match='800-555-1372'>\n",
      "<_sre.SRE_Match object; span=(7953, 7965), match='300-555-7821'>\n",
      "<_sre.SRE_Match object; span=(8043, 8055), match='133-555-3889'>\n",
      "<_sre.SRE_Match object; span=(8129, 8141), match='705-555-6863'>\n",
      "<_sre.SRE_Match object; span=(8218, 8230), match='215-555-9449'>\n",
      "<_sre.SRE_Match object; span=(8309, 8321), match='988-555-6112'>\n",
      "<_sre.SRE_Match object; span=(8395, 8407), match='623-555-3006'>\n",
      "<_sre.SRE_Match object; span=(8479, 8491), match='192-555-4977'>\n",
      "<_sre.SRE_Match object; span=(8564, 8576), match='178-555-4899'>\n",
      "<_sre.SRE_Match object; span=(8648, 8660), match='952-555-3089'>\n",
      "<_sre.SRE_Match object; span=(8741, 8753), match='900-555-6426'>\n"
     ]
    }
   ],
   "source": [
    "with open('data.txt', 'r') as f:\n",
    "    contents = f.read()\n",
    "    \n",
    "    matches = pattern.finditer(contents)\n",
    "\n",
    "    for match in matches:\n",
    "        print(match)"
   ]
  },
  {
   "cell_type": "code",
   "execution_count": null,
   "metadata": {},
   "outputs": [],
   "source": []
  }
 ],
 "metadata": {
  "kernelspec": {
   "display_name": "Python 3",
   "language": "python",
   "name": "python3"
  },
  "language_info": {
   "codemirror_mode": {
    "name": "ipython",
    "version": 3
   },
   "file_extension": ".py",
   "mimetype": "text/x-python",
   "name": "python",
   "nbconvert_exporter": "python",
   "pygments_lexer": "ipython3",
   "version": "3.6.5"
  }
 },
 "nbformat": 4,
 "nbformat_minor": 2
}
