{
 "cells": [
  {
   "cell_type": "markdown",
   "metadata": {},
   "source": [
    "---\n",
    "<h1 style=\"color:purple\">739. Daily Temperatures</h1>\n",
    "\n",
    "\n",
    "Given a list of daily temperatures T, return a list such that, for each day in the input, tells you how many days you would have to wait until a warmer temperature. If there is no future day for which this is possible, put 0 instead.\n",
    "\n",
    "For example, given the list of temperatures `T = [73, 74, 75, 71, 69, 72, 76, 73]`, your output should be `[1, 1, 4, 2, 1, 1, 0, 0]`.\n",
    "\n",
    "Note: The length of temperatures will be in the range `[1, 30000]`. Each temperature will be an integer in the range `[30, 100]`."
   ]
  },
  {
   "cell_type": "code",
   "execution_count": 1,
   "metadata": {},
   "outputs": [],
   "source": [
    "class Solution(object):\n",
    "    def dailyTemperatures(self, T):\n",
    "        \"\"\"\n",
    "        :type T: List[int]\n",
    "        :rtype: List[int]\n",
    "        \"\"\"\n",
    "        n = len(T)\n",
    "        res = [0] * n\n",
    "        \n",
    "        for i in range(n - 2, -1, -1):\n",
    "            k = i + 1\n",
    "            \n",
    "            while T[i] >= T[k] and res[k] > 0:\n",
    "                k += res[k]\n",
    "                    \n",
    "            if T[k] > T[i]:\n",
    "                res[i] = k - i\n",
    "                \n",
    "        return res"
   ]
  },
  {
   "cell_type": "markdown",
   "metadata": {},
   "source": [
    "---\n",
    "<h1 style=\"color:purple\">311. Sparse Matrix Multiplication</h1>\n",
    "\n",
    "Given two sparse matrices `A` and `B`, return the result of `AB`.\n",
    "\n",
    "You may assume that `A`'s column number is equal to `B`'s row number.\n",
    "\n",
    "Example:\n",
    "```\n",
    "Input:\n",
    "\n",
    "A = [\n",
    "  [ 1, 0, 0],\n",
    "  [-1, 0, 3]\n",
    "]\n",
    "\n",
    "B = [\n",
    "  [ 7, 0, 0 ],\n",
    "  [ 0, 0, 0 ],\n",
    "  [ 0, 0, 1 ]\n",
    "]\n",
    "\n",
    "Output:\n",
    "\n",
    "     |  1 0 0 |   | 7 0 0 |   |  7 0 0 |\n",
    "AB = | -1 0 3 | x | 0 0 0 | = | -7 0 3 |\n",
    "                  | 0 0 1 |\n",
    "```"
   ]
  },
  {
   "cell_type": "code",
   "execution_count": 1,
   "metadata": {},
   "outputs": [],
   "source": [
    "class Solution:\n",
    "    def multiply(self, A, B):\n",
    "        \"\"\"\n",
    "        :type A: List[List[int]]\n",
    "        :type B: List[List[int]]\n",
    "        :rtype: List[List[int]]\n",
    "        \"\"\"\n",
    "        r = len(A)\n",
    "        c = len(B[0])\n",
    "        \n",
    "        res = []\n",
    "        \n",
    "        for i in range(r):\n",
    "            a = A[i] \n",
    "            \n",
    "            res_row = []\n",
    "            for j in range(c):\n",
    "                b = []\n",
    "                for row in B:\n",
    "                    b.append(row[j])\n",
    "                res_row.append(self.dot(a, b))\n",
    "            res.append(res_row)\n",
    "        \n",
    "        \n",
    "        return res\n",
    "        \n",
    "    def dot(self, a, b):\n",
    "        # returns the dot product of vector a and b\n",
    "        # assume len(a) == len(b)\n",
    "        \n",
    "        size = len(a)\n",
    "        \n",
    "        res = 0\n",
    "        \n",
    "        for i in range(size):\n",
    "            res += a[i] * b[i]\n",
    "        \n",
    "        return res\n",
    "            "
   ]
  },
  {
   "cell_type": "markdown",
   "metadata": {},
   "source": [
    "Much Faster:"
   ]
  },
  {
   "cell_type": "code",
   "execution_count": 2,
   "metadata": {},
   "outputs": [],
   "source": [
    "class Solution(object):\n",
    "    def multiply(self, A, B):\n",
    "        mA,nA,nB = len(A),len(A[0]),len(B[0])\n",
    "        res = [[0]*len(B[0]) for _ in range(mA)]\n",
    "        for i in range(mA):\n",
    "            for j in range(nA):\n",
    "                if A[i][j]:\n",
    "                    for k in range(nB):\n",
    "                        res[i][k] += A[i][j]*B[j][k]\n",
    "        return res"
   ]
  },
  {
   "cell_type": "markdown",
   "metadata": {},
   "source": [
    "---\n",
    "# 94. Binary Tree Inorder Traversal\n",
    "\n",
    "Depth First Traversals:\n",
    "```\n",
    "    1\n",
    "   / \\\n",
    "  2   3\n",
    " / \\\n",
    "4   5\n",
    "```\n",
    "\n",
    "- Inorder (Left, Root, Right) : 4 2 5 1 3\n",
    "- Preorder (Root, Left, Right) : 1 2 4 5 3\n",
    "- Postorder (Left, Right, Root) : 4 5 2 3 1\n",
    "\n",
    "\n",
    "Given a binary tree, return the inorder traversal of its nodes' values.\n",
    "\n",
    "Example:\n",
    "```\n",
    "Input: [1,null,2,3]\n",
    "   1\n",
    "    \\\n",
    "     2\n",
    "    /\n",
    "   3\n",
    "\n",
    "Output: [1,3,2]\n",
    "```"
   ]
  },
  {
   "cell_type": "code",
   "execution_count": 3,
   "metadata": {},
   "outputs": [],
   "source": [
    "# Definition for a binary tree node.\n",
    "# class TreeNode:\n",
    "#     def __init__(self, x):\n",
    "#         self.val = x\n",
    "#         self.left = None\n",
    "#         self.right = None\n",
    "\n",
    "class Solution:\n",
    "    def inorderTraversal(self, root: 'TreeNode') -> 'List[int]':\n",
    "        res = []\n",
    "        \n",
    "        self.aux(root, res)\n",
    "        \n",
    "        return res\n",
    "        \n",
    "    def aux(self, root, res):\n",
    "        if not root:\n",
    "            return\n",
    "        \n",
    "        if root.left:\n",
    "            self.aux(root.left, res)\n",
    "        res.append(root.val)\n",
    "        if root.right:\n",
    "            self.aux(root.right, res)\n",
    "        "
   ]
  },
  {
   "cell_type": "markdown",
   "metadata": {},
   "source": [
    "---\n",
    "<h1 style=\"color:purple\"># 451. Sort Characters By Frequency</h1>\n",
    "\n",
    "Given a string, sort it in decreasing order based on the frequency of characters.\n",
    "\n",
    "Example 1:\n",
    "```\n",
    "Input:\n",
    "\"tree\"\n",
    "\n",
    "Output:\n",
    "\"eert\"\n",
    "\n",
    "Explanation:\n",
    "'e' appears twice while 'r' and 't' both appear once.\n",
    "So 'e' must appear before both 'r' and 't'. Therefore \"eetr\" is also a valid answer.\n",
    "```\n",
    "Example 2:\n",
    "```\n",
    "Input:\n",
    "\"cccaaa\"\n",
    "\n",
    "Output:\n",
    "\"cccaaa\"\n",
    "\n",
    "Explanation:\n",
    "Both 'c' and 'a' appear three times, so \"aaaccc\" is also a valid answer.\n",
    "Note that \"cacaca\" is incorrect, as the same characters must be together.\n",
    "```\n",
    "Example 3:\n",
    "```\n",
    "Input:\n",
    "\"Aabb\"\n",
    "\n",
    "Output:\n",
    "\"bbAa\"\n",
    "\n",
    "Explanation:\n",
    "\"bbaA\" is also a valid answer, but \"Aabb\" is incorrect.\n",
    "Note that 'A' and 'a' are treated as two different characters.\n",
    "```"
   ]
  },
  {
   "cell_type": "markdown",
   "metadata": {},
   "source": [
    "#### Getting Key with Max Value in Dict"
   ]
  },
  {
   "cell_type": "code",
   "execution_count": 4,
   "metadata": {},
   "outputs": [
    {
     "data": {
      "text/plain": [
       "'b'"
      ]
     },
     "execution_count": 4,
     "metadata": {},
     "output_type": "execute_result"
    }
   ],
   "source": [
    "stats = {'a':1000, 'b':3000, 'c': 100}\n",
    "max(stats, key=stats.get)"
   ]
  },
  {
   "cell_type": "code",
   "execution_count": 5,
   "metadata": {},
   "outputs": [],
   "source": [
    "class Solution:\n",
    "    def frequencySort(self, s: 'str') -> 'str':\n",
    "        \n",
    "        cset = set(s)\n",
    "        \n",
    "        d = {}\n",
    "        \n",
    "        for c in cset:\n",
    "            d[c] = s.count(c)\n",
    "        \n",
    "        res = \"\"\n",
    "        \n",
    "        while d:\n",
    "            maxc = max(d, key = d.get)\n",
    "            for _ in range(d[maxc]):\n",
    "                res += maxc\n",
    "            d.pop(maxc)\n",
    "        \n",
    "        return res"
   ]
  },
  {
   "cell_type": "markdown",
   "metadata": {},
   "source": [
    "---\n",
    "\n",
    "<h1 style=\"color:purple\"># 347. Top K Frequent Elements</h1>\n",
    "\n"
   ]
  },
  {
   "cell_type": "code",
   "execution_count": 6,
   "metadata": {},
   "outputs": [],
   "source": [
    "class Solution:\n",
    "    def topKFrequent(self, nums: 'List[int]', k: 'int') -> 'List[int]':\n",
    "        \n",
    "        nset = set(nums)\n",
    "        \n",
    "        d = {}\n",
    "        \n",
    "        for n in nset:\n",
    "            d[n] = nums.count(n)\n",
    "        \n",
    "        \n",
    "        res = []\n",
    "        \n",
    "        for i in range(k):\n",
    "            nmax = max(d, key = d.get)\n",
    "            res.append(nmax)\n",
    "            d.pop(nmax)\n",
    "        \n",
    "        return res"
   ]
  },
  {
   "cell_type": "code",
   "execution_count": 7,
   "metadata": {},
   "outputs": [],
   "source": [
    "# A much faste version: \n",
    "class Solution:\n",
    "    def topKFrequent(self, nums: 'List[int]', k: 'int') -> 'List[int]':\n",
    "        count = collections.Counter( nums )\n",
    "        return heapq.nlargest(k, count, key = lambda x: count[x])      "
   ]
  },
  {
   "cell_type": "markdown",
   "metadata": {},
   "source": [
    "---\n",
    "# 36. Valid Sudoku"
   ]
  },
  {
   "cell_type": "code",
   "execution_count": null,
   "metadata": {},
   "outputs": [],
   "source": []
  }
 ],
 "metadata": {
  "kernelspec": {
   "display_name": "Python 3",
   "language": "python",
   "name": "python3"
  },
  "language_info": {
   "codemirror_mode": {
    "name": "ipython",
    "version": 3
   },
   "file_extension": ".py",
   "mimetype": "text/x-python",
   "name": "python",
   "nbconvert_exporter": "python",
   "pygments_lexer": "ipython3",
   "version": "3.6.5"
  }
 },
 "nbformat": 4,
 "nbformat_minor": 2
}
