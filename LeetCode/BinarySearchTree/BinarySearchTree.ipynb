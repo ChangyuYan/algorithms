{
 "cells": [
  {
   "cell_type": "markdown",
   "metadata": {},
   "source": [
    "---\n",
    "# Breadth First Search"
   ]
  },
  {
   "cell_type": "code",
   "execution_count": 9,
   "metadata": {},
   "outputs": [
    {
     "name": "stdout",
     "output_type": "stream",
     "text": [
      "Following is Breadth First Traversal (starting from vertex 2)\n",
      "2 0 3 1 "
     ]
    }
   ],
   "source": [
    "# Python3 Program to print BFS traversal \n",
    "# from a given source vertex. BFS(int s) \n",
    "# traverses vertices reachable from s. \n",
    "from collections import defaultdict \n",
    "  \n",
    "# This class represents a directed graph \n",
    "# using adjacency list representation \n",
    "class Graph: \n",
    "  \n",
    "    # Constructor \n",
    "    def __init__(self): \n",
    "  \n",
    "        # default dictionary to store graph \n",
    "        self.graph = defaultdict(list) \n",
    "  \n",
    "    # function to add an edge to graph \n",
    "    def addEdge(self,u,v): \n",
    "        self.graph[u].append(v) \n",
    "  \n",
    "    # Function to print a BFS of graph \n",
    "    def BFS(self, s): \n",
    "  \n",
    "        # Mark all the vertices as not visited \n",
    "        visited = [False] * (len(self.graph)) \n",
    "  \n",
    "        # Create a queue for BFS \n",
    "        queue = [] \n",
    "  \n",
    "        # Mark the source node as  \n",
    "        # visited and enqueue it \n",
    "        queue.append(s) \n",
    "        visited[s] = True\n",
    "  \n",
    "        while queue: \n",
    "  \n",
    "            # Dequeue a vertex from  \n",
    "            # queue and print it \n",
    "            s = queue.pop(0) \n",
    "            print (s, end = \" \") \n",
    "  \n",
    "            # Get all adjacent vertices of the \n",
    "            # dequeued vertex s. If a adjacent \n",
    "            # has not been visited, then mark it \n",
    "            # visited and enqueue it \n",
    "            for i in self.graph[s]: \n",
    "                if visited[i] == False: \n",
    "                    queue.append(i) \n",
    "                    visited[i] = True\n",
    "  \n",
    "# Driver code \n",
    "  \n",
    "# Create a graph given in \n",
    "# the above diagram \n",
    "g = Graph() \n",
    "g.addEdge(0, 1) \n",
    "g.addEdge(0, 2) \n",
    "g.addEdge(1, 2) \n",
    "g.addEdge(2, 0) \n",
    "g.addEdge(2, 3) \n",
    "g.addEdge(3, 3) \n",
    "  \n",
    "print (\"Following is Breadth First Traversal\"\n",
    "                  \" (starting from vertex 2)\") \n",
    "g.BFS(2) \n",
    "  \n",
    "# This code is contributed by Neelam Yadav "
   ]
  },
  {
   "cell_type": "markdown",
   "metadata": {},
   "source": [
    "---\n",
    "# Depth First Search"
   ]
  },
  {
   "cell_type": "code",
   "execution_count": 12,
   "metadata": {},
   "outputs": [
    {
     "name": "stdout",
     "output_type": "stream",
     "text": [
      "Following is DFS from (starting from vertex 2)\n",
      "2\n",
      "0\n",
      "1\n",
      "3\n"
     ]
    }
   ],
   "source": [
    "# Python program to print DFS traversal from a \n",
    "# given given graph \n",
    "from collections import defaultdict \n",
    "  \n",
    "# This class represents a directed graph using \n",
    "# adjacency list representation \n",
    "class Graph: \n",
    "  \n",
    "    # Constructor \n",
    "    def __init__(self): \n",
    "  \n",
    "        # default dictionary to store graph \n",
    "        self.graph = defaultdict(list) \n",
    "  \n",
    "    # function to add an edge to graph \n",
    "    def addEdge(self,u,v): \n",
    "        self.graph[u].append(v) \n",
    "  \n",
    "    # A function used by DFS \n",
    "    def DFSUtil(self,v,visited): \n",
    "  \n",
    "        # Mark the current node as visited and print it \n",
    "        visited[v]= True\n",
    "        print(v) \n",
    "  \n",
    "        # Recur for all the vertices adjacent to this vertex \n",
    "        for i in self.graph[v]: \n",
    "            if visited[i] == False: \n",
    "                self.DFSUtil(i, visited) \n",
    "  \n",
    "  \n",
    "    # The function to do DFS traversal. It uses \n",
    "    # recursive DFSUtil() \n",
    "    def DFS(self,v): \n",
    "  \n",
    "        # Mark all the vertices as not visited \n",
    "        visited = [False]*(len(self.graph)) \n",
    "  \n",
    "        # Call the recursive helper function to print \n",
    "        # DFS traversal \n",
    "        self.DFSUtil(v,visited) \n",
    "  \n",
    "  \n",
    "# Driver code \n",
    "# Create a graph given in the above diagram \n",
    "g = Graph() \n",
    "g.addEdge(0, 1) \n",
    "g.addEdge(0, 2) \n",
    "g.addEdge(1, 2) \n",
    "g.addEdge(2, 0) \n",
    "g.addEdge(2, 3) \n",
    "g.addEdge(3, 3) \n",
    "  \n",
    "print(\"Following is DFS from (starting from vertex 2)\")\n",
    "g.DFS(2) \n",
    "  \n",
    "# This code is contributed by Neelam Yadav "
   ]
  },
  {
   "cell_type": "markdown",
   "metadata": {},
   "source": [
    "---\n",
    "# 530. Minimum Absolute Difference in BST"
   ]
  },
  {
   "cell_type": "code",
   "execution_count": 1,
   "metadata": {},
   "outputs": [],
   "source": [
    "# Definition for a binary tree node.\n",
    "# class TreeNode:\n",
    "#     def __init__(self, x):\n",
    "#         self.val = x\n",
    "#         self.left = None\n",
    "#         self.right = None\n",
    "\n",
    "class Solution:\n",
    "    def getMinimumDifference(self, root):\n",
    "        \"\"\"\n",
    "        :type root: TreeNode\n",
    "        :rtype: int\n",
    "        \"\"\"\n",
    "        nums = []\n",
    "        \n",
    "        # Convert Binary Search Tree into Sorted Array\n",
    "        self.getnums(root, nums)\n",
    "        \n",
    "        mindiff = nums[-1] - nums[0]\n",
    "        \n",
    "        for i in range(len(nums) - 1):\n",
    "            if nums[i + 1] - nums[i] < mindiff:\n",
    "                mindiff = nums[i + 1] - nums[i]\n",
    "        \n",
    "        return mindiff\n",
    "        \n",
    "    \n",
    "    def getnums(self, root, nums):\n",
    "        if not root:\n",
    "            return\n",
    "        \n",
    "        if root.left: \n",
    "            self.getnums(root.left, nums)\n",
    "        nums.append(root.val)\n",
    "        if root.right: \n",
    "            self.getnums(root.right, nums)\n",
    "        "
   ]
  },
  {
   "cell_type": "markdown",
   "metadata": {},
   "source": [
    "---\n",
    "# 783. Minimum Distance Between BST Nodes"
   ]
  },
  {
   "cell_type": "code",
   "execution_count": 1,
   "metadata": {},
   "outputs": [],
   "source": [
    "# Definition for a binary tree node.\n",
    "# class TreeNode:\n",
    "#     def __init__(self, x):\n",
    "#         self.val = x\n",
    "#         self.left = None\n",
    "#         self.right = None\n",
    "\n",
    "class Solution:\n",
    "    def minDiffInBST(self, root):\n",
    "        \"\"\"\n",
    "        :type root: TreeNode\n",
    "        :rtype: int\n",
    "        \"\"\"\n",
    "        nums = []\n",
    "        self.getnums(root, nums)\n",
    "        \n",
    "        min_diff = nums[-1] - nums[0]\n",
    "        \n",
    "        for i in range(len(nums) - 1):\n",
    "            if nums[i+1] - nums[i] < min_diff:\n",
    "                min_diff = nums[i+1] - nums[i]\n",
    "        \n",
    "        return min_diff\n",
    "    \n",
    "    \n",
    "    def getnums(self, root, nums):\n",
    "        if not root:\n",
    "            return\n",
    "        if root.left:\n",
    "            self.getnums(root.left, nums)\n",
    "        nums.append(root.val)\n",
    "        if root.right:\n",
    "            self.getnums(root.right, nums)"
   ]
  },
  {
   "cell_type": "markdown",
   "metadata": {},
   "source": [
    "---\n",
    "# How to pass by reference, Python"
   ]
  },
  {
   "cell_type": "code",
   "execution_count": 6,
   "metadata": {},
   "outputs": [
    {
     "name": "stdout",
     "output_type": "stream",
     "text": [
      "1\n"
     ]
    },
    {
     "data": {
      "text/plain": [
       "0"
      ]
     },
     "execution_count": 6,
     "metadata": {},
     "output_type": "execute_result"
    }
   ],
   "source": [
    "# Note: Python does not have passing by reference\n",
    "a = 0\n",
    "\n",
    "def add1(x):\n",
    "    x += 1\n",
    "    print(x)\n",
    "    \n",
    "add1(a)\n",
    "\n",
    "a"
   ]
  },
  {
   "cell_type": "code",
   "execution_count": 7,
   "metadata": {},
   "outputs": [
    {
     "name": "stdout",
     "output_type": "stream",
     "text": [
      "1\n"
     ]
    },
    {
     "data": {
      "text/plain": [
       "1"
      ]
     },
     "execution_count": 7,
     "metadata": {},
     "output_type": "execute_result"
    }
   ],
   "source": [
    "# Therefore, to explicitly change a value, can use this trick\n",
    "\n",
    "a=[0]\n",
    "def add1(x:\"list\"): # make x a list that contains one value\n",
    "    x[0] += 1\n",
    "    print(x[0])\n",
    "    \n",
    "add1(a)\n",
    "\n",
    "a[0] # Yay"
   ]
  },
  {
   "cell_type": "markdown",
   "metadata": {},
   "source": [
    "---\n",
    "# 938. Range Sum of BST"
   ]
  },
  {
   "cell_type": "code",
   "execution_count": 8,
   "metadata": {},
   "outputs": [],
   "source": [
    "# Definition for a binary tree node.\n",
    "# class TreeNode:\n",
    "#     def __init__(self, x):\n",
    "#         self.val = x\n",
    "#         self.left = None\n",
    "#         self.right = None\n",
    "\n",
    "class Solution:\n",
    "    def rangeSumBST(self, root: 'TreeNode', L: 'int', R: 'int') -> 'int':\n",
    "        res = [0]\n",
    "        \n",
    "        self.aux(root, L, R, res)\n",
    "        \n",
    "        return res[0]\n",
    "    \n",
    "    \n",
    "    def aux(self, root, L, R, res):\n",
    "        if not root:\n",
    "            return res\n",
    "        if root.left:\n",
    "            self.aux(root.left, L, R, res)\n",
    "        if L <= root.val and root.val <= R:\n",
    "            res[0] += root.val\n",
    "        if root.right:\n",
    "            self.aux(root.right, L, R, res)"
   ]
  },
  {
   "cell_type": "markdown",
   "metadata": {},
   "source": [
    "---\n",
    "<h1 style=\"color:purple\"> 776. Split BST </h1>\n",
    "\n",
    "```\n",
    "Input: root = [4,2,6,1,3,5,7], V = 2\n",
    "Output: [[2,1],[4,3,6,null,null,5,7]]\n",
    "Explanation:\n",
    "Note that root, output[0], and output[1] are TreeNode objects, not arrays.\n",
    "\n",
    "The given tree [4,2,6,1,3,5,7] is represented by the following diagram:\n",
    "\n",
    "          4\n",
    "        /   \\\n",
    "      2      6\n",
    "     / \\    / \\\n",
    "    1   3  5   7\n",
    "\n",
    "while the diagrams for the outputs are:\n",
    "\n",
    "          4\n",
    "        /   \\\n",
    "      3      6      and    2\n",
    "            / \\           /\n",
    "           5   7         1\n",
    "```"
   ]
  },
  {
   "cell_type": "code",
   "execution_count": 1,
   "metadata": {},
   "outputs": [],
   "source": [
    "# Definition for a binary tree node.\n",
    "# class TreeNode:\n",
    "#     def __init__(self, x):\n",
    "#         self.val = x\n",
    "#         self.left = None\n",
    "#         self.right = None\n",
    "\n",
    "class Solution:\n",
    "        \n",
    "    def splitBST(self, root, V):\n",
    "        \"\"\"\n",
    "        :type root: TreeNode\n",
    "        :type V: int\n",
    "        :rtype: List[TreeNode]\n",
    "        \"\"\"\n",
    "        if not root:\n",
    "            return [None,None]\n",
    "        \n",
    "        if root.val==V:\n",
    "            a=root.right\n",
    "            root.right=None\n",
    "            return [root,a]\n",
    "        \n",
    "        elif root.val<V:\n",
    "            small,large=self.splitBST(root.right,V)\n",
    "            root.right=small\n",
    "            return [root,large]\n",
    "        \n",
    "        else:\n",
    "            small,large=self.splitBST(root.left,V)\n",
    "            root.left=large\n",
    "            return [small,root]"
   ]
  },
  {
   "cell_type": "markdown",
   "metadata": {},
   "source": [
    "---\n",
    "# 220. Contains Duplicate III"
   ]
  },
  {
   "cell_type": "code",
   "execution_count": 3,
   "metadata": {},
   "outputs": [],
   "source": [
    "# An Extreeeeeeeeemly slow solution (pass the time limit once in a while)\n",
    "\n",
    "class Solution:\n",
    "    def containsNearbyAlmostDuplicate(self, nums: 'List[int]', k: 'int', t: 'int') -> 'bool':\n",
    "    \n",
    "        size = len(nums)\n",
    "        \n",
    "        for i in range(size - 1):\n",
    "            jmax = min(size, i + k + 1)\n",
    "            for j in range(i+1, jmax):\n",
    "                if abs(nums[i] - nums[j]) <= t:\n",
    "                    return True\n",
    "\n",
    "        return False"
   ]
  },
  {
   "cell_type": "code",
   "execution_count": null,
   "metadata": {},
   "outputs": [],
   "source": []
  }
 ],
 "metadata": {
  "kernelspec": {
   "display_name": "Python 3",
   "language": "python",
   "name": "python3"
  },
  "language_info": {
   "codemirror_mode": {
    "name": "ipython",
    "version": 3
   },
   "file_extension": ".py",
   "mimetype": "text/x-python",
   "name": "python",
   "nbconvert_exporter": "python",
   "pygments_lexer": "ipython3",
   "version": "3.6.5"
  }
 },
 "nbformat": 4,
 "nbformat_minor": 2
}
