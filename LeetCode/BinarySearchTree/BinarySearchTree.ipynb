{
 "cells": [
  {
   "cell_type": "markdown",
   "metadata": {},
   "source": [
    "---\n",
    "# 530. Minimum Absolute Difference in BST"
   ]
  },
  {
   "cell_type": "code",
   "execution_count": 1,
   "metadata": {},
   "outputs": [],
   "source": [
    "# Definition for a binary tree node.\n",
    "# class TreeNode:\n",
    "#     def __init__(self, x):\n",
    "#         self.val = x\n",
    "#         self.left = None\n",
    "#         self.right = None\n",
    "\n",
    "class Solution:\n",
    "    def getMinimumDifference(self, root):\n",
    "        \"\"\"\n",
    "        :type root: TreeNode\n",
    "        :rtype: int\n",
    "        \"\"\"\n",
    "        nums = []\n",
    "        \n",
    "        # Convert Binary Search Tree into Sorted Array\n",
    "        self.getnums(root, nums)\n",
    "        \n",
    "        mindiff = nums[-1] - nums[0]\n",
    "        \n",
    "        for i in range(len(nums) - 1):\n",
    "            if nums[i + 1] - nums[i] < mindiff:\n",
    "                mindiff = nums[i + 1] - nums[i]\n",
    "        \n",
    "        return mindiff\n",
    "        \n",
    "    \n",
    "    def getnums(self, root, nums):\n",
    "        if not root:\n",
    "            return\n",
    "        \n",
    "        if root.left: \n",
    "            self.getnums(root.left, nums)\n",
    "        nums.append(root.val)\n",
    "        if root.right: \n",
    "            self.getnums(root.right, nums)\n",
    "        "
   ]
  },
  {
   "cell_type": "code",
   "execution_count": null,
   "metadata": {},
   "outputs": [],
   "source": []
  }
 ],
 "metadata": {
  "kernelspec": {
   "display_name": "Python 3",
   "language": "python",
   "name": "python3"
  },
  "language_info": {
   "codemirror_mode": {
    "name": "ipython",
    "version": 3
   },
   "file_extension": ".py",
   "mimetype": "text/x-python",
   "name": "python",
   "nbconvert_exporter": "python",
   "pygments_lexer": "ipython3",
   "version": "3.6.5"
  }
 },
 "nbformat": 4,
 "nbformat_minor": 2
}
