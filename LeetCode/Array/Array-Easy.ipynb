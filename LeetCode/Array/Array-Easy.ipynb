{
 "cells": [
  {
   "cell_type": "markdown",
   "metadata": {},
   "source": [
    "# 977. Squares of a Sorted Array\n",
    "Given an array of integers A sorted in non-decreasing order, return an array of the squares of each number, also in sorted non-decreasing order.\n",
    "\n",
    " \n",
    "\n",
    "Example 1:\n",
    "```\n",
    "Input: [-4,-1,0,3,10]\n",
    "Output: [0,1,9,16,100]\n",
    "```\n",
    "Example 2:\n",
    "```\n",
    "Input: [-7,-3,2,3,11]\n",
    "Output: [4,9,9,49,121]\n",
    "```"
   ]
  },
  {
   "cell_type": "code",
   "execution_count": 1,
   "metadata": {},
   "outputs": [],
   "source": [
    "class Solution:\n",
    "    def sortedSquares(self, A: 'List[int]') -> 'List[int]':\n",
    "        res = []\n",
    "        \n",
    "        for num in A:\n",
    "            res.append(num ** 2)\n",
    "            \n",
    "        return sorted(res)"
   ]
  },
  {
   "cell_type": "markdown",
   "metadata": {},
   "source": [
    "---\n",
    "# 905. Sort Array By Parity\n",
    "\n",
    "\n",
    "Given an array `A` of non-negative integers, return an array consisting of all the even elements of `A`, followed by all the odd elements of `A`.\n",
    "\n",
    "You may return any answer array that satisfies this condition.\n",
    "\n",
    " \n",
    "\n",
    "Example 1:\n",
    "```\n",
    "Input: [3,1,2,4]\n",
    "Output: [2,4,3,1]\n",
    "The outputs [4,2,3,1], [2,4,1,3], and [4,2,1,3] would also be accepted.\n",
    "```\n",
    "\n",
    "Note:   \n",
    "```\n",
    "1 <= A.length <= 5000\n",
    "0 <= A[i] <= 5000```"
   ]
  },
  {
   "cell_type": "code",
   "execution_count": 2,
   "metadata": {},
   "outputs": [],
   "source": [
    "class Solution:\n",
    "    def sortArrayByParity(self, A: 'List[int]') -> 'List[int]':\n",
    "        res = []\n",
    "        \n",
    "        for num in A:\n",
    "            if num % 2 == 0:\n",
    "                res.insert(0, num)\n",
    "            else:\n",
    "                res.append(num)\n",
    "        \n",
    "        return res"
   ]
  },
  {
   "cell_type": "markdown",
   "metadata": {},
   "source": [
    "---\n",
    "# 832. Flipping an Image\n",
    "\n",
    "Given a binary matrix A, we want to flip the image horizontally, then invert it, and return the resulting image.\n",
    "\n",
    "To flip an image horizontally means that each row of the image is reversed.  For example, flipping `[1, 1, 0]` horizontally results in `[0, 1, 1]`.\n",
    "\n",
    "To invert an image means that each 0 is replaced by 1, and each 1 is replaced by 0. For example, inverting `[0, 1, 1]` results in `[1, 0, 0]`.\n",
    "\n",
    "Example 1:\n",
    "```\n",
    "Input: [[1,1,0],[1,0,1],[0,0,0]]\n",
    "Output: [[1,0,0],[0,1,0],[1,1,1]]\n",
    "Explanation: First reverse each row: [[0,1,1],[1,0,1],[0,0,0]].\n",
    "Then, invert the image: [[1,0,0],[0,1,0],[1,1,1]]\n",
    "```\n",
    "Example 2:\n",
    "```\n",
    "Input: [[1,1,0,0],[1,0,0,1],[0,1,1,1],[1,0,1,0]]\n",
    "Output: [[1,1,0,0],[0,1,1,0],[0,0,0,1],[1,0,1,0]]\n",
    "Explanation: First reverse each row: [[0,0,1,1],[1,0,0,1],[1,1,1,0],[0,1,0,1]].\n",
    "Then invert the image: [[1,1,0,0],[0,1,1,0],[0,0,0,1],[1,0,1,0]]\n",
    "```\n",
    "Notes:\n",
    "```\n",
    "1 <= A.length = A[0].length <= 20\n",
    "0 <= A[i][j] <= 1\n",
    "```"
   ]
  },
  {
   "cell_type": "code",
   "execution_count": 3,
   "metadata": {},
   "outputs": [],
   "source": [
    "class Solution:\n",
    "    def flipAndInvertImage(self, A: 'List[List[int]]') -> 'List[List[int]]':\n",
    "        irange = len(A)\n",
    "        jrange = len(A[0])\n",
    "        for i in range(irange):\n",
    "            A[i].reverse()\n",
    "            for j in range(jrange):\n",
    "                A[i][j] ^= 1\n",
    "        \n",
    "        return A"
   ]
  },
  {
   "cell_type": "markdown",
   "metadata": {},
   "source": [
    "---\n",
    "# 985. Sum of Even Numbers After Queries\n",
    "\n",
    "We have an array `A` of integers, and an array queries of queries.\n",
    "\n",
    "For the `i`-th query `val = queries[i][0]`, `index = queries[i][1]`, we add val to `A[index]`.  Then, the answer to the `i`-th query is the sum of the even values of `A`.\n",
    "\n",
    "(Here, the given `index = queries[i][1]` is a 0-based index, and each query permanently modifies the array `A`.)\n",
    "\n",
    "Return the answer to all queries.  Your `answer` array should have `answer[i]` as the answer to the `i`-th query.\n",
    "\n",
    " \n",
    "\n",
    "Example 1:\n",
    "```\n",
    "Input: A = [1,2,3,4], queries = [[1,0],[-3,1],[-4,0],[2,3]]\n",
    "Output: [8,6,2,4]\n",
    "Explanation: \n",
    "At the beginning, the array is [1,2,3,4].\n",
    "After adding 1 to A[0], the array is [2,2,3,4], and the sum of even values is 2 + 2 + 4 = 8.\n",
    "After adding -3 to A[1], the array is [2,-1,3,4], and the sum of even values is 2 + 4 = 6.\n",
    "After adding -4 to A[0], the array is [-2,-1,3,4], and the sum of even values is -2 + 4 = 2.\n",
    "After adding 2 to A[3], the array is [-2,-1,3,6], and the sum of even values is -2 + 6 = 4.\n",
    "```"
   ]
  },
  {
   "cell_type": "code",
   "execution_count": 4,
   "metadata": {},
   "outputs": [],
   "source": [
    "class Solution:\n",
    "    def sumEvenAfterQueries(self, A: 'List[int]', queries: 'List[List[int]]') -> 'List[int]':\n",
    "        \n",
    "        res = []\n",
    "        \n",
    "        init = 0\n",
    "        \n",
    "        for num in A:\n",
    "            if num % 2 == 0:\n",
    "                init += num\n",
    "        \n",
    "        for pair in queries:\n",
    "            to_add = pair[0]\n",
    "            Aorig = A[pair[1]]\n",
    "            \n",
    "            if to_add % 2 == 0: # meaning we are adding an even num\n",
    "                if Aorig % 2 == 0:\n",
    "                    init += to_add\n",
    "                    \n",
    "            else: # meaning we are adding an odd num\n",
    "                if Aorig % 2 == 0:\n",
    "                    init -= Aorig\n",
    "                else:\n",
    "                    init += (Aorig + to_add)\n",
    "            A[pair[1]] += to_add\n",
    "        \n",
    "            res.append(init)\n",
    "        \n",
    "        return res"
   ]
  },
  {
   "cell_type": "markdown",
   "metadata": {},
   "source": [
    "---\n",
    "# 561. Array Partition I\n",
    "\n",
    "Given an array of 2n integers, your task is to group these integers into n pairs of integer, say (a1, b1), (a2, b2), ..., (an, bn) which makes sum of min(ai, bi) for all i from 1 to n as large as possible.\n",
    "\n",
    "Example 1:\n",
    "```\n",
    "Input: [1,4,3,2]\n",
    "\n",
    "Output: 4\n",
    "Explanation: n is 2, and the maximum sum of pairs is 4 = min(1, 2) + min(3, 4).\n",
    "```\n",
    "Note:\n",
    "1. n is a positive integer, which is in the range of [1, 10000].\n",
    "2. All the integers in the array will be in the range of [-10000, 10000]."
   ]
  },
  {
   "cell_type": "code",
   "execution_count": 5,
   "metadata": {},
   "outputs": [],
   "source": [
    "class Solution:\n",
    "    def arrayPairSum(self, nums: 'List[int]') -> 'int':\n",
    "        nums.sort()\n",
    "        res = 0\n",
    "        for i in range(0, len(nums), 2):\n",
    "            res += nums[i]\n",
    "            \n",
    "        return res"
   ]
  },
  {
   "cell_type": "markdown",
   "metadata": {},
   "source": [
    "---\n",
    "# 922. Sort Array By Parity II\n",
    "\n",
    "Given an array A of non-negative integers, half of the integers in A are odd, and half of the integers are even.\n",
    "\n",
    "Sort the array so that whenever A[i] is odd, i is odd; and whenever A[i] is even, i is even.\n",
    "\n",
    "You may return any answer array that satisfies this condition.\n",
    "\n",
    " \n",
    "\n",
    "Example 1:\n",
    "```\n",
    "Input: [4,2,5,7]\n",
    "Output: [4,5,2,7]\n",
    "Explanation: [4,7,2,5], [2,5,4,7], [2,7,4,5] would also have been accepted.\n",
    "```\n",
    "\n",
    "Note:\n",
    "```\n",
    "2 <= A.length <= 20000\n",
    "A.length % 2 == 0\n",
    "0 <= A[i] <= 1000\n",
    "```"
   ]
  },
  {
   "cell_type": "code",
   "execution_count": 6,
   "metadata": {},
   "outputs": [],
   "source": [
    "class Solution:\n",
    "    def sortArrayByParityII(self, A: 'List[int]') -> 'List[int]':\n",
    "        even = []\n",
    "        odd = []\n",
    "        \n",
    "        res = []\n",
    "        \n",
    "        for num in A:\n",
    "            if num % 2 == 0:\n",
    "                even.append(num)\n",
    "            else:\n",
    "                odd.append(num)\n",
    "        \n",
    "        for i in range(len(even)):\n",
    "            res.append(even[i])\n",
    "            res.append(odd[i])\n",
    "        \n",
    "        return res"
   ]
  },
  {
   "cell_type": "markdown",
   "metadata": {},
   "source": [
    "---\n",
    "# 509. Fibonacci Number"
   ]
  },
  {
   "cell_type": "code",
   "execution_count": 7,
   "metadata": {},
   "outputs": [],
   "source": [
    "class Solution:\n",
    "    def __init__(self):\n",
    "        self.d = {0: 0, 1: 1}\n",
    "        \n",
    "    def fib(self, N: 'int') -> 'int':\n",
    "        if N in self.d:\n",
    "            return self.d[N]\n",
    "        \n",
    "        else:\n",
    "            self.d[N] = self.fib(N-1) + self.fib(N-2)\n",
    "            \n",
    "            return self.d[N]"
   ]
  },
  {
   "cell_type": "markdown",
   "metadata": {},
   "source": []
  },
  {
   "cell_type": "code",
   "execution_count": 8,
   "metadata": {},
   "outputs": [
    {
     "data": {
      "text/plain": [
       "[[], [], []]"
      ]
     },
     "execution_count": 8,
     "metadata": {},
     "output_type": "execute_result"
    }
   ],
   "source": [
    "# Python Initializing a number of lists: \n",
    "\n",
    "[[]] * 3"
   ]
  },
  {
   "cell_type": "markdown",
   "metadata": {},
   "source": [
    "---\n",
    "# 867. Transpose Matrix\n",
    "\n",
    "\n",
    "Given a matrix `A`, return the transpose of `A`.\n",
    "\n",
    "The transpose of a matrix is the matrix flipped over it's main diagonal, switching the row and column indices of the matrix.\n",
    "\n",
    " \n",
    "\n",
    "Example 1:\n",
    "```\n",
    "Input: [[1,2,3],[4,5,6],[7,8,9]]\n",
    "Output: [[1,4,7],[2,5,8],[3,6,9]]\n",
    "```\n",
    "Example 2:\n",
    "\n",
    "```\n",
    "Input: [[1,2,3],[4,5,6]]\n",
    "Output: [[1,4],[2,5],[3,6]]\n",
    "```\n",
    "\n",
    "Note:\n",
    "```\n",
    "1 <= A.length <= 1000\n",
    "1 <= A[0].length <= 1000\n",
    "```"
   ]
  },
  {
   "cell_type": "code",
   "execution_count": 9,
   "metadata": {},
   "outputs": [],
   "source": [
    "class Solution:\n",
    "    def transpose(self, A: 'List[List[int]]') -> 'List[List[int]]':\n",
    "        \n",
    "        A_cols = len(A[0])\n",
    "        res = []\n",
    "        \n",
    "        for j in range(A_cols):\n",
    "            newline = [] # row in transpose matrix\n",
    "            for row in A:\n",
    "                newline.append(row[j])\n",
    "            res.append(newline)\n",
    "        \n",
    "        return res\n",
    "            "
   ]
  },
  {
   "cell_type": "markdown",
   "metadata": {},
   "source": [
    "---\n",
    "# 766. Toeplitz Matrix\n",
    "\n",
    "\n",
    "A matrix is Toeplitz if every diagonal from top-left to bottom-right has the same element.\n",
    "\n",
    "Now given an `M x N` matrix, return `True` if and only if the matrix is Toeplitz.\n",
    " \n",
    "\n",
    "Example 1:\n",
    "```\n",
    "Input:\n",
    "matrix = [\n",
    "  [1,2,3,4],\n",
    "  [5,1,2,3],\n",
    "  [9,5,1,2]\n",
    "]\n",
    "Output: True\n",
    "Explanation:\n",
    "In the above grid, the diagonals are:\n",
    "\"[9]\", \"[5, 5]\", \"[1, 1, 1]\", \"[2, 2, 2]\", \"[3, 3]\", \"[4]\".\n",
    "In each diagonal all elements are the same, so the answer is True.\n",
    "```\n",
    "Example 2:\n",
    "```\n",
    "Input:\n",
    "matrix = [\n",
    "  [1,2],\n",
    "  [2,2]\n",
    "]\n",
    "Output: False\n",
    "Explanation:\n",
    "The diagonal \"[1, 2]\" has different elements.\n",
    "```\n",
    "\n",
    "\n",
    "<h4 style=\"color:red\">PAY CLOSE ATTENTION TO INDEX ORDERING!!!!!!! </h4>"
   ]
  },
  {
   "cell_type": "code",
   "execution_count": 10,
   "metadata": {},
   "outputs": [],
   "source": [
    "class Solution:\n",
    "    def isToeplitzMatrix(self, A: 'List[List[int]]') -> 'bool':\n",
    "        # A is a matrix\n",
    "        \n",
    "        rows = len(A)\n",
    "        cols = len(A[0])\n",
    "        \n",
    "        \n",
    "        for i in range(cols - 1):\n",
    "            j = 0\n",
    "            while i + 1 < cols and j + 1 < rows:\n",
    "                if A[j][i] != A[j+1][i+1]:\n",
    "                    return False\n",
    "                i += 1\n",
    "                j += 1\n",
    "                        \n",
    "        for j in range(1, rows - 1):\n",
    "            i = 0\n",
    "            while i + 1 < cols and j + 1 < rows:\n",
    "                if A[j][i] != A[j+1][i+1]:\n",
    "                    return False\n",
    "                i += 1\n",
    "                j += 1\n",
    "        \n",
    "        return True\n",
    "        "
   ]
  },
  {
   "cell_type": "code",
   "execution_count": 11,
   "metadata": {},
   "outputs": [
    {
     "data": {
      "text/plain": [
       "4"
      ]
     },
     "execution_count": 11,
     "metadata": {},
     "output_type": "execute_result"
    }
   ],
   "source": [
    "a = 4 \n",
    "\n",
    "\n",
    "def sq(n):\n",
    "    n = n * n\n",
    "\n",
    "sq(a)\n",
    "\n",
    "a"
   ]
  },
  {
   "cell_type": "markdown",
   "metadata": {},
   "source": [
    "---\n",
    "# 566. Reshape the Matrix\n",
    "\n",
    "Example\n",
    "```\n",
    "Input: \n",
    "nums = \n",
    "[[1,2],\n",
    " [3,4]]\n",
    "r = 1, c = 4\n",
    "Output: \n",
    "[[1,2,3,4]]\n",
    "Explanation:\n",
    "The row-traversing of nums is [1,2,3,4]. The new reshaped matrix is a 1 * 4 matrix, fill it row by row by using the previous list.\n",
    "```\n",
    "Example 2:\n",
    "```\n",
    "Input: \n",
    "nums = \n",
    "[[1,2],\n",
    " [3,4]]\n",
    "r = 2, c = 4\n",
    "Output: \n",
    "[[1,2],\n",
    " [3,4]]\n",
    "Explanation:\n",
    "There is no way to reshape a 2 * 2 matrix to a 2 * 4 matrix. So output the original matrix.\n",
    "```"
   ]
  },
  {
   "cell_type": "code",
   "execution_count": 12,
   "metadata": {},
   "outputs": [],
   "source": [
    "class Solution:\n",
    "    def matrixReshape(self, nums: 'List[List[int]]', r: 'int', c: 'int') -> 'List[List[int]]':\n",
    "        if r * c != len(nums) * len(nums[0]):\n",
    "            return nums\n",
    "        \n",
    "        flat = []\n",
    "        \n",
    "        for row in nums:\n",
    "            for n in row:\n",
    "                flat.append(n)\n",
    "                \n",
    "        res = []\n",
    "        \n",
    "        for i in range(r):\n",
    "            row = []\n",
    "            for j in range(c):\n",
    "                row.append(flat[j])\n",
    "            flat = flat[c : ]\n",
    "            res.append(row)\n",
    "            row = []\n",
    "        \n",
    "        return res\n",
    "            "
   ]
  },
  {
   "cell_type": "markdown",
   "metadata": {},
   "source": [
    "---\n",
    "# 976. Largest Perimeter Triangle\n",
    "\n",
    "Example 1:\n",
    "```\n",
    "Input: [2,1,2]\n",
    "Output: 5\n",
    "```\n",
    "Example 2:\n",
    "```\n",
    "Input: [1,2,1]\n",
    "Output: 0\n",
    "```\n",
    "Example 3:\n",
    "```\n",
    "Input: [3,2,3,4]\n",
    "Output: 10\n",
    "```\n",
    "Example 4:\n",
    "```\n",
    "Input: [3,6,2,3]\n",
    "Output: 8\n",
    "```\n",
    "\n",
    "\n",
    "#### Note\n",
    "The syntax of sorted() method is: `sorted(iterable[, key][, reverse])`"
   ]
  },
  {
   "cell_type": "code",
   "execution_count": 13,
   "metadata": {},
   "outputs": [
    {
     "name": "stdout",
     "output_type": "stream",
     "text": [
      "Sorted list: [(4, 1), (2, 2), (1, 3), (3, 4)]\n"
     ]
    }
   ],
   "source": [
    "# take second element for sort\n",
    "def takeSecond(elem):\n",
    "    return elem[1]\n",
    "\n",
    "# random list\n",
    "random = [(2, 2), (3, 4), (4, 1), (1, 3)]\n",
    "\n",
    "# sort list with key\n",
    "sortedList = sorted(random, key=takeSecond)\n",
    "\n",
    "# print list\n",
    "print('Sorted list:', sortedList)"
   ]
  },
  {
   "cell_type": "code",
   "execution_count": 14,
   "metadata": {},
   "outputs": [],
   "source": [
    "class Solution:\n",
    "    def largestPerimeter(self, A: 'List[int]') -> 'int':\n",
    "        A = sorted(A, reverse = True)\n",
    "        \n",
    "        for i in range(len(A) - 2):\n",
    "            if A[i] - A[i + 1] < A[i + 2]:\n",
    "                return A[i] + A[i + 1] + A[i + 2]\n",
    "        \n",
    "        \n",
    "        return 0"
   ]
  },
  {
   "cell_type": "markdown",
   "metadata": {},
   "source": [
    "---\n",
    "# 243. Shortest Word Distance\n",
    "\n",
    "Example:\n",
    "```\n",
    "Assume that words = [\"practice\", \"makes\", \"perfect\", \"coding\", \"makes\"].\n",
    "\n",
    "Input: word1 = “coding”, word2 = “practice”\n",
    "Output: 3\n",
    "Input: word1 = \"makes\", word2 = \"coding\"\n",
    "Output: 1\n",
    "```"
   ]
  },
  {
   "cell_type": "code",
   "execution_count": 15,
   "metadata": {},
   "outputs": [],
   "source": [
    "class Solution:\n",
    "    def shortestDistance(self, words: 'List[str]', word1: 'str', word2: 'str') -> 'int':\n",
    "        d = {}\n",
    "        for index, word in enumerate(words):\n",
    "            if word in d:\n",
    "                d[word].append(index)\n",
    "            else:\n",
    "                d[word] = [index]\n",
    "        \n",
    "        return self.mindiff(d[word1], d[word2])\n",
    "    \n",
    "    def mindiff(self, l1, l2):\n",
    "        # return the min diff between l1 and l2, which are list of numbers\n",
    "        # assume all numbers are distinct\n",
    "        d = {}\n",
    "        \n",
    "        for i in range(len(l1)):\n",
    "            d[l1[i]] = 1\n",
    "        \n",
    "        for i in range(len(l2)):\n",
    "            d[l2[i]] = 2\n",
    "            \n",
    "        nums = sorted(l1 + l2)\n",
    "        \n",
    "        res = nums[-1] - nums[0]\n",
    "        \n",
    "        for i in range(len(nums) - 1):\n",
    "            a1, a2 = nums[i], nums[i+1]\n",
    "            if d[a1] != d[a2]:\n",
    "                if a2 - a1 < res:\n",
    "                    res = a2 - a1\n",
    "                    \n",
    "        return res\n",
    "                "
   ]
  },
  {
   "cell_type": "markdown",
   "metadata": {},
   "source": [
    "---\n",
    "# 888. Fair Candy Swap\n",
    "\n",
    "Return an integer array ans where ans[0] is the size of the candy bar that Alice must exchange, and ans[1] is the size of the candy bar that Bob must exchange.\n",
    " \n",
    "\n",
    "Example 1:\n",
    "```\n",
    "Input: A = [1,1], B = [2,2]\n",
    "Output: [1,2]\n",
    "```\n",
    "Example 2:\n",
    "```\n",
    "Input: A = [1,2], B = [2,3]\n",
    "Output: [1,2]\n",
    "```\n",
    "Example 3:\n",
    "```\n",
    "Input: A = [2], B = [1,3]\n",
    "Output: [2,3]\n",
    "```\n",
    "Example 4:\n",
    "```\n",
    "Input: A = [1,2,5], B = [2,4]\n",
    "Output: [5,4]\n",
    "```"
   ]
  },
  {
   "cell_type": "code",
   "execution_count": 16,
   "metadata": {},
   "outputs": [],
   "source": [
    "class Solution:\n",
    "    def fairCandySwap(self, A: 'List[int]', B: 'List[int]') -> 'List[int]':\n",
    "        \n",
    "        A_total = sum(A)\n",
    "        avg = int((A_total+ sum(B)) / 2)\n",
    "        a = avg - A_total\n",
    "        B = set(B)\n",
    "        \n",
    "        for n in A:\n",
    "            if a + n in B:\n",
    "                return (n, a+n)"
   ]
  },
  {
   "cell_type": "markdown",
   "metadata": {},
   "source": [
    "---\n",
    "# 896. Monotonic Array"
   ]
  },
  {
   "cell_type": "code",
   "execution_count": 17,
   "metadata": {},
   "outputs": [],
   "source": [
    "class Solution:\n",
    "    def isMonotonic(self, A: 'List[int]') -> 'bool':\n",
    "        \n",
    "        if A[0] < A[-1]:\n",
    "            for i in range(len(A) - 1):\n",
    "                if A[i + 1] < A[i]:\n",
    "                    return False\n",
    "        else:\n",
    "            for i in range(len(A) - 1):\n",
    "                if A[i + 1] > A[i]:\n",
    "                    return False\n",
    "            \n",
    "        return True"
   ]
  },
  {
   "cell_type": "markdown",
   "metadata": {},
   "source": [
    "---\n",
    "# 485. Max Consecutive Ones"
   ]
  },
  {
   "cell_type": "code",
   "execution_count": 18,
   "metadata": {},
   "outputs": [],
   "source": [
    "class Solution:\n",
    "    def findMaxConsecutiveOnes(self, nums: 'List[int]') -> 'int':\n",
    "        \n",
    "        res = 0\n",
    "        \n",
    "        i = 0\n",
    "        \n",
    "        while i < len(nums):\n",
    "            ones = 0\n",
    "            while i < len(nums) and nums[i] == 1:\n",
    "                ones += 1\n",
    "                i += 1\n",
    "            if ones > res:\n",
    "                res = ones\n",
    "            while i < len(nums) and nums[i] == 0:\n",
    "                i += 1\n",
    "        \n",
    "        return res"
   ]
  },
  {
   "cell_type": "markdown",
   "metadata": {},
   "source": [
    "---\n",
    "# 283. Move Zeroes\n",
    "\n",
    "Given an array nums, write a function to move all 0's to the end of it while maintaining the relative order of the non-zero elements.\n",
    "\n",
    "Example:\n",
    "```\n",
    "Input: [0,1,0,3,12]\n",
    "Output: [1,3,12,0,0]\n",
    "```"
   ]
  },
  {
   "cell_type": "code",
   "execution_count": 19,
   "metadata": {},
   "outputs": [],
   "source": [
    "class Solution:\n",
    "    def moveZeroes(self, nums: 'List[int]') -> 'None':\n",
    "        \"\"\"\n",
    "        Do not return anything, modify nums in-place instead.\n",
    "        \"\"\"\n",
    "        \n",
    "        count = nums.count(0)\n",
    "        \n",
    "        while 0 in nums:\n",
    "            nums.remove(0)\n",
    "            \n",
    "        for i in range(count):\n",
    "            nums.append(0)"
   ]
  },
  {
   "cell_type": "markdown",
   "metadata": {},
   "source": [
    "---\n",
    "# 448. Find All Numbers Disappeared in an Array"
   ]
  },
  {
   "cell_type": "code",
   "execution_count": 20,
   "metadata": {},
   "outputs": [],
   "source": [
    "class Solution:\n",
    "    def findDisappearedNumbers(self, nums: 'List[int]') -> 'List[int]':\n",
    "        \n",
    "        size = len(nums)\n",
    "        \n",
    "        if size == 0:\n",
    "            return []\n",
    "        \n",
    "        nums = set(nums)\n",
    "        \n",
    "        res = []\n",
    "        \n",
    "        for i in range(1, size + 1):\n",
    "            if not i in nums:\n",
    "                res.append(i)\n",
    "                \n",
    "        return res\n",
    "                "
   ]
  },
  {
   "cell_type": "markdown",
   "metadata": {},
   "source": [
    "---\n",
    "# 169. Majority Element"
   ]
  },
  {
   "cell_type": "code",
   "execution_count": 21,
   "metadata": {},
   "outputs": [],
   "source": [
    "class Solution:\n",
    "    def majorityElement(self, nums: 'List[int]') -> 'int':\n",
    "        \n",
    "        d = {}\n",
    "        \n",
    "        for n in nums:\n",
    "            if n in d:\n",
    "                d[n] += 1\n",
    "            else:\n",
    "                d[n] = 1\n",
    "        \n",
    "        return max(d.keys(), key=(lambda k: d[k]))"
   ]
  },
  {
   "cell_type": "markdown",
   "metadata": {},
   "source": [
    "---\n",
    "# 217. Contains Duplicate"
   ]
  },
  {
   "cell_type": "code",
   "execution_count": 22,
   "metadata": {},
   "outputs": [],
   "source": [
    "class Solution:\n",
    "    def containsDuplicate(self, nums: 'List[int]') -> 'bool':\n",
    "        \n",
    "        return len(set(nums)) < len(nums)"
   ]
  },
  {
   "cell_type": "code",
   "execution_count": null,
   "metadata": {},
   "outputs": [],
   "source": []
  }
 ],
 "metadata": {
  "kernelspec": {
   "display_name": "Python 3",
   "language": "python",
   "name": "python3"
  },
  "language_info": {
   "codemirror_mode": {
    "name": "ipython",
    "version": 3
   },
   "file_extension": ".py",
   "mimetype": "text/x-python",
   "name": "python",
   "nbconvert_exporter": "python",
   "pygments_lexer": "ipython3",
   "version": "3.6.5"
  }
 },
 "nbformat": 4,
 "nbformat_minor": 2
}
