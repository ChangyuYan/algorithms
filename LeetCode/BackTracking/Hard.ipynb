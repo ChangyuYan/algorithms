{
 "cells": [
  {
   "cell_type": "markdown",
   "metadata": {},
   "source": [
    "# 980. Unique Paths III\n",
    "On a 2-dimensional grid, there are 4 types of squares:\n",
    "\n",
    "- 1 represents the starting square.  There is exactly one starting square.\n",
    "- 2 represents the ending square.  There is exactly one ending square.\n",
    "- 0 represents empty squares we can walk over.\n",
    "- -1 represents obstacles that we cannot walk over.\n",
    "Return the number of 4-directional walks from the starting square to the ending square, that **walk over every non-obstacle square exactly once**.\n",
    "\n",
    " \n",
    "\n",
    "Example 1:\n",
    "```\n",
    "Input: [[1,0,0,0],[0,0,0,0],[0,0,2,-1]]\n",
    "Output: 2\n",
    "Explanation: We have the following two paths: \n",
    "1. (0,0),(0,1),(0,2),(0,3),(1,3),(1,2),(1,1),(1,0),(2,0),(2,1),(2,2)\n",
    "2. (0,0),(1,0),(2,0),(2,1),(1,1),(0,1),(0,2),(0,3),(1,3),(1,2),(2,2)\n",
    "```\n",
    "Example 2:\n",
    "```\n",
    "Input: [[1,0,0,0],[0,0,0,0],[0,0,0,2]]\n",
    "Output: 4\n",
    "Explanation: We have the following four paths: \n",
    "1. (0,0),(0,1),(0,2),(0,3),(1,3),(1,2),(1,1),(1,0),(2,0),(2,1),(2,2),(2,3)\n",
    "2. (0,0),(0,1),(1,1),(1,0),(2,0),(2,1),(2,2),(1,2),(0,2),(0,3),(1,3),(2,3)\n",
    "3. (0,0),(1,0),(2,0),(2,1),(2,2),(1,2),(1,1),(0,1),(0,2),(0,3),(1,3),(2,3)\n",
    "4. (0,0),(1,0),(2,0),(2,1),(1,1),(0,1),(0,2),(0,3),(1,3),(1,2),(2,2),(2,3)\n",
    "```\n",
    "Example 3:\n",
    "```\n",
    "Input: [[0,1],[2,0]]\n",
    "Output: 0\n",
    "Explanation: \n",
    "There is no path that walks over every empty square exactly once.\n",
    "Note that the starting and ending square can be anywhere in the grid.\n",
    "```"
   ]
  },
  {
   "cell_type": "code",
   "execution_count": null,
   "metadata": {},
   "outputs": [],
   "source": []
  }
 ],
 "metadata": {
  "kernelspec": {
   "display_name": "Python 3",
   "language": "python",
   "name": "python3"
  },
  "language_info": {
   "codemirror_mode": {
    "name": "ipython",
    "version": 3
   },
   "file_extension": ".py",
   "mimetype": "text/x-python",
   "name": "python",
   "nbconvert_exporter": "python",
   "pygments_lexer": "ipython3",
   "version": "3.6.8"
  }
 },
 "nbformat": 4,
 "nbformat_minor": 2
}
