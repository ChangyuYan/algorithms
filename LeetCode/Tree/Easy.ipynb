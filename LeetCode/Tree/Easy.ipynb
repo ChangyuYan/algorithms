{
 "cells": [
  {
   "cell_type": "markdown",
   "metadata": {},
   "source": [
    "# 617. Merge Two Binary Trees\n",
    "Given two binary trees and imagine that when you put one of them to cover the other, some nodes of the two trees are overlapped while the others are not.\n",
    "\n",
    "You need to merge them into a new binary tree. The merge rule is that if two nodes overlap, then sum node values up as the new value of the merged node. Otherwise, the NOT null node will be used as the node of new tree.\n",
    "\n",
    "Example 1:\n",
    "```\n",
    "Input: \n",
    "\tTree 1                     Tree 2                  \n",
    "          1                         2                             \n",
    "         / \\                       / \\                            \n",
    "        3   2                     1   3                        \n",
    "       /                           \\   \\                      \n",
    "      5                             4   7                  \n",
    "Output: \n",
    "Merged tree:\n",
    "\t     3\n",
    "\t    / \\\n",
    "\t   4   5\n",
    "\t  / \\   \\ \n",
    "\t 5   4   7\n",
    "```"
   ]
  },
  {
   "cell_type": "code",
   "execution_count": 1,
   "metadata": {},
   "outputs": [],
   "source": [
    "# Definition for a binary tree node.\n",
    "class TreeNode:\n",
    "    def __init__(self, x):\n",
    "        self.val = x\n",
    "        self.left = None\n",
    "        self.right = None\n",
    "\n",
    "class Solution:\n",
    "    def mergeTrees(self, t1: TreeNode, t2: TreeNode) -> TreeNode:\n",
    "        \n",
    "        if not t1:\n",
    "            return t2\n",
    "        if not t2:\n",
    "            return t1\n",
    "        \n",
    "        root = TreeNode(t1.val + t2.val)\n",
    "        \n",
    "        root.left = self.mergeTrees(t1.left, t2.left)\n",
    "        root.right = self.mergeTrees(t1.right, t2.right)\n",
    "        \n",
    "        return root\n",
    "    "
   ]
  },
  {
   "cell_type": "markdown",
   "metadata": {},
   "source": [
    "---\n",
    "# 965. Univalued Binary Tree\n",
    "A binary tree is univalued if every node in the tree has the same value.\n",
    "\n",
    "Return true if and only if the given tree is univalued."
   ]
  },
  {
   "cell_type": "code",
   "execution_count": 2,
   "metadata": {},
   "outputs": [],
   "source": [
    "class Solution:\n",
    "    def isUnivalTree(self, root: TreeNode) -> bool:\n",
    "        val = root.val\n",
    "        \n",
    "        return self.aux(root, val)\n",
    "    \n",
    "    def aux(self, root, val):\n",
    "        if not root:\n",
    "            return True\n",
    "        \n",
    "        if root.val != val:\n",
    "            return False\n",
    "        \n",
    "        return self.aux(root.left, val) and self.aux(root.right, val)"
   ]
  },
  {
   "cell_type": "markdown",
   "metadata": {},
   "source": [
    "---\n",
    "# 700. Search in a Binary Search Tree\n",
    "Given the root node of a binary search tree (BST) and a value. You need to find the node in the BST that the node's value equals the given value. Return the subtree rooted with that node. If such node doesn't exist, you should return NULL.\n",
    "\n",
    "For example, \n",
    "```\n",
    "Given the tree:\n",
    "        4\n",
    "       / \\\n",
    "      2   7\n",
    "     / \\\n",
    "    1   3\n",
    "\n",
    "And the value to search: 2\n",
    "```\n",
    "You should return this subtree:\n",
    "```\n",
    "      2     \n",
    "     / \\   \n",
    "    1   3\n",
    "```\n",
    "In the example above, if we want to search the value `5`, since there is no node with value `5`, we should return `NULL`.\n",
    "\n",
    "Note that an empty tree is represented by `NULL`, therefore you would see the expected output (serialized tree format) as `[]`, not `null`."
   ]
  },
  {
   "cell_type": "code",
   "execution_count": 3,
   "metadata": {},
   "outputs": [],
   "source": [
    "# Definition for a binary tree node.\n",
    "# class TreeNode:\n",
    "#     def __init__(self, x):\n",
    "#         self.val = x\n",
    "#         self.left = None\n",
    "#         self.right = None\n",
    "\n",
    "class Solution:\n",
    "    def searchBST(self, root: TreeNode, val: int) -> TreeNode:\n",
    "        if not root:\n",
    "            return []\n",
    "        \n",
    "        if root.val == val:\n",
    "            return root\n",
    "        \n",
    "        elif root.val > val:\n",
    "            return self.searchBST(root.left, val)\n",
    "        \n",
    "        else:\n",
    "            return self.searchBST(root.right, val)"
   ]
  },
  {
   "cell_type": "code",
   "execution_count": null,
   "metadata": {},
   "outputs": [],
   "source": []
  }
 ],
 "metadata": {
  "kernelspec": {
   "display_name": "Python 3",
   "language": "python",
   "name": "python3"
  },
  "language_info": {
   "codemirror_mode": {
    "name": "ipython",
    "version": 3
   },
   "file_extension": ".py",
   "mimetype": "text/x-python",
   "name": "python",
   "nbconvert_exporter": "python",
   "pygments_lexer": "ipython3",
   "version": "3.6.8"
  }
 },
 "nbformat": 4,
 "nbformat_minor": 2
}
