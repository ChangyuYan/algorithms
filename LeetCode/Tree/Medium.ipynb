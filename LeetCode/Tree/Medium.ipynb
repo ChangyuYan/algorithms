{
 "cells": [
  {
   "cell_type": "markdown",
   "metadata": {},
   "source": [
    "<h1 style=\"color:red\"> 979. Distribute Coins in Binary Tree </h1>\n",
    "\n",
    "Given the root of a binary tree with N nodes, each node in the tree has node.val coins, and there are N coins total.\n",
    "\n",
    "In one move, we may choose two adjacent nodes and move one coin from one node to another.  (The move may be from parent to child, or from child to parent.)\n",
    "\n",
    "Return the number of moves required to make every node have exactly one coin."
   ]
  },
  {
   "cell_type": "code",
   "execution_count": 1,
   "metadata": {},
   "outputs": [],
   "source": [
    "# Definition for a binary tree node.\n",
    "# class TreeNode:\n",
    "#     def __init__(self, x):\n",
    "#         self.val = x\n",
    "#         self.left = None\n",
    "#         self.right = None\n",
    "\n",
    "class Solution:\n",
    "    def distributeCoins(self, root: \"TreeNode\") -> int:\n",
    "        res = [0]\n",
    "        self.balance(root, res)\n",
    "        return res[0]\n",
    "        \n",
    "    def balance(self, root, res):\n",
    "        if not root: \n",
    "            return 0\n",
    "        l = self.balance(root.left, res)\n",
    "        r = self.balance(root.right, res)\n",
    "        res[0] += abs(l) + abs(r)\n",
    "        return l + r + root.val - 1"
   ]
  },
  {
   "cell_type": "code",
   "execution_count": null,
   "metadata": {},
   "outputs": [],
   "source": []
  }
 ],
 "metadata": {
  "kernelspec": {
   "display_name": "Python 3",
   "language": "python",
   "name": "python3"
  },
  "language_info": {
   "codemirror_mode": {
    "name": "ipython",
    "version": 3
   },
   "file_extension": ".py",
   "mimetype": "text/x-python",
   "name": "python",
   "nbconvert_exporter": "python",
   "pygments_lexer": "ipython3",
   "version": "3.6.8"
  }
 },
 "nbformat": 4,
 "nbformat_minor": 2
}
