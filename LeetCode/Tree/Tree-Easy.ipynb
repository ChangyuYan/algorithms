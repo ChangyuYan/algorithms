{
 "cells": [
  {
   "cell_type": "markdown",
   "metadata": {},
   "source": [
    "\n",
    "# 617. Merge Two Binary Trees\n",
    "\n",
    "\n",
    "The merge rule is that if two nodes overlap, then sum node values up as the new value of the merged node. Otherwise, the NOT null node will be used as the node of new tree.\n",
    "\n",
    "Example 1:\n",
    "```\n",
    "Input: \n",
    "\tTree 1                     Tree 2                  \n",
    "          1                         2                             \n",
    "         / \\                       / \\                            \n",
    "        3   2                     1   3                        \n",
    "       /                           \\   \\                      \n",
    "      5                             4   7                  \n",
    "Output: \n",
    "Merged tree:\n",
    "\t     3\n",
    "\t    / \\\n",
    "\t   4   5\n",
    "\t  / \\   \\ \n",
    "\t 5   4   7\n",
    "```"
   ]
  },
  {
   "cell_type": "code",
   "execution_count": 1,
   "metadata": {},
   "outputs": [],
   "source": [
    "# Definition for a binary tree node.\n",
    "# class TreeNode:\n",
    "#     def __init__(self, x):\n",
    "#         self.val = x\n",
    "#         self.left = None\n",
    "#         self.right = None\n",
    "\n",
    "class Solution:\n",
    "    def mergeTrees(self, t1: 'TreeNode', t2: 'TreeNode') -> 'TreeNode':\n",
    "        if not t1:\n",
    "            return t2\n",
    "        if not t2:\n",
    "            return t1\n",
    "        \n",
    "        root = TreeNode(t1.val + t2.val)\n",
    "        \n",
    "        root.left = self.mergeTrees(t1.left, t2.left)\n",
    "        root.right = self.mergeTrees(t1.right, t2.right)\n",
    "        \n",
    "        return root"
   ]
  },
  {
   "cell_type": "markdown",
   "metadata": {},
   "source": [
    "---\n",
    "<h1 style=\"color:purple\"> 965. Univalued Binary Tree </h1>"
   ]
  },
  {
   "cell_type": "code",
   "execution_count": 2,
   "metadata": {},
   "outputs": [],
   "source": [
    "# Definition for a binary tree node.\n",
    "# class TreeNode:\n",
    "#     def __init__(self, x):\n",
    "#         self.val = x\n",
    "#         self.left = None\n",
    "#         self.right = None\n",
    "\n",
    "class Solution:\n",
    "    def isUnivalTree(self, root: 'TreeNode') -> 'bool':\n",
    "        \n",
    "        vals = []\n",
    "        \n",
    "        self.dfs(root, vals)\n",
    "        return len(set(vals)) == 1\n",
    "    \n",
    "    def dfs(self, node, vals):\n",
    "            if node:\n",
    "                vals.append(node.val)\n",
    "                self.dfs(node.left, vals)\n",
    "                self.dfs(node.right, vals)"
   ]
  },
  {
   "cell_type": "markdown",
   "metadata": {},
   "source": [
    "---\n",
    "<h1 style=\"color:purple\"> 700. Search in a Binary Search Tree </h1>"
   ]
  },
  {
   "cell_type": "code",
   "execution_count": 3,
   "metadata": {},
   "outputs": [],
   "source": [
    "# Definition for a binary tree node.\n",
    "# class TreeNode:\n",
    "#     def __init__(self, x):\n",
    "#         self.val = x\n",
    "#         self.left = None\n",
    "#         self.right = None\n",
    "\n",
    "class Solution:\n",
    "    def searchBST(self, root: 'TreeNode', val: 'int') -> 'TreeNode':\n",
    "        \n",
    "        if root is None:\n",
    "            return None\n",
    "        if root.val < val:\n",
    "            return self.searchBST(root.right, val)\n",
    "        if root.val > val:\n",
    "            return self.searchBST(root.left, val)\n",
    "        return root"
   ]
  },
  {
   "cell_type": "code",
   "execution_count": 4,
   "metadata": {},
   "outputs": [],
   "source": [
    "# Alternate Solution\n",
    "class Solution(object):\n",
    "    def searchBST(self, root, val):\n",
    "        \"\"\"\n",
    "        :type root: TreeNode\n",
    "        :type val: int\n",
    "        :rtype: TreeNode\n",
    "        \"\"\"\n",
    "        trav = root\n",
    "        while trav:\n",
    "            if trav.val == val:\n",
    "                return trav\n",
    "            elif trav.val < val:\n",
    "                trav = trav.right\n",
    "            else:\n",
    "                trav = trav.left"
   ]
  },
  {
   "cell_type": "markdown",
   "metadata": {},
   "source": [
    "---\n",
    "<h1 style=\"color:purple\">589. N-ary Tree Preorder Traversal </h1>\n",
    "\n",
    "```\n",
    "    1\n",
    "   /|\\\n",
    "  3 2 4\n",
    " / \\\n",
    "5   6\n",
    "    \n",
    "[1,3,5,6,2,4]\n",
    "```"
   ]
  },
  {
   "cell_type": "code",
   "execution_count": 5,
   "metadata": {},
   "outputs": [],
   "source": [
    "\"\"\"\n",
    "# Definition for a Node.\n",
    "class Node:\n",
    "    def __init__(self, val, children):\n",
    "        self.val = val\n",
    "        self.children = children\n",
    "\"\"\"\n",
    "class Solution:\n",
    "    def preorder(self, root: 'Node') -> 'List[int]':\n",
    "        \n",
    "        res = []\n",
    "        self.aux(root, res)\n",
    "        \n",
    "        return res\n",
    "    \n",
    "    def aux(self, root, res):\n",
    "        if not root:\n",
    "            return\n",
    "        res.append(root.val)\n",
    "        \n",
    "        for child in root.children:\n",
    "            self.aux(child, res)\n",
    "            \n",
    "        "
   ]
  },
  {
   "cell_type": "markdown",
   "metadata": {},
   "source": [
    "---\n",
    "<h1 style=\"color:purple\">590. N-ary Tree Postorder Traversal </h1>\n",
    "\n",
    "\n",
    "\n",
    "```\n",
    "    1\n",
    "   /|\\\n",
    "  3 2 4\n",
    " / \\\n",
    "5   6\n",
    "\n",
    "[5,6,3,2,4,1]\n",
    "```"
   ]
  },
  {
   "cell_type": "code",
   "execution_count": 7,
   "metadata": {},
   "outputs": [],
   "source": [
    "\"\"\"\n",
    "# Definition for a Node.\n",
    "class Node:\n",
    "    def __init__(self, val, children):\n",
    "        self.val = val\n",
    "        self.children = children\n",
    "\"\"\"\n",
    "class Solution:\n",
    "    def postorder(self, root: 'Node') -> 'List[int]':\n",
    "        res = []\n",
    "        self.aux(root, res)\n",
    "        return res\n",
    "    \n",
    "    def aux(self, root, res):\n",
    "        if not root:\n",
    "            return\n",
    "        \n",
    "        for child in root.children:\n",
    "            self.aux(child, res)\n",
    "        \n",
    "        res.append(root.val)"
   ]
  },
  {
   "cell_type": "markdown",
   "metadata": {},
   "source": [
    "---\n",
    "<h1 style=\"color:purple\"> 559. Maximum Depth of N-ary Tree </h1>"
   ]
  },
  {
   "cell_type": "code",
   "execution_count": 8,
   "metadata": {},
   "outputs": [],
   "source": [
    "\"\"\"\n",
    "# Definition for a Node.\n",
    "class Node:\n",
    "    def __init__(self, val, children):\n",
    "        self.val = val\n",
    "        self.children = children\n",
    "\"\"\"\n",
    "class Solution:\n",
    "    def maxDepth(self, root: 'Node') -> 'int':\n",
    "        if(root == None): return 0; \n",
    "        if(not root.children): return 1;\n",
    "        return(max( [ (1 + self.maxDepth(child)) for child in root.children]))\n",
    "        "
   ]
  },
  {
   "cell_type": "markdown",
   "metadata": {},
   "source": [
    "---\n",
    "<h1>872. Leaf-Similar Trees </h1> \n",
    "\n",
    "Consider all the leaves of a binary tree.  From left to right order, the values of those leaves form a leaf value sequence."
   ]
  },
  {
   "cell_type": "code",
   "execution_count": 9,
   "metadata": {},
   "outputs": [],
   "source": [
    "# Definition for a binary tree node.\n",
    "# class TreeNode:\n",
    "#     def __init__(self, x):\n",
    "#         self.val = x\n",
    "#         self.left = None\n",
    "#         self.right = None\n",
    "\n",
    "class Solution:\n",
    "    def leafSimilar(self, root1: 'TreeNode', root2: 'TreeNode') -> 'bool':\n",
    "        \n",
    "        return self.getleaves(root1) == self.getleaves(root2)\n",
    "    \n",
    "    \n",
    "    def getleaves(self, root):\n",
    "        # get the leaves of given tree\n",
    "        res = []\n",
    "        self.getleaves_aux(root, res)\n",
    "        return res\n",
    "        \n",
    "    def getleaves_aux(self, root, res):\n",
    "        if not root:\n",
    "            return\n",
    "        if not root.left and not root.right:\n",
    "            res.append(root.val)\n",
    "        \n",
    "        self.getleaves_aux(root.left, res)\n",
    "        self.getleaves_aux(root.right, res)"
   ]
  },
  {
   "cell_type": "code",
   "execution_count": null,
   "metadata": {},
   "outputs": [],
   "source": []
  }
 ],
 "metadata": {
  "kernelspec": {
   "display_name": "Python 3",
   "language": "python",
   "name": "python3"
  },
  "language_info": {
   "codemirror_mode": {
    "name": "ipython",
    "version": 3
   },
   "file_extension": ".py",
   "mimetype": "text/x-python",
   "name": "python",
   "nbconvert_exporter": "python",
   "pygments_lexer": "ipython3",
   "version": "3.6.5"
  }
 },
 "nbformat": 4,
 "nbformat_minor": 2
}
