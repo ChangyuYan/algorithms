{
 "cells": [
  {
   "cell_type": "markdown",
   "metadata": {},
   "source": [
    "# 929. Unique Email Addresses\n",
    "\n",
    "Python Substring Operations:    \n",
    "- ```string[:string.find(char\")``` to return a substring before char\n",
    "- ```import re; re.sub('[@#!]', '', string)``` to remove @,#,! (whatever inside [ ]) from string\n",
    "\n",
    "We can also use the `replace` function"
   ]
  },
  {
   "cell_type": "code",
   "execution_count": 1,
   "metadata": {},
   "outputs": [
    {
     "data": {
      "text/plain": [
       "'asdfasdfasdfadsfaadf'"
      ]
     },
     "execution_count": 1,
     "metadata": {},
     "output_type": "execute_result"
    }
   ],
   "source": [
    "a = \" asdfasdf   asdfadsf   aadf  \"\n",
    "a.replace(\" \", \"\")"
   ]
  },
  {
   "cell_type": "code",
   "execution_count": 2,
   "metadata": {},
   "outputs": [
    {
     "data": {
      "text/plain": [
       "'234234232342'"
      ]
     },
     "execution_count": 2,
     "metadata": {},
     "output_type": "execute_result"
    }
   ],
   "source": [
    "b = \".234.23423.2342.\"\n",
    "b.replace(\".\", \"\")"
   ]
  },
  {
   "cell_type": "code",
   "execution_count": 3,
   "metadata": {},
   "outputs": [],
   "source": [
    "import re\n",
    "\n",
    "class Solution(object):\n",
    "    def numUniqueEmails(self, emails):\n",
    "        \"\"\"\n",
    "        :type emails: List[str]\n",
    "        :rtype: int\n",
    "        \"\"\"\n",
    "        email_set = set()\n",
    "        for email in emails: \n",
    "            email_set.add(self.cleanup_email(email))\n",
    "        \n",
    "        return len(email_set)\n",
    "            \n",
    "    \n",
    "    def cleanup_email(self, email):\n",
    "        at_loc = email.find(\"@\")\n",
    "        local_name = email[ : at_loc]\n",
    "        \n",
    "        if \"+\" in local_name:\n",
    "            local_name = local_name[ : local_name.find(\"+\")]\n",
    "        \n",
    "        local_name = re.sub(\"[.]\", \"\", local_name)\n",
    "        \n",
    "        return local_name + email[at_loc : ]"
   ]
  },
  {
   "cell_type": "markdown",
   "metadata": {},
   "source": [
    "----\n",
    "# 709. To Lower Case\n",
    "String to lowercase:\n",
    "```string = string.lower()```"
   ]
  },
  {
   "cell_type": "markdown",
   "metadata": {},
   "source": [
    "----\n",
    "# 804. Unique Morse Code Words\n",
    "\n",
    "To get a complete alphabet list, use:    \n",
    "```\n",
    "import string\n",
    "lower = string.ascii_lowercase\n",
    "upper = string.ascii_uppercase\n",
    "```"
   ]
  },
  {
   "cell_type": "code",
   "execution_count": 4,
   "metadata": {},
   "outputs": [
    {
     "data": {
      "text/plain": [
       "'abcdefghijklmnopqrstuvwxyz'"
      ]
     },
     "execution_count": 4,
     "metadata": {},
     "output_type": "execute_result"
    }
   ],
   "source": [
    "import string\n",
    "string.ascii_lowercase"
   ]
  },
  {
   "cell_type": "code",
   "execution_count": 5,
   "metadata": {},
   "outputs": [],
   "source": [
    "import string\n",
    "\n",
    "m = [\".-\",\"-...\",\"-.-.\",\"-..\",\".\",\"..-.\",\"--.\",\"....\",\"..\",\".---\",\"-.-\",\".-..\",\"--\",\"-.\",\"---\",\".--.\",\"--.-\",\".-.\",\"...\",\"-\",\"..-\",\"...-\",\".--\",\"-..-\",\"-.--\",\"--..\"]\n",
    "\n",
    "MORSE_DICT = dict(zip(string.ascii_lowercase, m))\n",
    "\n",
    "class Solution:\n",
    "    def uniqueMorseRepresentations(self, words):\n",
    "        \"\"\"\n",
    "        :type words: List[str]\n",
    "        :rtype: int\n",
    "        \"\"\"\n",
    "        word_set = set()\n",
    "        \n",
    "        for word in words: \n",
    "            mword = \"\"\n",
    "            \n",
    "            for char in word: \n",
    "                mword += MORSE_DICT[char]\n",
    "                \n",
    "            word_set.add(mword)\n",
    "        \n",
    "        return len(word_set)"
   ]
  },
  {
   "cell_type": "markdown",
   "metadata": {},
   "source": [
    "----\n",
    "# 557. Reverse Words in a String III\n",
    "To reverse a string, use:\n",
    "```string = string[::-1]```"
   ]
  },
  {
   "cell_type": "code",
   "execution_count": 6,
   "metadata": {},
   "outputs": [
    {
     "data": {
      "text/plain": [
       "'dcba'"
      ]
     },
     "execution_count": 6,
     "metadata": {},
     "output_type": "execute_result"
    }
   ],
   "source": [
    "s = \"abcd\"\n",
    "s[::-1]"
   ]
  },
  {
   "cell_type": "markdown",
   "metadata": {},
   "source": [
    "----\n",
    "# 13. Roman to Integer"
   ]
  },
  {
   "cell_type": "code",
   "execution_count": 7,
   "metadata": {},
   "outputs": [],
   "source": [
    "ROMAN_D = {'I': 1, 'V': 5, 'X':10, 'L': 50, 'C': 100, 'D': 500, 'M': 1000}\n",
    "class Solution:\n",
    "    def romanToInt(self, s):\n",
    "        \"\"\"\n",
    "        :type s: str\n",
    "        :rtype: int\n",
    "        \"\"\"\n",
    "        res = 0\n",
    "        num = []\n",
    "        \n",
    "        for char in s:\n",
    "            num.append(ROMAN_D[char])\n",
    "        \n",
    "        for i in range(len(num)):\n",
    "            if num[i] < max(num[i:]):\n",
    "                res -= num[i]\n",
    "            else:\n",
    "                res += num[i]\n",
    "        \n",
    "        return res"
   ]
  },
  {
   "cell_type": "markdown",
   "metadata": {},
   "source": [
    "---\n",
    "# 383. Ransom Note\n",
    "canConstruct(\"a\", \"b\") -> false    \n",
    "canConstruct(\"aa\", \"ab\") -> false    \n",
    "canConstruct(\"aa\", \"aab\") -> true    "
   ]
  },
  {
   "cell_type": "code",
   "execution_count": 8,
   "metadata": {},
   "outputs": [],
   "source": [
    "class Solution:\n",
    "    def canConstruct(self, ransomNote, magazine):\n",
    "        \"\"\"\n",
    "        :type ransomNote: str\n",
    "        :type magazine: str\n",
    "        :rtype: bool\n",
    "        \"\"\"\n",
    "        magazine = list(magazine)\n",
    "        \n",
    "        for char in ransomNote:\n",
    "            if char in magazine:\n",
    "                magazine.remove(char)\n",
    "            else:\n",
    "                return False\n",
    "        \n",
    "        return True"
   ]
  },
  {
   "cell_type": "markdown",
   "metadata": {},
   "source": [
    "---\n",
    "# 387. First Unique Character in a String\n",
    "\n",
    "Slow version:"
   ]
  },
  {
   "cell_type": "code",
   "execution_count": 9,
   "metadata": {},
   "outputs": [],
   "source": [
    "class Solution:\n",
    "    def firstUniqChar(self, s):\n",
    "        \"\"\"\n",
    "        :type s: str\n",
    "        :rtype: int\n",
    "        \"\"\"\n",
    "        for char in s:\n",
    "            if s.count(char) == 1:\n",
    "                return s.find(char)\n",
    "            \n",
    "        return -1"
   ]
  },
  {
   "cell_type": "markdown",
   "metadata": {},
   "source": [
    "Fast Version - Use ```collections```"
   ]
  },
  {
   "cell_type": "code",
   "execution_count": 10,
   "metadata": {},
   "outputs": [
    {
     "data": {
      "text/plain": [
       "Counter({'a': 2, 'b': 3, 'c': 4, 'd': 7})"
      ]
     },
     "execution_count": 10,
     "metadata": {},
     "output_type": "execute_result"
    }
   ],
   "source": [
    "import collections\n",
    "\n",
    "a = \"aabbbccccddddddd\"\n",
    "collections.Counter(a)"
   ]
  },
  {
   "cell_type": "code",
   "execution_count": 11,
   "metadata": {},
   "outputs": [],
   "source": [
    "class Solution:\n",
    "    def firstUniqChar(self, s):\n",
    "        \"\"\"\n",
    "        :type s: str\n",
    "        :rtype: int\n",
    "        \"\"\"\n",
    "        counts = collections.Counter(s)\n",
    "        for i in range(0,len(s)):\n",
    "            if counts[s[i]]==1:\n",
    "                return i\n",
    "        return -1"
   ]
  },
  {
   "cell_type": "markdown",
   "metadata": {},
   "source": [
    "---\n",
    "# 345. Reverse Vowels of a String\n",
    "List of char to string:"
   ]
  },
  {
   "cell_type": "code",
   "execution_count": 12,
   "metadata": {},
   "outputs": [
    {
     "data": {
      "text/plain": [
       "'abcd'"
      ]
     },
     "execution_count": 12,
     "metadata": {},
     "output_type": "execute_result"
    }
   ],
   "source": [
    "a = ['a', 'b', 'c', 'd']\n",
    "''.join(a)"
   ]
  },
  {
   "cell_type": "code",
   "execution_count": 13,
   "metadata": {},
   "outputs": [],
   "source": [
    "VOWEL = list('aeiouAEIOU')\n",
    "\n",
    "class Solution:\n",
    "    def reverseVowels(self, s):\n",
    "        \"\"\"\n",
    "        :type s: str\n",
    "        :rtype: str\n",
    "        \"\"\"\n",
    "        left = 0\n",
    "        right = len(s) - 1\n",
    "        \n",
    "        s = list(s)\n",
    "        \n",
    "        while(left < right):\n",
    "            if s[left] in VOWEL and s[right] in VOWEL:\n",
    "                s[left], s[right] = s[right], s[left]\n",
    "                left += 1\n",
    "                right -= 1\n",
    "            elif s[left] not in VOWEL:\n",
    "                left += 1\n",
    "            elif s[right] not in VOWEL:\n",
    "                right -= 1\n",
    "        \n",
    "        return \"\".join(s)\n",
    "                "
   ]
  },
  {
   "cell_type": "markdown",
   "metadata": {},
   "source": [
    "---\n",
    "# 67. Add Binary\n",
    "Input: a = \"11\", b = \"1\"\n",
    "Output: \"100\""
   ]
  },
  {
   "cell_type": "markdown",
   "metadata": {},
   "source": [
    "Convert binary to int: format(5, 'b')    \n",
    "Convert int to binary: int('101', 2)  "
   ]
  },
  {
   "cell_type": "code",
   "execution_count": 14,
   "metadata": {},
   "outputs": [
    {
     "data": {
      "text/plain": [
       "'101'"
      ]
     },
     "execution_count": 14,
     "metadata": {},
     "output_type": "execute_result"
    }
   ],
   "source": [
    "format(5, 'b')"
   ]
  },
  {
   "cell_type": "code",
   "execution_count": 15,
   "metadata": {},
   "outputs": [
    {
     "data": {
      "text/plain": [
       "5"
      ]
     },
     "execution_count": 15,
     "metadata": {},
     "output_type": "execute_result"
    }
   ],
   "source": [
    "int('101', 2)"
   ]
  },
  {
   "cell_type": "code",
   "execution_count": 16,
   "metadata": {},
   "outputs": [],
   "source": [
    "class Solution:\n",
    "    def addBinary(self, a, b):\n",
    "        \"\"\"\n",
    "        :type a: str\n",
    "        :type b: str\n",
    "        :rtype: str\n",
    "        \"\"\"\n",
    "        return format( int(a, 2) + int(b, 2), 'b')"
   ]
  },
  {
   "cell_type": "markdown",
   "metadata": {},
   "source": [
    "---\n",
    "<h1 style=\"color:red\"> 20. Valid Parentheses  </h1>"
   ]
  },
  {
   "cell_type": "code",
   "execution_count": 17,
   "metadata": {},
   "outputs": [],
   "source": [
    "class Solution:\n",
    "    def isValid(self, s):\n",
    "        \"\"\"\n",
    "        :type s: str\n",
    "        :rtype: bool\n",
    "        \"\"\"\n",
    "        p = {')': '(', \n",
    "             ']': '[', \n",
    "             '}': '{'}\n",
    "        \n",
    "        stack = []\n",
    "        for char in s:\n",
    "            if char not in p:\n",
    "                stack.append(char)\n",
    "            else:\n",
    "                if not stack or stack[-1] != p[char]: \n",
    "                    return False\n",
    "                stack.pop()\n",
    "        \n",
    "        return not stack"
   ]
  },
  {
   "cell_type": "markdown",
   "metadata": {},
   "source": [
    "---\n",
    "# 14. Longest Common Prefix"
   ]
  },
  {
   "cell_type": "code",
   "execution_count": 18,
   "metadata": {},
   "outputs": [],
   "source": [
    "class Solution:\n",
    "    def longestCommonPrefix(self, strs):\n",
    "        \"\"\"\n",
    "        :type strs: List[str]\n",
    "        :rtype: str\n",
    "        \"\"\"\n",
    "        \n",
    "        if not strs: \n",
    "            return \"\"\n",
    "        \n",
    "        ans = \"\"\n",
    "        \n",
    "        for i in range(len(strs[0])):\n",
    "            for s in strs:\n",
    "                if len(s) <= i or s[i] != strs[0][i]: return ans\n",
    "            ans += strs[0][i]\n",
    "            \n",
    "        return ans"
   ]
  },
  {
   "cell_type": "markdown",
   "metadata": {},
   "source": [
    "---\n",
    "<h1 style=\"color:red\"> 544. Output Contest Matches </h1>\n",
    "\n",
    "Note: In python3, int division will result in float, which cannot be used in loops. Therefore, we need to convert the result to int again"
   ]
  },
  {
   "cell_type": "code",
   "execution_count": 19,
   "metadata": {},
   "outputs": [
    {
     "data": {
      "text/plain": [
       "2.0"
      ]
     },
     "execution_count": 19,
     "metadata": {},
     "output_type": "execute_result"
    }
   ],
   "source": [
    "4 / 2"
   ]
  },
  {
   "cell_type": "code",
   "execution_count": 20,
   "metadata": {},
   "outputs": [],
   "source": [
    "class Solution:\n",
    "    def findContestMatch(self, n):\n",
    "        \"\"\"\n",
    "        :type n: int\n",
    "        :rtype: str\n",
    "        \"\"\"\n",
    "        a = list(range(1, n+1))\n",
    "        \n",
    "        while n > 1:\n",
    "            for i in range(n):\n",
    "                a[i] = \"(\" + str(a[i]) + \",\" + str(a[n - i - 1]) + \")\"\n",
    "            n = int(n/2)\n",
    "        \n",
    "        return a[0]"
   ]
  },
  {
   "cell_type": "markdown",
   "metadata": {},
   "source": [
    "---\n",
    "# 890. Find and Replace Pattern"
   ]
  },
  {
   "cell_type": "code",
   "execution_count": 21,
   "metadata": {},
   "outputs": [],
   "source": [
    "class Solution:\n",
    "    def findAndReplacePattern(self, words, pattern):\n",
    "        \"\"\"\n",
    "        :type words: List[str]\n",
    "        :type pattern: str\n",
    "        :rtype: List[str]\n",
    "        \"\"\"\n",
    "        res = []\n",
    "        \n",
    "        for word in words:\n",
    "            if self.match(word, pattern):\n",
    "                res.append(word)\n",
    "                \n",
    "        return res\n",
    "    \n",
    "    def match(self, word, pattern):\n",
    "        return self.convert(word) == self.convert(pattern)\n",
    "    \n",
    "    def convert(self, word):\n",
    "        # convert word pattern into numbers\n",
    "        ld = {}\n",
    "        res = []\n",
    "        i = 0\n",
    "        for letter in word: \n",
    "            if letter in ld:\n",
    "                res.append(ld[letter])\n",
    "            else:\n",
    "                ld[letter] = i\n",
    "                res.append(i)\n",
    "                i += 1\n",
    "        return res"
   ]
  },
  {
   "cell_type": "markdown",
   "metadata": {},
   "source": [
    "---\n",
    "# 537. Complex Number Multiplication"
   ]
  },
  {
   "cell_type": "code",
   "execution_count": 22,
   "metadata": {},
   "outputs": [],
   "source": [
    "class Solution:\n",
    "    def complexNumberMultiply(self, a, b):\n",
    "        \"\"\"\n",
    "        :type a: str\n",
    "        :type b: str\n",
    "        :rtype: str\n",
    "        \"\"\"\n",
    "        a_real = int(a[ : a.find('+')])\n",
    "        b_real = int(b[ : b.find('+')])\n",
    "        a_imag = int(a[a.find('+') + 1 : a.find('i')])\n",
    "        b_imag = int(b[b.find('+') + 1 : b.find('i')])\n",
    "        \n",
    "        real = a_real * b_real - a_imag * b_imag\n",
    "        imag = a_real * b_imag + a_imag * b_real\n",
    "        \n",
    "        return str(real) + \"+\" + str(imag) + \"i\"\n",
    "        "
   ]
  },
  {
   "cell_type": "markdown",
   "metadata": {},
   "source": [
    "---\n",
    "<h1 style=\"color:red\"> 791. Custom Sort String </h1>"
   ]
  },
  {
   "cell_type": "code",
   "execution_count": 23,
   "metadata": {},
   "outputs": [],
   "source": [
    "class Solution:\n",
    "    def customSortString(self, S, T):\n",
    "        \"\"\"\n",
    "        :type S: str\n",
    "        :type T: str\n",
    "        :rtype: str\n",
    "        \"\"\"\n",
    "        d = {}\n",
    "        for i in range(len(S)):\n",
    "            d[S[i]] = i\n",
    "        \n",
    "        for char in T:\n",
    "            if char not in S:\n",
    "                d[char] = -1\n",
    "        \n",
    "        res = sorted(T, key = lambda x: d[x] )\n",
    "        \n",
    "        return \"\".join(res)"
   ]
  },
  {
   "cell_type": "markdown",
   "metadata": {},
   "source": [
    "# Lambda Exptression - `lambda arguments : expression`"
   ]
  },
  {
   "cell_type": "code",
   "execution_count": 24,
   "metadata": {},
   "outputs": [],
   "source": [
    "g = lambda x: x**2 + 1"
   ]
  },
  {
   "cell_type": "code",
   "execution_count": 25,
   "metadata": {},
   "outputs": [
    {
     "data": {
      "text/plain": [
       "5"
      ]
     },
     "execution_count": 25,
     "metadata": {},
     "output_type": "execute_result"
    }
   ],
   "source": [
    "g(2)"
   ]
  },
  {
   "cell_type": "markdown",
   "metadata": {},
   "source": [
    "# Python `sorted()` Custom `key`"
   ]
  },
  {
   "cell_type": "code",
   "execution_count": 26,
   "metadata": {},
   "outputs": [
    {
     "data": {
      "text/plain": [
       "['aaa', 'b', 'cccc', 'dd']"
      ]
     },
     "execution_count": 26,
     "metadata": {},
     "output_type": "execute_result"
    }
   ],
   "source": [
    "L = [\"cccc\", \"b\", \"dd\", \"aaa\"] \n",
    "sorted(L)"
   ]
  },
  {
   "cell_type": "code",
   "execution_count": 27,
   "metadata": {},
   "outputs": [
    {
     "data": {
      "text/plain": [
       "['b', 'dd', 'aaa', 'cccc']"
      ]
     },
     "execution_count": 27,
     "metadata": {},
     "output_type": "execute_result"
    }
   ],
   "source": [
    "sorted(L, key = len)"
   ]
  },
  {
   "cell_type": "markdown",
   "metadata": {},
   "source": [
    "---\n",
    "<h1 style=\"color:red\"> 647. Palindromic Substrings <h1>"
   ]
  },
  {
   "cell_type": "code",
   "execution_count": null,
   "metadata": {},
   "outputs": [],
   "source": []
  }
 ],
 "metadata": {
  "kernelspec": {
   "display_name": "Python 3",
   "language": "python",
   "name": "python3"
  },
  "language_info": {
   "codemirror_mode": {
    "name": "ipython",
    "version": 3
   },
   "file_extension": ".py",
   "mimetype": "text/x-python",
   "name": "python",
   "nbconvert_exporter": "python",
   "pygments_lexer": "ipython3",
   "version": "3.6.5"
  }
 },
 "nbformat": 4,
 "nbformat_minor": 2
}
