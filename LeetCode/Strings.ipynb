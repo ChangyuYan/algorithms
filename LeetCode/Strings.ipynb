{
 "cells": [
  {
   "cell_type": "markdown",
   "metadata": {},
   "source": [
    "### 929. Unique Email Addresses\n",
    "\n",
    "Python Substring Operations:    \n",
    "- ```string[:string.find(char\")``` to return a substring before char\n",
    "- ```import re; re.sub('[@#!]', '', string)``` to remove @,#,! (whatever inside [ ]) from string"
   ]
  },
  {
   "cell_type": "code",
   "execution_count": 1,
   "metadata": {},
   "outputs": [],
   "source": [
    "import re\n",
    "\n",
    "class Solution(object):\n",
    "    def numUniqueEmails(self, emails):\n",
    "        \"\"\"\n",
    "        :type emails: List[str]\n",
    "        :rtype: int\n",
    "        \"\"\"\n",
    "        email_set = set()\n",
    "        for email in emails: \n",
    "            email_set.add(self.cleanup_email(email))\n",
    "        \n",
    "        return len(email_set)\n",
    "            \n",
    "    \n",
    "    def cleanup_email(self, email):\n",
    "        at_loc = email.find(\"@\")\n",
    "        local_name = email[ : at_loc]\n",
    "        \n",
    "        if \"+\" in local_name:\n",
    "            local_name = local_name[ : local_name.find(\"+\")]\n",
    "        \n",
    "        local_name = re.sub(\"[.]\", \"\", local_name)\n",
    "        \n",
    "        return local_name + email[at_loc : ]"
   ]
  },
  {
   "cell_type": "markdown",
   "metadata": {},
   "source": [
    "----\n",
    "### 709. To Lower Case\n",
    "String to lowercase:\n",
    "```string = string.lower()```"
   ]
  },
  {
   "cell_type": "markdown",
   "metadata": {},
   "source": [
    "----\n",
    "### 804. Unique Morse Code Words\n",
    "\n",
    "To get a complete alphabet list, use:    \n",
    "```\n",
    "import string\n",
    "lower = string.ascii_lowercase\n",
    "upper = string.ascii_uppercase\n",
    "```"
   ]
  },
  {
   "cell_type": "code",
   "execution_count": 3,
   "metadata": {},
   "outputs": [
    {
     "data": {
      "text/plain": [
       "'abcdefghijklmnopqrstuvwxyz'"
      ]
     },
     "execution_count": 3,
     "metadata": {},
     "output_type": "execute_result"
    }
   ],
   "source": [
    "import string\n",
    "string.ascii_lowercase"
   ]
  },
  {
   "cell_type": "code",
   "execution_count": 2,
   "metadata": {},
   "outputs": [],
   "source": [
    "import string\n",
    "\n",
    "m = [\".-\",\"-...\",\"-.-.\",\"-..\",\".\",\"..-.\",\"--.\",\"....\",\"..\",\".---\",\"-.-\",\".-..\",\"--\",\"-.\",\"---\",\".--.\",\"--.-\",\".-.\",\"...\",\"-\",\"..-\",\"...-\",\".--\",\"-..-\",\"-.--\",\"--..\"]\n",
    "\n",
    "MORSE_DICT = dict(zip(string.ascii_lowercase, m))\n",
    "\n",
    "class Solution:\n",
    "    def uniqueMorseRepresentations(self, words):\n",
    "        \"\"\"\n",
    "        :type words: List[str]\n",
    "        :rtype: int\n",
    "        \"\"\"\n",
    "        word_set = set()\n",
    "        \n",
    "        for word in words: \n",
    "            mword = \"\"\n",
    "            \n",
    "            for char in word: \n",
    "                mword += MORSE_DICT[char]\n",
    "                \n",
    "            word_set.add(mword)\n",
    "        \n",
    "        return len(word_set)"
   ]
  },
  {
   "cell_type": "markdown",
   "metadata": {},
   "source": [
    "----\n",
    "### 557. Reverse Words in a String III\n",
    "To reverse a string, use:\n",
    "```string = string[::-1]```"
   ]
  },
  {
   "cell_type": "code",
   "execution_count": 4,
   "metadata": {},
   "outputs": [
    {
     "data": {
      "text/plain": [
       "'dcba'"
      ]
     },
     "execution_count": 4,
     "metadata": {},
     "output_type": "execute_result"
    }
   ],
   "source": [
    "s = \"abcd\"\n",
    "s[::-1]"
   ]
  },
  {
   "cell_type": "markdown",
   "metadata": {},
   "source": [
    "----\n"
   ]
  }
 ],
 "metadata": {
  "kernelspec": {
   "display_name": "Python 3",
   "language": "python",
   "name": "python3"
  },
  "language_info": {
   "codemirror_mode": {
    "name": "ipython",
    "version": 3
   },
   "file_extension": ".py",
   "mimetype": "text/x-python",
   "name": "python",
   "nbconvert_exporter": "python",
   "pygments_lexer": "ipython3",
   "version": "3.6.5"
  }
 },
 "nbformat": 4,
 "nbformat_minor": 2
}
