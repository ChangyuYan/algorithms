{
 "cells": [
  {
   "cell_type": "markdown",
   "metadata": {},
   "source": [
    "# 344. Reverse String\n",
    "Example 1:\n",
    "```\n",
    "Input: [\"h\",\"e\",\"l\",\"l\",\"o\"]\n",
    "Output: [\"o\",\"l\",\"l\",\"e\",\"h\"]\n",
    "```\n",
    "Example 2:\n",
    "```\n",
    "Input: [\"H\",\"a\",\"n\",\"n\",\"a\",\"h\"]\n",
    "Output: [\"h\",\"a\",\"n\",\"n\",\"a\",\"H\"]\n",
    "```"
   ]
  },
  {
   "cell_type": "code",
   "execution_count": 1,
   "metadata": {},
   "outputs": [],
   "source": [
    "class Solution:\n",
    "    def reverseString(self, s) -> None:\n",
    "        \"\"\"\n",
    "        Do not return anything, modify s in-place instead.\n",
    "        \"\"\"\n",
    "        lp = 0 \n",
    "        rp = len(s) - 1 \n",
    "        \n",
    "        while lp < rp:\n",
    "            s[lp], s[rp] = s[rp], s[lp]\n",
    "            lp += 1\n",
    "            rp -= 1"
   ]
  },
  {
   "cell_type": "markdown",
   "metadata": {},
   "source": [
    "# 283. Move Zeroes\n",
    "\n",
    "Given an array nums, write a function to move all 0's to the end of it while maintaining the relative order of the non-zero elements.\n",
    "\n",
    "Example:\n",
    "```\n",
    "Input: [0,1,0,3,12]\n",
    "Output: [1,3,12,0,0]\n",
    "```\n",
    "Note:\n",
    "\n",
    "- You must do this in-place without making a copy of the array.\n",
    "- Minimize the total number of operations."
   ]
  },
  {
   "cell_type": "code",
   "execution_count": 2,
   "metadata": {},
   "outputs": [],
   "source": [
    "class Solution:\n",
    "    def moveZeroes(self, nums) -> None:\n",
    "        \"\"\"\n",
    "        Do not return anything, modify nums in-place instead.\n",
    "        \"\"\"\n",
    "        i = 0\n",
    "        for j in range(len(nums)):\n",
    "            if nums[j] != 0:\n",
    "                nums[i], nums[j] = nums[j], nums[i]\n",
    "                i += 1"
   ]
  },
  {
   "cell_type": "markdown",
   "metadata": {},
   "source": [
    "# 167. Two Sum II - Input array is sorted\n",
    "\n",
    "Given an array of integers that is already sorted in ascending order, find two numbers such that they add up to a specific target number.\n",
    "\n",
    "The function twoSum should return indices of the two numbers such that they add up to the target, where index1 must be less than index2.\n",
    "\n",
    "Note:\n",
    "- Your returned answers (both index1 and index2) are not zero-based.\n",
    "- You may assume that each input would have exactly one solution and you may not use the same element twice.\n",
    "\n",
    "Example:\n",
    "```\n",
    "Input: numbers = [2,7,11,15], target = 9\n",
    "Output: [1,2]\n",
    "```\n",
    "Explanation: The sum of 2 and 7 is 9. Therefore index1 = 1, index2 = 2."
   ]
  },
  {
   "cell_type": "code",
   "execution_count": 4,
   "metadata": {},
   "outputs": [],
   "source": [
    "class Solution:\n",
    "    def twoSum(self, numbers, target: int):\n",
    "        lp = 0\n",
    "        rp = len(numbers) - 1\n",
    "        \n",
    "        while lp < rp:\n",
    "            total = numbers[lp] + numbers[rp]\n",
    "            if total == target:\n",
    "                return [lp + 1, rp + 1]\n",
    "            elif total < target:\n",
    "                lp += 1\n",
    "            elif total > target:\n",
    "                rp -= 1"
   ]
  },
  {
   "cell_type": "markdown",
   "metadata": {},
   "source": [
    "# 977. Squares of a Sorted Array\n",
    "\n",
    "Given an array of integers `A` sorted in non-decreasing order, return an array of the squares of each number, also in sorted non-decreasing order.\n",
    "\n",
    " \n",
    "\n",
    "Example 1:\n",
    "```\n",
    "Input: [-4,-1,0,3,10]\n",
    "Output: [0,1,9,16,100]\n",
    "```\n",
    "Example 2:\n",
    "```\n",
    "Input: [-7,-3,2,3,11]\n",
    "Output: [4,9,9,49,121]\n",
    " ```\n",
    "\n",
    "Note:\n",
    "\n",
    "- `1 <= A.length <= 10000`\n",
    "- `-10000 <= A[i] <= 10000`\n",
    "- `A` is sorted in non-decreasing order."
   ]
  },
  {
   "cell_type": "markdown",
   "metadata": {},
   "source": [
    "<h3 style=\"color:salmon\">[R]</h3>"
   ]
  },
  {
   "cell_type": "code",
   "execution_count": 5,
   "metadata": {},
   "outputs": [],
   "source": [
    "class Solution(object):\n",
    "    def sortedSquares(self, A):\n",
    "        answer = collections.deque()\n",
    "        l, r = 0, len(A) - 1\n",
    "        while l <= r:\n",
    "            left, right = abs(A[l]), abs(A[r])\n",
    "            if left > right:\n",
    "                answer.appendleft(left * left)\n",
    "                l += 1\n",
    "            else:\n",
    "                answer.appendleft(right * right)\n",
    "                r -= 1\n",
    "        return list(answer)"
   ]
  },
  {
   "cell_type": "code",
   "execution_count": null,
   "metadata": {},
   "outputs": [],
   "source": []
  }
 ],
 "metadata": {
  "kernelspec": {
   "display_name": "Python 3",
   "language": "python",
   "name": "python3"
  },
  "language_info": {
   "codemirror_mode": {
    "name": "ipython",
    "version": 3
   },
   "file_extension": ".py",
   "mimetype": "text/x-python",
   "name": "python",
   "nbconvert_exporter": "python",
   "pygments_lexer": "ipython3",
   "version": "3.6.7"
  }
 },
 "nbformat": 4,
 "nbformat_minor": 2
}
