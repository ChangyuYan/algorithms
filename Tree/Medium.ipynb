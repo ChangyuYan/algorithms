{
 "cells": [
  {
   "cell_type": "markdown",
   "metadata": {},
   "source": [
    "# 96. Unique Binary Search Trees\n",
    "\n",
    "Given n, how many structurally unique BST's (binary search trees) that store values *1 ... n*?\n",
    "\n",
    "Example:\n",
    "```\n",
    "Input: 3\n",
    "Output: 5\n",
    "Explanation:\n",
    "Given n = 3, there are a total of 5 unique BST's:\n",
    "\n",
    "   1         3     3      2      1\n",
    "    \\       /     /      / \\      \\\n",
    "     3     2     1      1   3      2\n",
    "    /     /       \\                 \\\n",
    "   2     1         2                 3\n",
    "```"
   ]
  },
  {
   "cell_type": "markdown",
   "metadata": {},
   "source": [
    "class Solution:\n",
    "    def numTrees(self, n):\n",
    "        \"\"\"\n",
    "        :type n: int\n",
    "        :rtype: int\n",
    "        \"\"\"\n",
    "        res = [0]*(n+1)\n",
    "        res[0], res[1] = 1, 1\n",
    "\n",
    "        for i in range(2, n+1):\n",
    "            for j in range(1, i+1):\n",
    "                res[i] += res[j-1] * res[i-j]\n",
    "\n",
    "        return res[n]"
   ]
  },
  {
   "cell_type": "markdown",
   "metadata": {},
   "source": [
    "<h3 style=\"color:salmon\">[R] Dynamic Programming </h3>"
   ]
  },
  {
   "cell_type": "code",
   "execution_count": 1,
   "metadata": {},
   "outputs": [],
   "source": [
    "class Solution:\n",
    "    def numTrees(self, n):\n",
    "        \"\"\"\n",
    "        :type n: int\n",
    "        :rtype: int\n",
    "        \"\"\"\n",
    "        res = [0]*(n+1)\n",
    "        res[0], res[1] = 1, 1\n",
    "\n",
    "        for i in range(2, n+1):\n",
    "            for j in range(1, i+1):\n",
    "                res[i] += res[j-1] * res[i-j]\n",
    "\n",
    "        return res[n]"
   ]
  },
  {
   "cell_type": "markdown",
   "metadata": {},
   "source": [
    "# 173. Binary Search Tree Iterator\n",
    "\n",
    "Implement an iterator over a binary search tree (BST). Your iterator will be initialized with the root node of a BST.\n",
    "\n",
    "Calling next() will return the next smallest number in the BST.\n",
    "\n",
    "Example:\n",
    "\n",
    "![173](./173.png)\n",
    "\n",
    "```python\n",
    "BSTIterator iterator = new BSTIterator(root);\n",
    "iterator.next();    // return 3\n",
    "iterator.next();    // return 7\n",
    "iterator.hasNext(); // return true\n",
    "iterator.next();    // return 9\n",
    "iterator.hasNext(); // return true\n",
    "iterator.next();    // return 15\n",
    "iterator.hasNext(); // return true\n",
    "iterator.next();    // return 20\n",
    "iterator.hasNext(); // return false\n",
    "```\n",
    "\n",
    "Note:\n",
    "\n",
    "- `next()` and `hasNext()` should run in average O(1) time and uses O(h) memory, where h is the height of the tree.\n",
    "- You may assume that `next()` call will always be valid, that is, there will be at least a next smallest number in the BST when `next()` is called."
   ]
  },
  {
   "cell_type": "code",
   "execution_count": 3,
   "metadata": {},
   "outputs": [],
   "source": [
    "# Definition for a binary tree node.\n",
    "# class TreeNode:\n",
    "#     def __init__(self, val=0, left=None, right=None):\n",
    "#         self.val = val\n",
    "#         self.left = left\n",
    "#         self.right = right\n",
    "class BSTIterator:\n",
    "    def __init__(self, root):\n",
    "        self.stack = []\n",
    "        while root:\n",
    "            self.stack.append(root)\n",
    "            root = root.left\n",
    "\n",
    "    # @return a boolean, whether we have a next smallest number\n",
    "    def hasNext(self):\n",
    "        return len(self.stack) > 0\n",
    "\n",
    "    # @return an integer, the next smallest number\n",
    "    def next(self):\n",
    "        node = self.stack.pop()\n",
    "        x = node.right\n",
    "        while x:\n",
    "            self.stack.append(x)\n",
    "            x = x.left\n",
    "        return node.val"
   ]
  },
  {
   "cell_type": "code",
   "execution_count": null,
   "metadata": {},
   "outputs": [],
   "source": []
  }
 ],
 "metadata": {
  "kernelspec": {
   "display_name": "Python 3",
   "language": "python",
   "name": "python3"
  },
  "language_info": {
   "codemirror_mode": {
    "name": "ipython",
    "version": 3
   },
   "file_extension": ".py",
   "mimetype": "text/x-python",
   "name": "python",
   "nbconvert_exporter": "python",
   "pygments_lexer": "ipython3",
   "version": "3.6.7"
  }
 },
 "nbformat": 4,
 "nbformat_minor": 2
}
