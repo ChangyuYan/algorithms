{
 "cells": [
  {
   "cell_type": "markdown",
   "metadata": {},
   "source": [
    "# 938. Range Sum of BST\n",
    "\n",
    "Given the root node of a binary search tree, return the sum of values of all nodes with value between L and R (inclusive).\n",
    "\n",
    "The binary search tree is guaranteed to have unique values.\n",
    "\n",
    " \n",
    "\n",
    "Example 1:\n",
    "```\n",
    "Input: root = [10,5,15,3,7,null,18], L = 7, R = 15\n",
    "Output: 32\n",
    "```\n",
    "Example 2:\n",
    "```\n",
    "Input: root = [10,5,15,3,7,13,18,1,null,6], L = 6, R = 10\n",
    "Output: 23\n",
    "```"
   ]
  },
  {
   "cell_type": "code",
   "execution_count": 1,
   "metadata": {},
   "outputs": [],
   "source": [
    "# Definition for a binary tree node.\n",
    "# class TreeNode:\n",
    "#     def __init__(self, val=0, left=None, right=None):\n",
    "#         self.val = val\n",
    "#         self.left = left\n",
    "#         self.right = right\n",
    "       \n",
    "class Solution:\n",
    "    def rangeSumBST(self, root, L: int, R: int) -> int:\n",
    "        self.res = 0 \n",
    "        self.aux(root, L, R)\n",
    "        return self.res\n",
    "    \n",
    "    def aux(self, root, L, R):\n",
    "        if not root:\n",
    "            return \n",
    "        if root.val >= L and root.val <= R: \n",
    "            self.res += root.val \n",
    "            self.aux(root.left, L, R)\n",
    "            self.aux(root.right, L, R)\n",
    "        elif root.val < L: \n",
    "            self.aux(root.right, L, R)\n",
    "        elif root.val > R: \n",
    "            self.aux(root.left, L, R)"
   ]
  },
  {
   "cell_type": "markdown",
   "metadata": {},
   "source": [
    "# 617. Merge Two Binary Trees \n",
    "\n",
    "<h3 style=\"color:salmon\">[R] I was able to write this by myself, but it's good to review the logic</h3>\n",
    "\n",
    "Given two binary trees and imagine that when you put one of them to cover the other, some nodes of the two trees are overlapped while the others are not.\n",
    "\n",
    "You need to merge them into a new binary tree. The merge rule is that if two nodes overlap, then sum node values up as the new value of the merged node. Otherwise, the NOT null node will be used as the node of new tree.\n",
    "\n",
    "Example 1:\n",
    "```\n",
    "Input: \n",
    "\tTree 1                     Tree 2                  \n",
    "          1                         2                             \n",
    "         / \\                       / \\                            \n",
    "        3   2                     1   3                        \n",
    "       /                           \\   \\                      \n",
    "      5                             4   7                  \n",
    "Output: \n",
    "Merged tree:\n",
    "\t     3\n",
    "\t    / \\\n",
    "\t   4   5\n",
    "\t  / \\   \\ \n",
    "\t 5   4   7\n",
    "```"
   ]
  },
  {
   "cell_type": "code",
   "execution_count": 2,
   "metadata": {},
   "outputs": [],
   "source": [
    "# Definition for a binary tree node.\n",
    "# class TreeNode:\n",
    "#     def __init__(self, val=0, left=None, right=None):\n",
    "#         self.val = val\n",
    "#         self.left = left\n",
    "#         self.right = right\n",
    "class Solution:\n",
    "    def mergeTrees(self, t1, t2):\n",
    "        if not t1:\n",
    "            return t2\n",
    "        if not t2:\n",
    "            return t1 \n",
    "        root = TreeNode(t1.val + t2.val)\n",
    "        root.left = self.mergeTrees(t1.left, t2.left)\n",
    "        root.right = self.mergeTrees(t1.right, t2.right)\n",
    "        return root"
   ]
  },
  {
   "cell_type": "markdown",
   "metadata": {},
   "source": [
    "# 589. N-ary Tree Preorder Traversal\n",
    "Given an n-ary tree, return the preorder traversal of its nodes' values.\n",
    "\n",
    "Nary-Tree input serialization is represented in their level order traversal, each group of children is separated by the null value (See examples).\n",
    "\n",
    " \n",
    "Follow up:\n",
    "- Recursive solution is trivial, could you do it iteratively?\n",
    " \n",
    "\n",
    "Example 1:\n",
    "\n",
    "![589](589.png)\n",
    "\n",
    "```\n",
    "Input: root = [1,null,3,2,4,null,5,6]\n",
    "Output: [1,3,5,6,2,4]\n",
    "```"
   ]
  },
  {
   "cell_type": "code",
   "execution_count": 4,
   "metadata": {},
   "outputs": [],
   "source": [
    "class Solution:\n",
    "    # Recursive Solution\n",
    "    def preorder(self, root: 'Node'):\n",
    "        self.res = [] \n",
    "        self.aux(root)\n",
    "        return self.res\n",
    "    \n",
    "    def aux(self, root):\n",
    "        if not root:\n",
    "            return \n",
    "        self.res.append(root.val)\n",
    "        for child in root.children:\n",
    "            self.aux(child)"
   ]
  },
  {
   "cell_type": "markdown",
   "metadata": {},
   "source": [
    "<h3 style=\"color:salmon\">[R] As for the iterative solution, took me a while to make sure ordering is correct: </h3>"
   ]
  },
  {
   "cell_type": "code",
   "execution_count": 5,
   "metadata": {},
   "outputs": [],
   "source": [
    "class Solution:\n",
    "    # Iterative\n",
    "    def preorder(self, root: 'Node'):\n",
    "        if not root:\n",
    "            return [] \n",
    "        \n",
    "        res = [root.val]\n",
    "        \n",
    "        remaining_nodes = root.children \n",
    "        \n",
    "        while remaining_nodes:\n",
    "            first = remaining_nodes[0]\n",
    "            res.append(first.val)\n",
    "            remaining_nodes.pop(0)\n",
    "            for i in range(len(first.children) - 1, -1, -1):\n",
    "                remaining_nodes.insert(0, first.children[i])\n",
    "        \n",
    "        return res"
   ]
  },
  {
   "cell_type": "markdown",
   "metadata": {},
   "source": [
    "<h3 style=\"color:salmon\">[R] For loop can be optimized: </h3>"
   ]
  },
  {
   "cell_type": "code",
   "execution_count": 6,
   "metadata": {},
   "outputs": [],
   "source": [
    "class Solution:\n",
    "    # Iterative\n",
    "    def preorder(self, root: 'Node'):\n",
    "        if not root:\n",
    "            return [] \n",
    "        \n",
    "        res = [root.val]\n",
    "        \n",
    "        remaining_nodes = root.children \n",
    "        \n",
    "        while remaining_nodes:\n",
    "            first = remaining_nodes.pop(0)\n",
    "            res.append(first.val)\n",
    "            remaining_nodes = first.children + remaining_nodes\n",
    "        \n",
    "        return res"
   ]
  },
  {
   "cell_type": "markdown",
   "metadata": {},
   "source": [
    "# 590. N-ary Tree Postorder Traversal\n",
    "\n",
    "Given an n-ary tree, return the postorder traversal of its nodes' values.\n",
    "\n",
    "Nary-Tree input serialization is represented in their level order traversal, each group of children is separated by the null value (See examples).\n",
    "\n",
    " \n",
    "\n",
    "Follow up:\n",
    "- Recursive solution is trivial, could you do it iteratively?\n",
    "\n",
    "Example\n",
    "```\n",
    "Input: root = [1,null,3,2,4,null,5,6]\n",
    "Output: [5,6,3,2,4,1]\n",
    "```"
   ]
  },
  {
   "cell_type": "code",
   "execution_count": 1,
   "metadata": {},
   "outputs": [],
   "source": [
    "class Solution:\n",
    "    # recursive\n",
    "    def postorder(self, root: 'Node'):\n",
    "        if not root:\n",
    "            return []\n",
    "        self.res = [] \n",
    "        self.aux(root)\n",
    "        return self.res\n",
    "        \n",
    "    def aux(self, root): \n",
    "        for node in root.children:\n",
    "            self.aux(node)\n",
    "        self.res.append(root.val)"
   ]
  },
  {
   "cell_type": "markdown",
   "metadata": {},
   "source": [
    "<h3 style=\"color:salmon\">[R] Iterative solution uses stack: </h3>"
   ]
  },
  {
   "cell_type": "code",
   "execution_count": 4,
   "metadata": {},
   "outputs": [],
   "source": [
    "class Solution(object):\n",
    "    def postorder(self, root):\n",
    "        \"\"\"\n",
    "        :type root: Node\n",
    "        :rtype: List[int]\n",
    "        \"\"\"\n",
    "        if root is None:\n",
    "            return []\n",
    "        \n",
    "        stack = [root]\n",
    "        res = []\n",
    "        while stack:\n",
    "            root = stack.pop()\n",
    "            if root:\n",
    "                res.append(root.val)\n",
    "            for c in root.children:\n",
    "                stack.append(c)\n",
    "                \n",
    "        return res[::-1]"
   ]
  },
  {
   "cell_type": "code",
   "execution_count": null,
   "metadata": {},
   "outputs": [],
   "source": []
  }
 ],
 "metadata": {
  "kernelspec": {
   "display_name": "Python 3",
   "language": "python",
   "name": "python3"
  },
  "language_info": {
   "codemirror_mode": {
    "name": "ipython",
    "version": 3
   },
   "file_extension": ".py",
   "mimetype": "text/x-python",
   "name": "python",
   "nbconvert_exporter": "python",
   "pygments_lexer": "ipython3",
   "version": "3.6.7"
  }
 },
 "nbformat": 4,
 "nbformat_minor": 2
}
