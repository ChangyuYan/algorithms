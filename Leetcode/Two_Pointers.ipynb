{
 "cells": [
  {
   "cell_type": "markdown",
   "metadata": {},
   "source": [
    "# Paritition Labels\n",
    "\n",
    "\n",
    "- In the first pass, store the last seen index. \n",
    "- In the second pass, lookup the last seen for each character as we encounter them and keep track of the maximum last seen value so far. \n",
    "- Whenever we reach an index that equals the maximum last seen so far, we start a new partition."
   ]
  },
  {
   "cell_type": "code",
   "execution_count": 2,
   "metadata": {},
   "outputs": [],
   "source": [
    "class Solution:\n",
    "    def partitionLabels(self, S: str):\n",
    "        # In the first pass, store the last seen index.\n",
    "        last_seen = {}\n",
    "        \n",
    "        for i in range(len(S)):\n",
    "            last_seen[S[i]] = i \n",
    "            \n",
    "        # In the second pass, lookup the last seen for each character as we encounter them and keep track of the maximum last seen value so far.\n",
    "        # Whenever we reach an index that equals the maximum last seen so far, we start a new partition.\n",
    "        \n",
    "        res = [] \n",
    "        max_last_seen = 0\n",
    "        head_pos = 0 \n",
    "        \n",
    "        for i in range(len(S)):\n",
    "            max_last_seen = max(max_last_seen, last_seen[S[i]])\n",
    "            if i == max_last_seen:\n",
    "                res.append(i - head_pos + 1)\n",
    "                head_pos = i + 1\n",
    "        \n",
    "        return res\n",
    "        "
   ]
  },
  {
   "cell_type": "markdown",
   "metadata": {},
   "source": [
    "# Candy Crush\n",
    "\n",
    "这道题一次消除 table 中所有可消除的糖果，然后才下落\n",
    "\n",
    "\n",
    "- 每个糖果单独检查其是否能被消除\n",
    "- 然后把所有能被删除的糖果都标记出来统一删除\n",
    "- 然后在下落糖果\n",
    "- 然后再次查找，直到无法找出能够消除的糖果时达到稳定状态。"
   ]
  },
  {
   "cell_type": "code",
   "execution_count": 4,
   "metadata": {},
   "outputs": [],
   "source": [
    "class Solution:\n",
    "    def candyCrush(self, M):\n",
    "        while True:\n",
    "            \n",
    "            rows = len(M)\n",
    "            cols = len(M[0])\n",
    "            \n",
    "            # 1, Check\n",
    "            crush = set()\n",
    "            for r in range(rows):\n",
    "                for c in range(cols):\n",
    "                    if c > 1 and M[r][c] and M[r][c] == M[r][c - 1] == M[r][c - 2]:\n",
    "                        crush |= {(r, c), (r, c - 1), (r, c - 2)}\n",
    "                    if r > 1 and M[r][c] and M[r][c] == M[r - 1][c] == M[r - 2][c]:\n",
    "                        crush |= {(r, c), (r - 1, c), (r - 2, c)}\n",
    "\n",
    "            # 2, Crush\n",
    "            if not crush: \n",
    "                break\n",
    "            for r, c in crush: \n",
    "                M[r][c] = 0\n",
    "\n",
    "            # 3, Drop\n",
    "            for c in range(cols):\n",
    "                idx = rows - 1\n",
    "                for r in reversed(range(rows)):\n",
    "                    if M[r][c]: \n",
    "                        M[idx][c] = M[r][c]\n",
    "                        idx -= 1\n",
    "                for r in range(idx + 1): \n",
    "                    M[r][c] = 0\n",
    "        return M"
   ]
  }
 ],
 "metadata": {
  "kernelspec": {
   "display_name": "Python 3",
   "language": "python",
   "name": "python3"
  },
  "language_info": {
   "codemirror_mode": {
    "name": "ipython",
    "version": 3
   },
   "file_extension": ".py",
   "mimetype": "text/x-python",
   "name": "python",
   "nbconvert_exporter": "python",
   "pygments_lexer": "ipython3",
   "version": "3.7.3"
  }
 },
 "nbformat": 4,
 "nbformat_minor": 2
}
