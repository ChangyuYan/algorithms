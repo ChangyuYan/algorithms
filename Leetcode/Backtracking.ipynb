{
 "cells": [
  {
   "cell_type": "markdown",
   "metadata": {},
   "source": [
    "# 37. Sudoku Solver"
   ]
  },
  {
   "cell_type": "code",
   "execution_count": 1,
   "metadata": {},
   "outputs": [],
   "source": [
    "class Solution:\n",
    "    def solveSudoku(self, board):\n",
    "        '''\n",
    "        Do not return anything, modify board in-place\n",
    "        Board is a 9 * 9 matrix\n",
    "        '''\n",
    "        self.rows = [[0 for y in range(10)] for x in range(9)]\n",
    "        self.cols = [[0 for y in range(10)] for x in range(9)]\n",
    "        self.boxs = [[0 for y in range(10)] for x in range(9)]\n",
    "        self.board = board\n",
    "        \n",
    "        # intialize constrains before filling\n",
    "        for i in range(9):\n",
    "            for j in range(9):\n",
    "                c = self.board[i][j]\n",
    "                if c != \".\":\n",
    "                    n = int(c)\n",
    "                    bx = int(j / 3)\n",
    "                    by = int(i / 3)\n",
    "                    self.rows[i][n] = 1\n",
    "                    self.cols[j][n] = 1\n",
    "                    self.boxs[by * 3 + bx][n] = 1\n",
    "        \n",
    "        self.fill(0, 0)\n",
    "\n",
    "    def fill(self, x, y):\n",
    "        if y == 9:\n",
    "            return True\n",
    "\n",
    "        nx = (x + 1) % 9\n",
    "        ny = y + 1 if nx == 0 else y\n",
    "\n",
    "        if self.board[y][x] != '.':\n",
    "            return self.fill(nx, ny)\n",
    "\n",
    "        for i in range(1, 10):\n",
    "            bx = int(x / 3)\n",
    "            by = int(y / 3)\n",
    "            box_key = by * 3 + bx\n",
    "\n",
    "            if not self.rows[y][i] and not self.cols[x][i] and not self.boxs[box_key][i]:\n",
    "                self.rows[y][i] = 1\n",
    "                self.cols[x][i] = 1\n",
    "                self.boxs[box_key][i] = 1\n",
    "                self.board[y][x] = str(i)\n",
    "                if self.fill(nx, ny):\n",
    "                    return True\n",
    "                self.board[y][x] = \".\"\n",
    "                self.boxs[box_key][i] = 0\n",
    "                self.cols[x][i] = 0\n",
    "                self.rows[y][i] = 0\n",
    "                \n",
    "        return False"
   ]
  },
  {
   "cell_type": "code",
   "execution_count": 9,
   "metadata": {},
   "outputs": [
    {
     "name": "stdout",
     "output_type": "stream",
     "text": [
      "['5', '3', '4', '6', '7', '8', '9', '1', '2']\n",
      "['6', '7', '2', '1', '9', '5', '3', '4', '8']\n",
      "['1', '9', '8', '3', '4', '2', '5', '6', '7']\n",
      "['8', '5', '9', '7', '6', '1', '4', '2', '3']\n",
      "['4', '2', '6', '8', '5', '3', '7', '9', '1']\n",
      "['7', '1', '3', '9', '2', '4', '8', '5', '6']\n",
      "['9', '6', '1', '5', '3', '7', '2', '8', '4']\n",
      "['2', '8', '7', '4', '1', '9', '6', '3', '5']\n",
      "['3', '4', '5', '2', '8', '6', '1', '7', '9']\n"
     ]
    }
   ],
   "source": [
    "# Test\n",
    "board = [[\"5\",\"3\",\".\",\".\",\"7\",\".\",\".\",\".\",\".\"], \n",
    "         [\"6\",\".\",\".\",\"1\",\"9\",\"5\",\".\",\".\",\".\"], \n",
    "         [\".\",\"9\",\"8\",\".\",\".\",\".\",\".\",\"6\",\".\"], \n",
    "         [\"8\",\".\",\".\",\".\",\"6\",\".\",\".\",\".\",\"3\"], \n",
    "         [\"4\",\".\",\".\",\"8\",\".\",\"3\",\".\",\".\",\"1\"], \n",
    "         [\"7\",\".\",\".\",\".\",\"2\",\".\",\".\",\".\",\"6\"], \n",
    "         [\".\",\"6\",\".\",\".\",\".\",\".\",\"2\",\"8\",\".\"], \n",
    "         [\".\",\".\",\".\",\"4\",\"1\",\"9\",\".\",\".\",\"5\"], \n",
    "         [\".\",\".\",\".\",\".\",\"8\",\".\",\".\",\"7\",\"9\"]]\n",
    "\n",
    "solver = Solution()\n",
    "solver.solveSudoku(board)\n",
    "\n",
    "for row in board:\n",
    "    print(row)"
   ]
  },
  {
   "cell_type": "code",
   "execution_count": null,
   "metadata": {},
   "outputs": [],
   "source": []
  }
 ],
 "metadata": {
  "kernelspec": {
   "display_name": "Python 3",
   "language": "python",
   "name": "python3"
  },
  "language_info": {
   "codemirror_mode": {
    "name": "ipython",
    "version": 3
   },
   "file_extension": ".py",
   "mimetype": "text/x-python",
   "name": "python",
   "nbconvert_exporter": "python",
   "pygments_lexer": "ipython3",
   "version": "3.7.3"
  }
 },
 "nbformat": 4,
 "nbformat_minor": 2
}
