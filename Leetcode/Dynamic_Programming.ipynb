{
 "cells": [
  {
   "cell_type": "markdown",
   "metadata": {},
   "source": [
    "# 256. Paint House\n",
    "\n",
    "There are a row of n houses, each house can be painted with one of the three colors: red, blue or green. The cost of painting each house with a certain color is different. You have to paint all the houses such that no two adjacent houses have the same color.\n",
    "\n",
    "The cost of painting each house with a certain color is represented by a `n x 3` cost matrix. For example, `costs[0][0]` is the cost of painting house 0 with color red; `costs[1][2]` is the cost of painting house 1 with color green, and so on... Find the minimum cost to paint all houses.\n",
    "\n",
    "**Note:**\n",
    "All costs are positive integers.\n",
    "\n",
    "**Example:**\n",
    "```\n",
    "Input: [[17,2,17],[16,16,5],[14,3,19]]\n",
    "Output: 10\n",
    "Explanation: Paint house 0 into blue, paint house 1 into green, paint house 2 into blue. \n",
    "             Minimum cost: 2 + 5 + 3 = 10.\n",
    "```             "
   ]
  },
  {
   "cell_type": "code",
   "execution_count": 1,
   "metadata": {},
   "outputs": [],
   "source": [
    "class Solution(object):\n",
    "    def minCost(self, costs):\n",
    "        \"\"\"\n",
    "        :type costs: List[List[int]]\n",
    "        :rtype: int\n",
    "        \"\"\"\n",
    "        min_red, min_blue, min_green = (0,)*3\n",
    "        \n",
    "        for house_color_costs in costs:\n",
    "            r, b, g = house_color_costs\n",
    "            min_red, min_blue, min_green = min(min_blue, min_green) + r, min(min_red, min_green) + b, min(min_red, min_blue) + g\n",
    "        \n",
    "        return min(min_red, min_blue, min_green)"
   ]
  },
  {
   "cell_type": "markdown",
   "metadata": {},
   "source": [
    "# 53. Maximum Subarray"
   ]
  },
  {
   "cell_type": "code",
   "execution_count": 5,
   "metadata": {},
   "outputs": [],
   "source": [
    "class Solution:\n",
    "    def maxSubArray(self, nums) -> int:\n",
    "        \n",
    "        res = nums[0]\n",
    "        summation = nums[0]\n",
    "        \n",
    "        for i in range(1, len(nums)):\n",
    "            summation = max(summation + nums[i], nums[i])\n",
    "            if summation > res:\n",
    "                res = summation \n",
    "                \n",
    "        return res"
   ]
  },
  {
   "cell_type": "markdown",
   "metadata": {},
   "source": [
    "# 121. Best Time to Buy and Sell Stock\n",
    "\n",
    "--- \n",
    "**Method 1** \n",
    "\n",
    "```\n",
    "Observation: \n",
    "Buy:  prices[i]: min{prices[k]}, k <= i \n",
    "Sell: prices[j]: max{prices[k]}, k >= j \n",
    "```"
   ]
  },
  {
   "cell_type": "code",
   "execution_count": 6,
   "metadata": {},
   "outputs": [],
   "source": [
    "class Solution:\n",
    "    def maxProfit(self, prices):\n",
    "        max_profit = 0 \n",
    "        min_price  = float('inf')\n",
    "        \n",
    "        for price in prices:\n",
    "            min_price = min(min_price, price)\n",
    "            profit = price - min_price\n",
    "            max_profit = max(max_profit, profit)\n",
    "            \n",
    "        return max_profit"
   ]
  },
  {
   "cell_type": "markdown",
   "metadata": {},
   "source": [
    "**Method 2**\n",
    "```\n",
    "Compute the gain of each day\n",
    "prices: [ 7,  1,  5,  3,  6,  4] \n",
    "gain:       [-6,  4, -2,  3, -2] \n",
    "```\n",
    "\n",
    "Reduced to Maximum SubArray"
   ]
  },
  {
   "cell_type": "code",
   "execution_count": 7,
   "metadata": {},
   "outputs": [],
   "source": [
    "class Solution:\n",
    "    def maxProfit(self, prices):\n",
    "        \n",
    "        if not prices:\n",
    "            return 0 \n",
    "        \n",
    "        if len(prices) == 1:\n",
    "            return 0\n",
    "\n",
    "        gain = []\n",
    "        for i in range(1, len(prices)):\n",
    "            gain.append(prices[i] - prices[i-1])\n",
    "        \n",
    "        # Reduced to maximum subarray\n",
    "        res = gain[0]\n",
    "        summation = gain[0]\n",
    "        \n",
    "        for i in range(1, len(gain)):\n",
    "            summation = max(summation + gain[i], gain[i])\n",
    "            if summation > res:\n",
    "                res = summation \n",
    "        \n",
    "        return max(res, 0) "
   ]
  },
  {
   "cell_type": "markdown",
   "metadata": {},
   "source": [
    "# Min Cost Climbing Stairs\n",
    "\n",
    "On a staircase, the i-th step has some non-negative cost `cost[i]` assigned (0 indexed).\n",
    "\n",
    "Once you pay the cost, you can either climb one or two steps. You need to find minimum cost to reach the top of the floor, and you can either start from the step with index 0, or the step with index 1.\n",
    "\n",
    "Example 1:\n",
    "```\n",
    "Input: cost = [10, 15, 20]\n",
    "Output: 15\n",
    "Explanation: Cheapest is start on cost[1], pay that cost and go to the top.\n",
    "```\n",
    "Example 2:\n",
    "```\n",
    "Input: cost = [1, 100, 1, 1, 1, 100, 1, 1, 100, 1]\n",
    "Output: 6\n",
    "Explanation: Cheapest is start on cost[0], and only step on 1s, skipping cost[3].\n",
    "```\n",
    "\n",
    "Note:\n",
    "\n",
    "1. `cost` will have a length in the range `[2, 1000]`.\n",
    "2. Every `cost[i]` will be an integer in the range `[0, 999]`."
   ]
  },
  {
   "cell_type": "code",
   "execution_count": 1,
   "metadata": {},
   "outputs": [],
   "source": [
    "class Solution:\n",
    "    def minCostClimbingStairs(self, cost):\n",
    "\n",
    "        dp = [0] * (len(cost)) \n",
    "        \n",
    "        dp[0], dp[1] = cost[0], cost[1]\n",
    "        \n",
    "        for i in range(2, len(cost)):\n",
    "            dp[i] = min(dp[i - 2] + cost[i], dp[i - 1] + cost[i])\n",
    "        \n",
    "        return min(dp[-2], dp[-1]) "
   ]
  },
  {
   "cell_type": "markdown",
   "metadata": {},
   "source": [
    "# 392. Is Subsequence"
   ]
  },
  {
   "cell_type": "code",
   "execution_count": 3,
   "metadata": {},
   "outputs": [],
   "source": [
    "class Solution(object):\n",
    "    def isSubsequence(self, s, t):\n",
    "        \n",
    "        if len(s) == 0:\n",
    "            return True\n",
    "        if len(t) == 0:\n",
    "            return False \n",
    "        \n",
    "        i, j = 0, 0\n",
    "        \n",
    "        while i < len(s) and j < len(t):\n",
    "            if s[i] == t[j]:\n",
    "                i += 1\n",
    "            j += 1  \n",
    "            \n",
    "        return i == len(s)  "
   ]
  },
  {
   "cell_type": "markdown",
   "metadata": {},
   "source": [
    "# 70. Climbing Stairs\n",
    "\n",
    "You are climbing a stair case. It takes n steps to reach to the top.\n",
    "\n",
    "Each time you can either climb 1 or 2 steps. In how many distinct ways can you climb to the top?"
   ]
  },
  {
   "cell_type": "code",
   "execution_count": 4,
   "metadata": {},
   "outputs": [],
   "source": [
    "class Solution:\n",
    "    def climbStairs(self, n: int) -> int:\n",
    "        \n",
    "        dp = [0] * (n + 1)\n",
    "        \n",
    "        if n == 1:\n",
    "            return 1 \n",
    "        \n",
    "        if n == 2:\n",
    "            return 2\n",
    "        \n",
    "        dp[1] = 1\n",
    "        dp[2] = 2\n",
    "        \n",
    "        for i in range(3, n + 1):\n",
    "            dp[i] = dp[i - 1] + dp[i - 2]\n",
    "        \n",
    "        return dp[n]"
   ]
  },
  {
   "cell_type": "markdown",
   "metadata": {},
   "source": [
    "# 198. House Robber\n",
    "\n",
    "You are a professional robber planning to rob houses along a street. Each house has a certain amount of money stashed, the only constraint stopping you from robbing each of them is that adjacent houses have security system connected and **it will automatically contact the police if two adjacent houses were broken into on the same night**.\n",
    "\n",
    "Given a list of non-negative integers representing the amount of money of each house, determine the maximum amount of money you can rob tonight **without alerting the police**.\n",
    "\n",
    "Example 1:\n",
    "```\n",
    "Input: [1,2,3,1]\n",
    "Output: 4\n",
    "Explanation: Rob house 1 (money = 1) and then rob house 3 (money = 3).\n",
    "             Total amount you can rob = 1 + 3 = 4.\n",
    "```\n",
    "Example 2:\n",
    "```\n",
    "Input: [2,7,9,3,1]\n",
    "Output: 12\n",
    "Explanation: Rob house 1 (money = 2), rob house 3 (money = 9) and rob house 5 (money = 1).\n",
    "             Total amount you can rob = 2 + 9 + 1 = 12.\n",
    "```            "
   ]
  },
  {
   "cell_type": "code",
   "execution_count": 8,
   "metadata": {},
   "outputs": [],
   "source": [
    "class Solution:\n",
    "    def rob(self, nums) -> int:\n",
    "        \n",
    "        if not nums:\n",
    "            return 0 \n",
    "        \n",
    "        if len(nums) < 3:\n",
    "            return max(nums)\n",
    "        \n",
    "        res = [0] * len(nums) \n",
    "        \n",
    "        res[0] = nums[0]\n",
    "        res[1] = max(nums[0], nums[1])\n",
    "        \n",
    "        for i in range(2, len(nums)):\n",
    "                res[i] = max(nums[i] + res[i - 2], res[i - 1])\n",
    "        \n",
    "        return res[-1]"
   ]
  },
  {
   "cell_type": "markdown",
   "metadata": {},
   "source": [
    "# 276. Paint Fence\n",
    "\n",
    "There is a fence with n posts, each post can be painted with one of the k colors.\n",
    "\n",
    "You have to paint all the posts such that no more than two adjacent fence posts have the same color.\n",
    "\n",
    "Return the total number of ways you can paint the fence.\n",
    "\n",
    "**Note:**\n",
    "n and k are non-negative integers.\n",
    "\n",
    "---\n",
    "\n",
    "If n == 1, there would be k-ways to paint.\n",
    "\n",
    "If n == 2, there would be two situations:\n",
    "\n",
    "- 2.1 You paint same color with the previous post: k * 1 ways to paint, named it as same\n",
    "- 2.2 You paint differently with the previous post: k * (k-1) ways to paint this way, named it as dif\n",
    "\n",
    "So, you can think, if n >= 3, you can always maintain these two situations,\n",
    "You either paint the same color with the previous one, or differently.\n",
    "\n",
    "Since there is a rule: \"no more than two adjacent fence posts have the same color.\"\n",
    "\n",
    "We can further analyze:\n",
    "\n",
    "- from 2.1, since previous two are in the same color, next one you could only paint differently, and it would form one part of \"paint differently\" case in the n == 3 level, and the number of ways to paint this way would equal to `same * (k-1)`.\n",
    "\n",
    "- from 2.2, since previous two are not the same, you can either paint the same color this time `(dif * 1)` ways to do so, or stick to paint differently `(dif * (k-1))` times.\n",
    "\n",
    "\n",
    "Here you can conclude, when seeing back from the next level, ways to paint the same, or variable same would equal to `dif * 1 = dif`, and ways to paint differently, variable dif, would equal to `same * (k-1) + dif * (k-1) = (same + dif) * (k-1)`"
   ]
  },
  {
   "cell_type": "code",
   "execution_count": 9,
   "metadata": {},
   "outputs": [],
   "source": [
    "class Solution:\n",
    "    def numWays(self, n: int, k: int) -> int:\n",
    "        if n == 0:\n",
    "            return 0\n",
    "        \n",
    "        if n == 1:\n",
    "            return k\n",
    "        \n",
    "        same = k\n",
    "        diff = k * (k - 1)\n",
    "        \n",
    "        for i in range(3, n+1):\n",
    "            same, diff = diff, (same + diff) * (k-1)\n",
    "            \n",
    "        return same + diff"
   ]
  },
  {
   "cell_type": "markdown",
   "metadata": {},
   "source": [
    "# 1277. Count Square Submatrices with All Ones\n",
    "\n",
    "Given a m * n matrix of ones and zeros, return how many square submatrices have all ones.\n",
    "\n",
    " \n",
    "\n",
    "Example 1:\n",
    "```\n",
    "Input: matrix =\n",
    "[\n",
    "  [0,1,1,1],\n",
    "  [1,1,1,1],\n",
    "  [0,1,1,1]\n",
    "]\n",
    "Output: 15\n",
    "Explanation: \n",
    "There are 10 squares of side 1.\n",
    "There are 4 squares of side 2.\n",
    "There is  1 square of side 3.\n",
    "Total number of squares = 10 + 4 + 1 = 15.\n",
    "```\n",
    "Example 2:\n",
    "```\n",
    "Input: matrix = \n",
    "[\n",
    "  [1,0,1],\n",
    "  [1,1,0],\n",
    "  [1,1,0]\n",
    "]\n",
    "Output: 7\n",
    "Explanation: \n",
    "There are 6 squares of side 1.  \n",
    "There is 1 square of side 2. \n",
    "Total number of squares = 6 + 1 = 7.\n",
    "```"
   ]
  },
  {
   "cell_type": "code",
   "execution_count": 1,
   "metadata": {},
   "outputs": [],
   "source": [
    "class Solution(object):\n",
    "    def countSquares(self, A):\n",
    "        \n",
    "        rows = len(A)\n",
    "        cols = len(A[0])\n",
    "        \n",
    "        dp = [[0] * (cols + 1) for _ in range(rows + 1)] # new int[R+1][C+1];\n",
    "        \n",
    "        res = 0\n",
    "        for i in range(rows):\n",
    "            for j in range(cols):\n",
    "                if A[i][j]:\n",
    "                    dp[i+1][j+1] = min(dp[i][j+1], dp[i+1][j], dp[i][j]) + 1\n",
    "                    res += dp[i+1][j+1]\n",
    "        \n",
    "        return res"
   ]
  },
  {
   "cell_type": "markdown",
   "metadata": {},
   "source": [
    "# 338. Counting Bits\n",
    "\n",
    "Given a non negative integer number num. For every numbers i in the range 0 ≤ i ≤ num calculate the number of 1's in their binary representation and return them as an array.\n",
    "\n",
    "Example 1:\n",
    "```\n",
    "Input: 2\n",
    "Output: [0,1,1]\n",
    "```\n",
    "Example 2:\n",
    "```\n",
    "Input: 5\n",
    "Output: [0,1,1,2,1,2]\n",
    "```\n",
    "Follow up:\n",
    "\n",
    "- It is very easy to come up with a solution with run time `O(n * sizeof(integer))`. But can you do it in linear time `O(n)` /possibly in a single pass?\n",
    "- Space complexity should be `O(n)`."
   ]
  },
  {
   "cell_type": "code",
   "execution_count": 2,
   "metadata": {},
   "outputs": [],
   "source": [
    "class Solution(object):\n",
    "    def countBits(self, num):\n",
    "        res = [0]\n",
    "        while len(res) <= num:\n",
    "            res += [i+1 for i in res]\n",
    "        return res[:num+1]"
   ]
  },
  {
   "cell_type": "markdown",
   "metadata": {},
   "source": [
    "# 5. Longest Palindromic Substring\n",
    "\n",
    "Given a string s, find the longest palindromic substring in s. You may assume that the maximum length of s is 1000.\n",
    "\n",
    "Example 1:\n",
    "```\n",
    "Input: \"babad\"\n",
    "Output: \"bab\"\n",
    "Note: \"aba\" is also a valid answer.\n",
    "```\n",
    "Example 2:\n",
    "```\n",
    "Input: \"cbbd\"\n",
    "Output: \"bb\"\n",
    "```"
   ]
  },
  {
   "cell_type": "code",
   "execution_count": 3,
   "metadata": {},
   "outputs": [],
   "source": [
    "class Solution:\n",
    "    def longestPalindrome(self, s: str) -> str: \n",
    "        \n",
    "        size = len(s)\n",
    "        \n",
    "        def getLen(l, r):\n",
    "            while l >= 0 and r < size and s[l] == s[r]:\n",
    "                l -= 1\n",
    "                r += 1\n",
    "            return r - l - 1\n",
    "        \n",
    "        start = 0\n",
    "        length = 0\n",
    "        for i in range(size):\n",
    "            curr = max(getLen(i, i), getLen(i, i + 1))\n",
    "            \n",
    "            if curr > length: \n",
    "                length = curr\n",
    "                start = i - (curr - 1) // 2\n",
    "        \n",
    "        return s[start : start + length]"
   ]
  },
  {
   "cell_type": "markdown",
   "metadata": {},
   "source": [
    "# 174. Dungeon Game"
   ]
  },
  {
   "cell_type": "code",
   "execution_count": 11,
   "metadata": {},
   "outputs": [],
   "source": [
    "import sys\n",
    "MAXINT = sys.maxsize\n",
    "\n",
    "class Solution:\n",
    "    def calculateMinimumHP(self, dungeon) -> int:\n",
    "        rows = len(dungeon)\n",
    "        cols = len(dungeon[0])\n",
    "        \n",
    "        hp = [[MAXINT] * (cols + 1) for _ in range(rows + 1)] \n",
    "        \n",
    "        hp[rows][cols - 1] = 1\n",
    "        hp[rows - 1][cols] = 1\n",
    "        \n",
    "        for r in range(rows - 1, -1, -1):\n",
    "            for c in range(cols - 1, -1, -1):\n",
    "                hp[r][c] = max(1, min(hp[r+1][c], hp[r][c+1]) - dungeon[r][c])\n",
    "        \n",
    "        return hp[0][0]"
   ]
  },
  {
   "cell_type": "code",
   "execution_count": null,
   "metadata": {},
   "outputs": [],
   "source": []
  }
 ],
 "metadata": {
  "kernelspec": {
   "display_name": "Python 3",
   "language": "python",
   "name": "python3"
  },
  "language_info": {
   "codemirror_mode": {
    "name": "ipython",
    "version": 3
   },
   "file_extension": ".py",
   "mimetype": "text/x-python",
   "name": "python",
   "nbconvert_exporter": "python",
   "pygments_lexer": "ipython3",
   "version": "3.7.3"
  }
 },
 "nbformat": 4,
 "nbformat_minor": 2
}
