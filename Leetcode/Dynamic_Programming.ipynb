{
 "cells": [
  {
   "cell_type": "markdown",
   "metadata": {},
   "source": [
    "# 256. Paint House\n",
    "\n",
    "There are a row of n houses, each house can be painted with one of the three colors: red, blue or green. The cost of painting each house with a certain color is different. You have to paint all the houses such that no two adjacent houses have the same color.\n",
    "\n",
    "The cost of painting each house with a certain color is represented by a `n x 3` cost matrix. For example, `costs[0][0]` is the cost of painting house 0 with color red; `costs[1][2]` is the cost of painting house 1 with color green, and so on... Find the minimum cost to paint all houses.\n",
    "\n",
    "**Note:**\n",
    "All costs are positive integers.\n",
    "\n",
    "**Example:**\n",
    "```\n",
    "Input: [[17,2,17],[16,16,5],[14,3,19]]\n",
    "Output: 10\n",
    "Explanation: Paint house 0 into blue, paint house 1 into green, paint house 2 into blue. \n",
    "             Minimum cost: 2 + 5 + 3 = 10.\n",
    "```             "
   ]
  },
  {
   "cell_type": "code",
   "execution_count": 1,
   "metadata": {},
   "outputs": [],
   "source": [
    "class Solution(object):\n",
    "    def minCost(self, costs):\n",
    "        \"\"\"\n",
    "        :type costs: List[List[int]]\n",
    "        :rtype: int\n",
    "        \"\"\"\n",
    "        min_red, min_blue, min_green = (0,)*3\n",
    "        \n",
    "        for house_color_costs in costs:\n",
    "            r, b, g = house_color_costs\n",
    "            min_red, min_blue, min_green = min(min_blue, min_green) + r, min(min_red, min_green) + b, min(min_red, min_blue) + g\n",
    "        \n",
    "        return min(min_red, min_blue, min_green)"
   ]
  },
  {
   "cell_type": "markdown",
   "metadata": {},
   "source": [
    "# 53. Maximum Subarray"
   ]
  },
  {
   "cell_type": "code",
   "execution_count": 5,
   "metadata": {},
   "outputs": [],
   "source": [
    "class Solution:\n",
    "    def maxSubArray(self, nums) -> int:\n",
    "        \n",
    "        res = nums[0]\n",
    "        summation = nums[0]\n",
    "        \n",
    "        for i in range(1, len(nums)):\n",
    "            summation = max(summation + nums[i], nums[i])\n",
    "            if summation > res:\n",
    "                res = summation \n",
    "                \n",
    "        return res"
   ]
  },
  {
   "cell_type": "markdown",
   "metadata": {},
   "source": [
    "# 121. Best Time to Buy and Sell Stock\n",
    "\n",
    "--- \n",
    "**Method 1** \n",
    "\n",
    "```\n",
    "Observation: \n",
    "Buy:  prices[i]: min{prices[k]}, k <= i \n",
    "Sell: prices[j]: max{prices[k]}, k >= j \n",
    "```"
   ]
  },
  {
   "cell_type": "code",
   "execution_count": 6,
   "metadata": {},
   "outputs": [],
   "source": [
    "class Solution:\n",
    "    def maxProfit(self, prices):\n",
    "        max_profit = 0 \n",
    "        min_price  = float('inf')\n",
    "        \n",
    "        for price in prices:\n",
    "            min_price = min(min_price, price)\n",
    "            profit = price - min_price\n",
    "            max_profit = max(max_profit, profit)\n",
    "            \n",
    "        return max_profit"
   ]
  },
  {
   "cell_type": "markdown",
   "metadata": {},
   "source": [
    "**Method 2**\n",
    "```\n",
    "Compute the gain of each day\n",
    "prices: [ 7,  1,  5,  3,  6,  4] \n",
    "gain:       [-6,  4, -2,  3, -2] \n",
    "```\n",
    "\n",
    "Reduced to Maximum SubArray"
   ]
  },
  {
   "cell_type": "code",
   "execution_count": 7,
   "metadata": {},
   "outputs": [],
   "source": [
    "class Solution:\n",
    "    def maxProfit(self, prices):\n",
    "        \n",
    "        if not prices:\n",
    "            return 0 \n",
    "        \n",
    "        if len(prices) == 1:\n",
    "            return 0\n",
    "\n",
    "        gain = []\n",
    "        for i in range(1, len(prices)):\n",
    "            gain.append(prices[i] - prices[i-1])\n",
    "        \n",
    "        # Reduced to maximum subarray\n",
    "        res = gain[0]\n",
    "        summation = gain[0]\n",
    "        \n",
    "        for i in range(1, len(gain)):\n",
    "            summation = max(summation + gain[i], gain[i])\n",
    "            if summation > res:\n",
    "                res = summation \n",
    "        \n",
    "        return max(res, 0) "
   ]
  },
  {
   "cell_type": "code",
   "execution_count": null,
   "metadata": {},
   "outputs": [],
   "source": []
  }
 ],
 "metadata": {
  "kernelspec": {
   "display_name": "Python 3",
   "language": "python",
   "name": "python3"
  },
  "language_info": {
   "codemirror_mode": {
    "name": "ipython",
    "version": 3
   },
   "file_extension": ".py",
   "mimetype": "text/x-python",
   "name": "python",
   "nbconvert_exporter": "python",
   "pygments_lexer": "ipython3",
   "version": "3.7.3"
  }
 },
 "nbformat": 4,
 "nbformat_minor": 2
}
