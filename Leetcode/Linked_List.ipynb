{
 "cells": [
  {
   "cell_type": "markdown",
   "metadata": {},
   "source": [
    "# Linked List Cycle\n",
    "\n",
    "<p style=\"color:red\"> FOLLOW UP: How to definitively prove it? </p>"
   ]
  },
  {
   "cell_type": "code",
   "execution_count": 1,
   "metadata": {},
   "outputs": [],
   "source": [
    "# Definition for singly-linked list.\n",
    "# class ListNode:\n",
    "#     def __init__(self, x):\n",
    "#         self.val = x\n",
    "#         self.next = None\n",
    "\n",
    "class Solution:\n",
    "    def hasCycle(self, head):\n",
    "        fast = slow = head\n",
    "\n",
    "        while slow and fast and fast.next:\n",
    "            slow = slow.next                # Step of 1\n",
    "            fast = fast.next.next           # Setp of 2\n",
    "\n",
    "            if slow is fast:                # Checking whether two pointers meet\n",
    "                return True\n",
    "\n",
    "        return False"
   ]
  },
  {
   "cell_type": "markdown",
   "metadata": {},
   "source": [
    "# 160. Intersection of Two Linked Lists\n",
    "\n",
    "--- \n",
    "### Method 1\n",
    "- Concatenate list A and list B\n",
    "- If there's an intersection, there's a loop\n",
    "- so we need to find the start of the loop if there's any:"
   ]
  },
  {
   "cell_type": "code",
   "execution_count": 2,
   "metadata": {},
   "outputs": [],
   "source": [
    "class Solution(object):\n",
    "    def getIntersectionNode(self, A, B):\n",
    "        if not A or not B: return None\n",
    "\n",
    "        # Concatenate A and B\n",
    "        last = A\n",
    "        while last.next: last = last.next\n",
    "        last.next = B\n",
    "\n",
    "        # Find the start of the loop\n",
    "        fast = slow = A\n",
    "        while fast and fast.next:\n",
    "            slow, fast = slow.next, fast.next.next\n",
    "            if slow == fast:\n",
    "                fast = A\n",
    "                while fast != slow:\n",
    "                    slow, fast = slow.next, fast.next\n",
    "                last.next = None\n",
    "                return slow\n",
    "\n",
    "        # No loop found\n",
    "        last.next = None\n",
    "        return None"
   ]
  },
  {
   "cell_type": "markdown",
   "metadata": {},
   "source": [
    "---\n",
    "### Method 2"
   ]
  },
  {
   "cell_type": "code",
   "execution_count": 3,
   "metadata": {},
   "outputs": [],
   "source": [
    "class Solution:\n",
    "    # @param two ListNodes\n",
    "    # @return the intersected ListNode\n",
    "    def getIntersectionNode(self, headA, headB):\n",
    "        if headA is None or headB is None:\n",
    "            return None\n",
    "\n",
    "        pa = headA # 2 pointers\n",
    "        pb = headB\n",
    "\n",
    "        while pa is not pb:\n",
    "            # if either pointer hits the end, switch head and continue the second traversal, \n",
    "            # if not hit the end, just move on to next\n",
    "            pa = headB if pa is None else pa.next\n",
    "            pb = headA if pb is None else pb.next\n",
    "\n",
    "        return pa # only 2 ways to get out of the loop, they meet or the both hit the end=None\n",
    "\n",
    "# the idea is if you switch head, the possible difference between length would be countered. \n",
    "# On the second traversal, they either hit or miss. \n",
    "# if they meet, pa or pb would be the node we are looking for, \n",
    "# if they didn't meet, they will hit the end at the same iteration, pa == pb == None, return either one of them is the same,None"
   ]
  },
  {
   "cell_type": "markdown",
   "metadata": {},
   "source": [
    "# Plus One Linked List"
   ]
  },
  {
   "cell_type": "code",
   "execution_count": 1,
   "metadata": {},
   "outputs": [],
   "source": [
    "class Solution(object):\n",
    "    def plusOne(self, head):\n",
    "\n",
    "        dummy = ListNode(0)\n",
    "        dummy.next = head\n",
    "        start = end = dummy\n",
    "        \n",
    "        # start stops at the last non-9 digit, end loops over all\n",
    "        while end.next:\n",
    "            end = end.next\n",
    "            if end.val != 9:\n",
    "                start = end\n",
    "                \n",
    "        start.val += 1 # Plus One to start and set the rest 0\n",
    "        while start.next:\n",
    "            start = start.next\n",
    "            start.val = 0\n",
    "        \n",
    "        return dummy if dummy.val == 1 else dummy.next"
   ]
  },
  {
   "cell_type": "markdown",
   "metadata": {},
   "source": [
    "# [1019.](https://leetcode.com/problems/next-greater-node-in-linked-list/) Next Greater Node In Linked List\n",
    "\n",
    "Data Structure used: monotonic stack"
   ]
  },
  {
   "cell_type": "code",
   "execution_count": 2,
   "metadata": {},
   "outputs": [],
   "source": [
    "# Definition for singly-linked list.\n",
    "# class ListNode:\n",
    "#     def __init__(self, x):\n",
    "#         self.val = x\n",
    "#         self.next = None\n",
    "\n",
    "class Solution:\n",
    "    def nextLargerNodes(self, head):\n",
    "        nums = []\n",
    "        \n",
    "        while head:\n",
    "            nums.append(head.val)\n",
    "            head = head.next \n",
    "        \n",
    "        stack = [] \n",
    "        res = [0] * len(nums)\n",
    "        \n",
    "        for i in range(len(nums)-1, -1, -1): \n",
    "            while stack and stack[-1] <= nums[i]:\n",
    "                stack.pop()\n",
    "                \n",
    "            if not stack:\n",
    "                res[i] = 0\n",
    "            else:\n",
    "                res[i] = stack[-1]\n",
    "            \n",
    "            stack.append(nums[i])\n",
    "        \n",
    "        return res"
   ]
  },
  {
   "cell_type": "markdown",
   "metadata": {},
   "source": [
    "# Convert Binary Search Tree to Doubly Linked List\n",
    "\n",
    "注意链表最后要闭合"
   ]
  },
  {
   "cell_type": "code",
   "execution_count": 3,
   "metadata": {},
   "outputs": [],
   "source": [
    "\"\"\"\n",
    "# Definition for a Node.\n",
    "class Node:\n",
    "    def __init__(self, val, left=None, right=None):\n",
    "        self.val = val\n",
    "        self.left = left\n",
    "        self.right = right\n",
    "\"\"\"\n",
    "\n",
    "class Solution(object):\n",
    "    def treeToDoublyList(self, root):\n",
    "        \n",
    "        if not root:\n",
    "            return\n",
    "        \n",
    "        self.head = Node(-1)\n",
    "        self.curr = self.head\n",
    "        \n",
    "        self.aux(root)\n",
    "        \n",
    "        self.curr.right = self.head.right\n",
    "        self.head.right.left = self.curr \n",
    "        \n",
    "        return self.head.right\n",
    "        \n",
    "    def aux(self, root):\n",
    "        if not root:\n",
    "            return \n",
    "        \n",
    "        if root.left:\n",
    "            self.aux(root.left)\n",
    "    \n",
    "        self.curr.right = root\n",
    "        root.left = self.curr\n",
    "        self.curr = root \n",
    "        \n",
    "        if root.right:\n",
    "            self.aux(root.right) "
   ]
  },
  {
   "cell_type": "code",
   "execution_count": null,
   "metadata": {},
   "outputs": [],
   "source": []
  }
 ],
 "metadata": {
  "kernelspec": {
   "display_name": "Python 3",
   "language": "python",
   "name": "python3"
  },
  "language_info": {
   "codemirror_mode": {
    "name": "ipython",
    "version": 3
   },
   "file_extension": ".py",
   "mimetype": "text/x-python",
   "name": "python",
   "nbconvert_exporter": "python",
   "pygments_lexer": "ipython3",
   "version": "3.7.3"
  }
 },
 "nbformat": 4,
 "nbformat_minor": 2
}
